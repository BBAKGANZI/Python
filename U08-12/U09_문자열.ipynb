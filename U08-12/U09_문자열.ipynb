{
  "nbformat": 4,
  "nbformat_minor": 0,
  "metadata": {
    "colab": {
      "name": "U09_문자열.ipynb",
      "provenance": [],
      "collapsed_sections": []
    },
    "kernelspec": {
      "name": "python3",
      "display_name": "Python 3"
    },
    "language_info": {
      "name": "python"
    }
  },
  "cells": [
    {
      "cell_type": "markdown",
      "metadata": {
        "id": "uHzxWFQJbx7N"
      },
      "source": [
        "# Unit 9. 문자열"
      ]
    },
    {
      "cell_type": "code",
      "metadata": {
        "colab": {
          "base_uri": "https://localhost:8080/"
        },
        "id": "vk0ntYDSWwrz",
        "outputId": "1dfb56ba-5ba0-457c-eb91-112012c3985c"
      },
      "source": [
        "hello = 'Hello, world!'     #큰따옴표와 작은따옴표 출력은 동일\n",
        "hello2 = \"Hello, world!\"\n",
        "hello, hello2"
      ],
      "execution_count": 3,
      "outputs": [
        {
          "output_type": "execute_result",
          "data": {
            "text/plain": [
              "('Hello, world!', 'Hello, world!')"
            ]
          },
          "metadata": {
            "tags": []
          },
          "execution_count": 3
        }
      ]
    },
    {
      "cell_type": "code",
      "metadata": {
        "colab": {
          "base_uri": "https://localhost:8080/",
          "height": 35
        },
        "id": "MaFWbq-xc7Nf",
        "outputId": "bea54faf-7677-4e2b-a85c-1536e47794d0"
      },
      "source": [
        "multiline = '''Hello!\n",
        "World!'''\n",
        "multiline"
      ],
      "execution_count": 4,
      "outputs": [
        {
          "output_type": "execute_result",
          "data": {
            "application/vnd.google.colaboratory.intrinsic+json": {
              "type": "string"
            },
            "text/plain": [
              "'Hello!\\nWorld!'"
            ]
          },
          "metadata": {
            "tags": []
          },
          "execution_count": 4
        }
      ]
    },
    {
      "cell_type": "code",
      "metadata": {
        "colab": {
          "base_uri": "https://localhost:8080/",
          "height": 35
        },
        "id": "nJRivmnQdX0B",
        "outputId": "6dbd1b41-d0fa-4616-fd0e-fc92bf277ab9"
      },
      "source": [
        "multi = 'Hello!\\nWorld!'\n",
        "multi"
      ],
      "execution_count": 5,
      "outputs": [
        {
          "output_type": "execute_result",
          "data": {
            "application/vnd.google.colaboratory.intrinsic+json": {
              "type": "string"
            },
            "text/plain": [
              "'Hello!\\nWorld!'"
            ]
          },
          "metadata": {
            "tags": []
          },
          "execution_count": 5
        }
      ]
    },
    {
      "cell_type": "code",
      "metadata": {
        "colab": {
          "base_uri": "https://localhost:8080/"
        },
        "id": "ffGyVyU_dzWR",
        "outputId": "1b75201f-aa28-425a-f280-aa8395ddf29c"
      },
      "source": [
        "print(multi)"
      ],
      "execution_count": 6,
      "outputs": [
        {
          "output_type": "stream",
          "text": [
            "Hello!\n",
            "World!\n"
          ],
          "name": "stdout"
        }
      ]
    },
    {
      "cell_type": "code",
      "metadata": {
        "colab": {
          "base_uri": "https://localhost:8080/",
          "height": 136
        },
        "id": "TKp0GXePd1Qp",
        "outputId": "db4210a7-0140-4512-b387-59017f56b7d3"
      },
      "source": [
        "s = 'Python isn't difficult.'   #텍스트 안에 작은 따옴표가 있을시 에러 발생"
      ],
      "execution_count": 14,
      "outputs": [
        {
          "output_type": "error",
          "ename": "SyntaxError",
          "evalue": "ignored",
          "traceback": [
            "\u001b[0;36m  File \u001b[0;32m\"<ipython-input-14-bc65080ec5d6>\"\u001b[0;36m, line \u001b[0;32m1\u001b[0m\n\u001b[0;31m    s = 'Python isn't difficult.'   #텍스트 안에 작은 따옴표가 있을시 에러 발생\u001b[0m\n\u001b[0m                    ^\u001b[0m\n\u001b[0;31mSyntaxError\u001b[0m\u001b[0;31m:\u001b[0m invalid syntax\n"
          ]
        }
      ]
    },
    {
      "cell_type": "code",
      "metadata": {
        "colab": {
          "base_uri": "https://localhost:8080/",
          "height": 35
        },
        "id": "SATn5gCvefmW",
        "outputId": "c48c31fa-98a7-4226-cdab-550f4cac0e46"
      },
      "source": [
        "s = \"Python isn't difficult.\"   #텍스트 안에 작은 따옴표가 있을시 큰 따옴표\n",
        "s"
      ],
      "execution_count": 9,
      "outputs": [
        {
          "output_type": "execute_result",
          "data": {
            "application/vnd.google.colaboratory.intrinsic+json": {
              "type": "string"
            },
            "text/plain": [
              "\"Python isn't difficult.\""
            ]
          },
          "metadata": {
            "tags": []
          },
          "execution_count": 9
        }
      ]
    },
    {
      "cell_type": "code",
      "metadata": {
        "colab": {
          "base_uri": "https://localhost:8080/",
          "height": 35
        },
        "id": "L1xmr5iOej-k",
        "outputId": "da259746-77c8-4b08-b73c-7c9e48b858f5"
      },
      "source": [
        "s = 'Alice said \"I love you.\"'\n",
        "s"
      ],
      "execution_count": 10,
      "outputs": [
        {
          "output_type": "execute_result",
          "data": {
            "application/vnd.google.colaboratory.intrinsic+json": {
              "type": "string"
            },
            "text/plain": [
              "'Alice said \"I love you.\"'"
            ]
          },
          "metadata": {
            "tags": []
          },
          "execution_count": 10
        }
      ]
    },
    {
      "cell_type": "code",
      "metadata": {
        "colab": {
          "base_uri": "https://localhost:8080/",
          "height": 35
        },
        "id": "AZPJ-gzxeugo",
        "outputId": "9819aa18-fb0e-439f-f3cf-f5331990960c"
      },
      "source": [
        "s = 'Python isn\\'t difficult.'  #백슬래쉬 사용시 그 다음 자리 의미 갖지 않음\n",
        "s"
      ],
      "execution_count": 13,
      "outputs": [
        {
          "output_type": "execute_result",
          "data": {
            "application/vnd.google.colaboratory.intrinsic+json": {
              "type": "string"
            },
            "text/plain": [
              "\"Python isn't difficult.\""
            ]
          },
          "metadata": {
            "tags": []
          },
          "execution_count": 13
        }
      ]
    },
    {
      "cell_type": "code",
      "metadata": {
        "id": "22s5y9DGe73V"
      },
      "source": [
        ""
      ],
      "execution_count": null,
      "outputs": []
    }
  ]
}