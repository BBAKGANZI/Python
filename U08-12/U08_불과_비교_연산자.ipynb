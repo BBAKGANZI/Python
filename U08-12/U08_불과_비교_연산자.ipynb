{
  "nbformat": 4,
  "nbformat_minor": 2,
  "metadata": {
    "colab": {
      "name": "U08_불과 비교 연산자.ipynb",
      "provenance": [],
      "collapsed_sections": []
    },
    "kernelspec": {
      "name": "python3",
      "display_name": "Python 3"
    },
    "language_info": {
      "name": "python"
    }
  },
  "cells": [
    {
      "cell_type": "markdown",
      "source": [
        "# Unit 8. 불과 비교/논리 연산자"
      ],
      "metadata": {
        "id": "XNsEvo0sebdz"
      }
    },
    {
      "cell_type": "markdown",
      "source": [
        "## 8.1 불(Bool)과 비교연산자"
      ],
      "metadata": {
        "id": "FkIlqkM6eiI6"
      }
    },
    {
      "cell_type": "code",
      "execution_count": 1,
      "source": [
        "True, False"
      ],
      "outputs": [
        {
          "output_type": "execute_result",
          "data": {
            "text/plain": [
              "(True, False)"
            ]
          },
          "metadata": {
            "tags": []
          },
          "execution_count": 1
        }
      ],
      "metadata": {
        "colab": {
          "base_uri": "https://localhost:8080/"
        },
        "id": "YUWeZ2rheTSE",
        "outputId": "e1608068-9242-4f6d-dd0f-daf052eeec03"
      }
    },
    {
      "cell_type": "code",
      "execution_count": 2,
      "source": [
        "# >, >=, <, <=, ==, !=\r\n",
        "10 >= 5, 10 >= 6"
      ],
      "outputs": [
        {
          "output_type": "execute_result",
          "data": {
            "text/plain": [
              "True"
            ]
          },
          "metadata": {
            "tags": []
          },
          "execution_count": 2
        }
      ],
      "metadata": {
        "colab": {
          "base_uri": "https://localhost:8080/"
        },
        "id": "OnRjWPT8e7zX",
        "outputId": "5c9b781f-b4c1-4a2a-aa6d-c936f4fe77d7"
      }
    },
    {
      "cell_type": "code",
      "execution_count": 3,
      "source": [
        "a = 10 != 5\r\n",
        "a"
      ],
      "outputs": [
        {
          "output_type": "execute_result",
          "data": {
            "text/plain": [
              "True"
            ]
          },
          "metadata": {
            "tags": []
          },
          "execution_count": 3
        }
      ],
      "metadata": {
        "colab": {
          "base_uri": "https://localhost:8080/"
        },
        "id": "PzPYSU5TfyIJ",
        "outputId": "a527ff82-29ff-4d54-bc7a-3dc64f5a1bb8"
      }
    },
    {
      "cell_type": "code",
      "execution_count": 4,
      "source": [
        "'Python' == 'python'"
      ],
      "outputs": [
        {
          "output_type": "execute_result",
          "data": {
            "text/plain": [
              "False"
            ]
          },
          "metadata": {
            "tags": []
          },
          "execution_count": 4
        }
      ],
      "metadata": {
        "colab": {
          "base_uri": "https://localhost:8080/"
        },
        "id": "k43HjcBigEHS",
        "outputId": "95bd1df0-58d8-4b52-8133-0fc92b28623b"
      }
    },
    {
      "cell_type": "markdown",
      "source": [
        "## 8.2 논리연산자\r\n",
        "- and, or, not"
      ],
      "metadata": {
        "id": "tNMl-T-xgm-u"
      }
    },
    {
      "cell_type": "code",
      "execution_count": 6,
      "source": [
        "not True and False or not False"
      ],
      "outputs": [
        {
          "output_type": "execute_result",
          "data": {
            "text/plain": [
              "True"
            ]
          },
          "metadata": {
            "tags": []
          },
          "execution_count": 6
        }
      ],
      "metadata": {
        "colab": {
          "base_uri": "https://localhost:8080/"
        },
        "id": "jhEydusjgOae",
        "outputId": "7bb57141-c7b1-4854-a9d0-09dae2deafd8"
      }
    },
    {
      "cell_type": "code",
      "execution_count": 7,
      "source": [
        "((not True) and False) or (not False)"
      ],
      "outputs": [
        {
          "output_type": "execute_result",
          "data": {
            "text/plain": [
              "True"
            ]
          },
          "metadata": {
            "tags": []
          },
          "execution_count": 7
        }
      ],
      "metadata": {
        "colab": {
          "base_uri": "https://localhost:8080/"
        },
        "id": "F4pQM1mKkHj-",
        "outputId": "2edc04bd-2a2a-41dc-fe24-2637f18827bc"
      }
    },
    {
      "cell_type": "code",
      "execution_count": 8,
      "source": [
        "# x > 10, x < 5\r\n",
        "x = 6\r\n",
        "x > 10 or x < 5"
      ],
      "outputs": [
        {
          "output_type": "execute_result",
          "data": {
            "text/plain": [
              "False"
            ]
          },
          "metadata": {
            "tags": []
          },
          "execution_count": 8
        }
      ],
      "metadata": {
        "colab": {
          "base_uri": "https://localhost:8080/"
        },
        "id": "hVYOmO0DkPMe",
        "outputId": "fa81c16e-4d2c-41a7-fea1-99f54f5edb5f"
      }
    },
    {
      "cell_type": "code",
      "execution_count": 10,
      "source": [
        "# 5 < x < 10\r\n",
        "x > 5 and x < 10"
      ],
      "outputs": [
        {
          "output_type": "execute_result",
          "data": {
            "text/plain": [
              "True"
            ]
          },
          "metadata": {
            "tags": []
          },
          "execution_count": 10
        }
      ],
      "metadata": {
        "colab": {
          "base_uri": "https://localhost:8080/"
        },
        "id": "-EVEZ564kiXb",
        "outputId": "90b337f9-2c0d-46c5-e78f-eb12e80ccbe7"
      }
    },
    {
      "cell_type": "code",
      "execution_count": 12,
      "source": [
        "# 파이썬에서만 쓸 쑤 있는 표현\r\n",
        "5 < x < 10"
      ],
      "outputs": [
        {
          "output_type": "execute_result",
          "data": {
            "text/plain": [
              "True"
            ]
          },
          "metadata": {
            "tags": []
          },
          "execution_count": 12
        }
      ],
      "metadata": {
        "colab": {
          "base_uri": "https://localhost:8080/"
        },
        "id": "SLYy69XVkp20",
        "outputId": "a9def59a-db99-4e29-e7e5-88d3b8eb3f2a"
      }
    },
    {
      "cell_type": "markdown",
      "source": [
        "### 정수, 실수, 문자열"
      ],
      "metadata": {
        "id": "WfZxeVZPlGFu"
      }
    },
    {
      "cell_type": "code",
      "execution_count": 15,
      "source": [
        "bool(0), bool(1), bool(4)"
      ],
      "outputs": [
        {
          "output_type": "execute_result",
          "data": {
            "text/plain": [
              "(False, True, True)"
            ]
          },
          "metadata": {
            "tags": []
          },
          "execution_count": 15
        }
      ],
      "metadata": {
        "colab": {
          "base_uri": "https://localhost:8080/"
        },
        "id": "WWqdnIJKkwG4",
        "outputId": "5c7c9062-8647-43b6-829f-81f94a29cb25"
      }
    },
    {
      "cell_type": "code",
      "execution_count": 17,
      "source": [
        "bool(0.0), bool(1.), bool(-4.), bool(0.1)"
      ],
      "outputs": [
        {
          "output_type": "execute_result",
          "data": {
            "text/plain": [
              "(False, True, True, True)"
            ]
          },
          "metadata": {
            "tags": []
          },
          "execution_count": 17
        }
      ],
      "metadata": {
        "colab": {
          "base_uri": "https://localhost:8080/"
        },
        "id": "afC41U4elQzY",
        "outputId": "cbffc336-4bb8-4323-a6f0-641bf530b13b"
      }
    },
    {
      "cell_type": "code",
      "execution_count": 18,
      "source": [
        "bool(''), bool('s'), bool(' ')"
      ],
      "outputs": [
        {
          "output_type": "execute_result",
          "data": {
            "text/plain": [
              "(False, True, True)"
            ]
          },
          "metadata": {
            "tags": []
          },
          "execution_count": 18
        }
      ],
      "metadata": {
        "colab": {
          "base_uri": "https://localhost:8080/"
        },
        "id": "3kUoXZgrleKN",
        "outputId": "5f5f0342-b9a2-4332-c848-827a16ad3107"
      }
    },
    {
      "cell_type": "code",
      "execution_count": 20,
      "source": [
        "if 4:\r\n",
        "  print('4 is True')"
      ],
      "outputs": [
        {
          "output_type": "stream",
          "name": "stdout",
          "text": [
            "4 is True\n"
          ]
        }
      ],
      "metadata": {
        "colab": {
          "base_uri": "https://localhost:8080/"
        },
        "id": "JloG8I64lnKi",
        "outputId": "1a08dfa3-8a3f-4318-fbf7-1ddec6f74016"
      }
    },
    {
      "cell_type": "code",
      "execution_count": 22,
      "source": [
        "int(True), int(False)"
      ],
      "outputs": [
        {
          "output_type": "execute_result",
          "data": {
            "text/plain": [
              "(1, 0)"
            ]
          },
          "metadata": {
            "tags": []
          },
          "execution_count": 22
        }
      ],
      "metadata": {
        "colab": {
          "base_uri": "https://localhost:8080/"
        },
        "id": "7LPwKSCGlsIQ",
        "outputId": "d905bfa1-0698-48c4-dba0-5d31631788e0"
      }
    },
    {
      "cell_type": "markdown",
      "source": [
        "### Short-circuit evaluation"
      ],
      "metadata": {
        "id": "_021LRyzmo2g"
      }
    },
    {
      "cell_type": "code",
      "execution_count": 23,
      "source": [
        "1 or 'python'"
      ],
      "outputs": [
        {
          "output_type": "execute_result",
          "data": {
            "text/plain": [
              "1"
            ]
          },
          "metadata": {
            "tags": []
          },
          "execution_count": 23
        }
      ],
      "metadata": {
        "colab": {
          "base_uri": "https://localhost:8080/"
        },
        "id": "23Ar0kyMl-g9",
        "outputId": "795356bd-c1ea-4fdc-c116-70518573bf42"
      }
    },
    {
      "cell_type": "code",
      "execution_count": 24,
      "source": [
        "1 or 0"
      ],
      "outputs": [
        {
          "output_type": "execute_result",
          "data": {
            "text/plain": [
              "1"
            ]
          },
          "metadata": {
            "tags": []
          },
          "execution_count": 24
        }
      ],
      "metadata": {
        "colab": {
          "base_uri": "https://localhost:8080/"
        },
        "id": "GqCVFLMumO5R",
        "outputId": "55172eb4-c1a0-4361-88af-6ee728848c44"
      }
    },
    {
      "cell_type": "code",
      "execution_count": 25,
      "source": [
        "0 or 'python'"
      ],
      "outputs": [
        {
          "output_type": "execute_result",
          "data": {
            "text/plain": [
              "'python'"
            ],
            "application/vnd.google.colaboratory.intrinsic+json": {
              "type": "string"
            }
          },
          "metadata": {
            "tags": []
          },
          "execution_count": 25
        }
      ],
      "metadata": {
        "colab": {
          "base_uri": "https://localhost:8080/",
          "height": 35
        },
        "id": "0ms-6ifUmStp",
        "outputId": "7cd0998f-e3d9-4f06-d426-f0ee2a0fd1b5"
      }
    },
    {
      "cell_type": "code",
      "execution_count": 26,
      "source": [
        "0 or 1"
      ],
      "outputs": [
        {
          "output_type": "execute_result",
          "data": {
            "text/plain": [
              "1"
            ]
          },
          "metadata": {
            "tags": []
          },
          "execution_count": 26
        }
      ],
      "metadata": {
        "colab": {
          "base_uri": "https://localhost:8080/"
        },
        "id": "HdT4mYtlmVxd",
        "outputId": "30893f7e-9de7-433f-ec87-9a59a6c206da"
      }
    },
    {
      "cell_type": "code",
      "execution_count": 27,
      "source": [
        "1 and 'python'"
      ],
      "outputs": [
        {
          "output_type": "execute_result",
          "data": {
            "text/plain": [
              "'python'"
            ],
            "application/vnd.google.colaboratory.intrinsic+json": {
              "type": "string"
            }
          },
          "metadata": {
            "tags": []
          },
          "execution_count": 27
        }
      ],
      "metadata": {
        "colab": {
          "base_uri": "https://localhost:8080/",
          "height": 35
        },
        "id": "2-Z6xXp9mXea",
        "outputId": "e1ac9948-2212-4f5b-b8ae-a70a1d9db8e1"
      }
    },
    {
      "cell_type": "code",
      "execution_count": 28,
      "source": [
        "0 and 'python'"
      ],
      "outputs": [
        {
          "output_type": "execute_result",
          "data": {
            "text/plain": [
              "0"
            ]
          },
          "metadata": {
            "tags": []
          },
          "execution_count": 28
        }
      ],
      "metadata": {
        "colab": {
          "base_uri": "https://localhost:8080/"
        },
        "id": "g3hquW_DmeeO",
        "outputId": "27773bda-6597-4c11-b660-f948c46f3fde"
      }
    },
    {
      "cell_type": "code",
      "execution_count": null,
      "source": [],
      "outputs": [],
      "metadata": {
        "id": "oaihGbKymiz0"
      }
    }
  ]
}