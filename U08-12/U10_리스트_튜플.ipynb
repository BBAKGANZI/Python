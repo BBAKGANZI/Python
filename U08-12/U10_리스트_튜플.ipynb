{
  "nbformat": 4,
  "nbformat_minor": 0,
  "metadata": {
    "colab": {
      "name": "U10_리스트_튜플.ipynb",
      "provenance": [],
      "collapsed_sections": []
    },
    "kernelspec": {
      "name": "python3",
      "display_name": "Python 3"
    },
    "language_info": {
      "name": "python"
    }
  },
  "cells": [
    {
      "cell_type": "markdown",
      "metadata": {
        "id": "ZeL2Mrq2gcbu"
      },
      "source": [
        "# Unit 10. 리스트와 튜플"
      ]
    },
    {
      "cell_type": "markdown",
      "metadata": {
        "id": "c0OI-2gDiFAP"
      },
      "source": [
        "## 10.1 리스트"
      ]
    },
    {
      "cell_type": "code",
      "metadata": {
        "colab": {
          "base_uri": "https://localhost:8080/"
        },
        "id": "jOcOlfbngQke",
        "outputId": "2ce51c77-d8ba-407a-e974-38f4bc907727"
      },
      "source": [
        "a = [38, 21, 53, 62, 19]\n",
        "a"
      ],
      "execution_count": 1,
      "outputs": [
        {
          "output_type": "execute_result",
          "data": {
            "text/plain": [
              "[38, 21, 53, 62, 19]"
            ]
          },
          "metadata": {
            "tags": []
          },
          "execution_count": 1
        }
      ]
    },
    {
      "cell_type": "code",
      "metadata": {
        "colab": {
          "base_uri": "https://localhost:8080/"
        },
        "id": "ORD9orJRiLTk",
        "outputId": "cd593741-e6d1-44dd-e21f-cea284660782"
      },
      "source": [
        "# 파이썬에서는 리스트 엘리먼트가 다른 자료형도 가능\n",
        "person = ['James', 19, 175.4, True, [120, 80]]\n",
        "person"
      ],
      "execution_count": 5,
      "outputs": [
        {
          "output_type": "execute_result",
          "data": {
            "text/plain": [
              "['James', 19, 175.4, True, [120, 80]]"
            ]
          },
          "metadata": {
            "tags": []
          },
          "execution_count": 5
        }
      ]
    },
    {
      "cell_type": "code",
      "metadata": {
        "colab": {
          "base_uri": "https://localhost:8080/"
        },
        "id": "guroLGMjiic_",
        "outputId": "58afd2df-ca8e-43c5-c8d0-1d0bf6b7cb23"
      },
      "source": [
        "# 위의 person은 다음과 같은 Dictionary로 변경하는 것이 권장됨.\n",
        "# 순서의 변경은 출력시 ㄱ,ㄴ,ㄷ 순 즉, 알파벳순으로 출력됨.\n",
        "person_dict = {'name':'James', 'age':19, 'height':175.4,\n",
        "          'is_male':True, 'bp':[120, 80]}\n",
        "person_dict"
      ],
      "execution_count": 12,
      "outputs": [
        {
          "output_type": "execute_result",
          "data": {
            "text/plain": [
              "{'age': 19, 'bp': [120, 80], 'height': 175.4, 'is_male': True, 'name': 'James'}"
            ]
          },
          "metadata": {
            "tags": []
          },
          "execution_count": 12
        }
      ]
    },
    {
      "cell_type": "markdown",
      "metadata": {
        "id": "WaZCikFJjzNq"
      },
      "source": [
        "### 빈 리스트 만들기"
      ]
    },
    {
      "cell_type": "code",
      "metadata": {
        "colab": {
          "base_uri": "https://localhost:8080/"
        },
        "id": "f9tMdaz-jVUK",
        "outputId": "bc7f92eb-ec92-4c95-ff3b-b67e027f7310"
      },
      "source": [
        "a = []\n",
        "b= list()\n",
        "a, b"
      ],
      "execution_count": 11,
      "outputs": [
        {
          "output_type": "execute_result",
          "data": {
            "text/plain": [
              "([], [])"
            ]
          },
          "metadata": {
            "tags": []
          },
          "execution_count": 11
        }
      ]
    },
    {
      "cell_type": "code",
      "metadata": {
        "colab": {
          "base_uri": "https://localhost:8080/"
        },
        "id": "sEy_WP2Uj5aI",
        "outputId": "6b5718a6-e470-4f18-808e-bcf6ba7f4b66"
      },
      "source": [
        "a, b = [], []\n",
        "a, b"
      ],
      "execution_count": 13,
      "outputs": [
        {
          "output_type": "execute_result",
          "data": {
            "text/plain": [
              "([], [])"
            ]
          },
          "metadata": {
            "tags": []
          },
          "execution_count": 13
        }
      ]
    },
    {
      "cell_type": "markdown",
      "metadata": {
        "id": "wKDFsJ4AkWhY"
      },
      "source": [
        "### Range\n",
        "- range([시작숫자,] 끝나는 숫자±1 [,증가분])\n",
        "-  -> 끝나는 숫자가 양수 일시 +1\n",
        "-  -> 끝나는 숫자가 음수 일시 -1"
      ]
    },
    {
      "cell_type": "code",
      "metadata": {
        "colab": {
          "base_uri": "https://localhost:8080/"
        },
        "id": "DJyoAWvdkRY8",
        "outputId": "53092916-5b7f-4f9c-8d92-2ab1e383002a"
      },
      "source": [
        "a = range(10)\n",
        "a"
      ],
      "execution_count": 14,
      "outputs": [
        {
          "output_type": "execute_result",
          "data": {
            "text/plain": [
              "range(0, 10)"
            ]
          },
          "metadata": {
            "tags": []
          },
          "execution_count": 14
        }
      ]
    },
    {
      "cell_type": "code",
      "metadata": {
        "colab": {
          "base_uri": "https://localhost:8080/"
        },
        "id": "_zIb_RL4k8rC",
        "outputId": "3b44886e-f612-4e80-c6df-e6860c7af23b"
      },
      "source": [
        "list(a)"
      ],
      "execution_count": 15,
      "outputs": [
        {
          "output_type": "execute_result",
          "data": {
            "text/plain": [
              "[0, 1, 2, 3, 4, 5, 6, 7, 8, 9]"
            ]
          },
          "metadata": {
            "tags": []
          },
          "execution_count": 15
        }
      ]
    },
    {
      "cell_type": "code",
      "metadata": {
        "colab": {
          "base_uri": "https://localhost:8080/"
        },
        "id": "rjL8UcuilBsV",
        "outputId": "a60749c0-b91d-4cb2-f338-6e8a929e1d66"
      },
      "source": [
        "list(range(1,11))"
      ],
      "execution_count": 16,
      "outputs": [
        {
          "output_type": "execute_result",
          "data": {
            "text/plain": [
              "[1, 2, 3, 4, 5, 6, 7, 8, 9, 10]"
            ]
          },
          "metadata": {
            "tags": []
          },
          "execution_count": 16
        }
      ]
    },
    {
      "cell_type": "code",
      "metadata": {
        "colab": {
          "base_uri": "https://localhost:8080/"
        },
        "id": "QneKS-awlZ7T",
        "outputId": "ef5590d0-238e-4b34-bc2a-1a1c90f6de6f"
      },
      "source": [
        "list(range(1,10,2))"
      ],
      "execution_count": 17,
      "outputs": [
        {
          "output_type": "execute_result",
          "data": {
            "text/plain": [
              "[1, 3, 5, 7, 9]"
            ]
          },
          "metadata": {
            "tags": []
          },
          "execution_count": 17
        }
      ]
    },
    {
      "cell_type": "code",
      "metadata": {
        "colab": {
          "base_uri": "https://localhost:8080/"
        },
        "id": "QYWyx3AulqBr",
        "outputId": "825359d6-fde8-49a6-b854-41a894d069d6"
      },
      "source": [
        "list(range(2,11,2))"
      ],
      "execution_count": 18,
      "outputs": [
        {
          "output_type": "execute_result",
          "data": {
            "text/plain": [
              "[2, 4, 6, 8, 10]"
            ]
          },
          "metadata": {
            "tags": []
          },
          "execution_count": 18
        }
      ]
    },
    {
      "cell_type": "code",
      "metadata": {
        "colab": {
          "base_uri": "https://localhost:8080/"
        },
        "id": "46oIFBUklvGv",
        "outputId": "341654a5-d78b-45ae-fccc-318672bf9a6f"
      },
      "source": [
        "list(range(10,0,-1))"
      ],
      "execution_count": 19,
      "outputs": [
        {
          "output_type": "execute_result",
          "data": {
            "text/plain": [
              "[10, 9, 8, 7, 6, 5, 4, 3, 2, 1]"
            ]
          },
          "metadata": {
            "tags": []
          },
          "execution_count": 19
        }
      ]
    },
    {
      "cell_type": "markdown",
      "metadata": {
        "id": "jJ0WhMqso07u"
      },
      "source": [
        "## 10.2 튜플(Tuple)\n",
        "- Read-only 특성(변경 불가)"
      ]
    },
    {
      "cell_type": "code",
      "metadata": {
        "colab": {
          "base_uri": "https://localhost:8080/"
        },
        "id": "dqIS6UesobvG",
        "outputId": "8fed6717-e1f9-4080-89db-a0532d3c212b"
      },
      "source": [
        "a = (38, 21, 47)\n",
        "a"
      ],
      "execution_count": 20,
      "outputs": [
        {
          "output_type": "execute_result",
          "data": {
            "text/plain": [
              "(38, 21, 47)"
            ]
          },
          "metadata": {
            "tags": []
          },
          "execution_count": 20
        }
      ]
    },
    {
      "cell_type": "code",
      "metadata": {
        "colab": {
          "base_uri": "https://localhost:8080/"
        },
        "id": "rug2d8ido7Rp",
        "outputId": "fd9e4088-4c5c-4d73-f26b-d0736ef3e5c2"
      },
      "source": [
        "a = 38, 21, 47\n",
        "a"
      ],
      "execution_count": 21,
      "outputs": [
        {
          "output_type": "execute_result",
          "data": {
            "text/plain": [
              "(38, 21, 47)"
            ]
          },
          "metadata": {
            "tags": []
          },
          "execution_count": 21
        }
      ]
    },
    {
      "cell_type": "code",
      "metadata": {
        "colab": {
          "base_uri": "https://localhost:8080/"
        },
        "id": "TjvX_XQDpQc7",
        "outputId": "0a399c16-6aa0-4147-d427-ef9840fcb6bf"
      },
      "source": [
        "person = ['James', 19, 175.4, True, [120, 80]]\n",
        "person"
      ],
      "execution_count": 22,
      "outputs": [
        {
          "output_type": "execute_result",
          "data": {
            "text/plain": [
              "['James', 19, 175.4, True, [120, 80]]"
            ]
          },
          "metadata": {
            "tags": []
          },
          "execution_count": 22
        }
      ]
    },
    {
      "cell_type": "code",
      "metadata": {
        "colab": {
          "base_uri": "https://localhost:8080/"
        },
        "id": "5lamiF5dpRQo",
        "outputId": "40c8445b-0d71-43dd-d053-9c618a2353fa"
      },
      "source": [
        "a = tuple()\n",
        "a"
      ],
      "execution_count": 24,
      "outputs": [
        {
          "output_type": "execute_result",
          "data": {
            "text/plain": [
              "()"
            ]
          },
          "metadata": {
            "tags": []
          },
          "execution_count": 24
        }
      ]
    },
    {
      "cell_type": "code",
      "metadata": {
        "colab": {
          "base_uri": "https://localhost:8080/"
        },
        "id": "5dmOSsfepvVK",
        "outputId": "9a0e8a74-0be9-42d1-b4a2-94825974cbfa"
      },
      "source": [
        "# a는 정수\n",
        "a =(38)\n",
        "a"
      ],
      "execution_count": 27,
      "outputs": [
        {
          "output_type": "execute_result",
          "data": {
            "text/plain": [
              "38"
            ]
          },
          "metadata": {
            "tags": []
          },
          "execution_count": 27
        }
      ]
    },
    {
      "cell_type": "code",
      "metadata": {
        "colab": {
          "base_uri": "https://localhost:8080/"
        },
        "id": "wwN8s23dqKd9",
        "outputId": "cf04b9a3-e241-489c-e30b-b4640e4605c5"
      },
      "source": [
        "# a는 튜플\n",
        "a = (38,)\n",
        "a"
      ],
      "execution_count": 28,
      "outputs": [
        {
          "output_type": "execute_result",
          "data": {
            "text/plain": [
              "(38,)"
            ]
          },
          "metadata": {
            "tags": []
          },
          "execution_count": 28
        }
      ]
    },
    {
      "cell_type": "code",
      "metadata": {
        "colab": {
          "base_uri": "https://localhost:8080/"
        },
        "id": "Co0rjPU2qPAz",
        "outputId": "e211f6fc-5874-48fb-d611-b430ea9d94d7"
      },
      "source": [
        "tuple(range(5))"
      ],
      "execution_count": 29,
      "outputs": [
        {
          "output_type": "execute_result",
          "data": {
            "text/plain": [
              "(0, 1, 2, 3, 4)"
            ]
          },
          "metadata": {
            "tags": []
          },
          "execution_count": 29
        }
      ]
    },
    {
      "cell_type": "markdown",
      "metadata": {
        "id": "Xtc6f5cGqzNI"
      },
      "source": [
        "### 리스트 <--> 튜플"
      ]
    },
    {
      "cell_type": "code",
      "metadata": {
        "colab": {
          "base_uri": "https://localhost:8080/"
        },
        "id": "1TUHD8OMqsPE",
        "outputId": "4193c694-4766-4486-e97a-0511f89393e5"
      },
      "source": [
        "a = [1, 3, 4]\n",
        "b = tuple(a)\n",
        "b"
      ],
      "execution_count": 31,
      "outputs": [
        {
          "output_type": "execute_result",
          "data": {
            "text/plain": [
              "(1, 3, 4)"
            ]
          },
          "metadata": {
            "tags": []
          },
          "execution_count": 31
        }
      ]
    },
    {
      "cell_type": "code",
      "metadata": {
        "colab": {
          "base_uri": "https://localhost:8080/"
        },
        "id": "9i5MBJnzrDZI",
        "outputId": "a816d3fe-a50e-4eee-9b13-bc63d280455f"
      },
      "source": [
        "c = list(b)\n",
        "c"
      ],
      "execution_count": 32,
      "outputs": [
        {
          "output_type": "execute_result",
          "data": {
            "text/plain": [
              "[1, 3, 4]"
            ]
          },
          "metadata": {
            "tags": []
          },
          "execution_count": 32
        }
      ]
    },
    {
      "cell_type": "markdown",
      "metadata": {
        "id": "UXUBewKJrcRK"
      },
      "source": [
        "### 문자열"
      ]
    },
    {
      "cell_type": "code",
      "metadata": {
        "colab": {
          "base_uri": "https://localhost:8080/"
        },
        "id": "nClEWgPPrLFu",
        "outputId": "ae5e38f8-c86a-4a00-ef8c-b5032967d817"
      },
      "source": [
        "tuple('Hello')"
      ],
      "execution_count": 33,
      "outputs": [
        {
          "output_type": "execute_result",
          "data": {
            "text/plain": [
              "('H', 'e', 'l', 'l', 'o')"
            ]
          },
          "metadata": {
            "tags": []
          },
          "execution_count": 33
        }
      ]
    },
    {
      "cell_type": "code",
      "metadata": {
        "colab": {
          "base_uri": "https://localhost:8080/"
        },
        "id": "PFFQdRUiri3O",
        "outputId": "8c04497a-3c3a-4b01-a08a-6972c3389ed0"
      },
      "source": [
        "list('안녕하세요')"
      ],
      "execution_count": 35,
      "outputs": [
        {
          "output_type": "execute_result",
          "data": {
            "text/plain": [
              "['안', '녕', '하', '세', '요']"
            ]
          },
          "metadata": {
            "tags": []
          },
          "execution_count": 35
        }
      ]
    },
    {
      "cell_type": "markdown",
      "metadata": {
        "id": "BcND6Apgr1pE"
      },
      "source": [
        "### 언팩킹(Unpacking)"
      ]
    },
    {
      "cell_type": "code",
      "metadata": {
        "colab": {
          "base_uri": "https://localhost:8080/"
        },
        "id": "-_uEfYNWrmcO",
        "outputId": "94c60cd3-33da-42d3-f067-082b29b5a1e7"
      },
      "source": [
        "# Tuple unpacking(튜플은 엘리먼트 갯수가 맞으면 각 변수에 할당)\n",
        "a = (1, 3, 4)\n",
        "x, y, z = a\n",
        "x, y, z"
      ],
      "execution_count": 38,
      "outputs": [
        {
          "output_type": "execute_result",
          "data": {
            "text/plain": [
              "(1, 3, 4)"
            ]
          },
          "metadata": {
            "tags": []
          },
          "execution_count": 38
        }
      ]
    },
    {
      "cell_type": "code",
      "metadata": {
        "colab": {
          "base_uri": "https://localhost:8080/"
        },
        "id": "QbLT5Zn9sBQv",
        "outputId": "a24eb6b3-e93f-4c17-d487-7b2afe5e9974"
      },
      "source": [
        "# list unpacking\n",
        "x, y, z = [1, 3, 5]\n",
        "x, y, z"
      ],
      "execution_count": 39,
      "outputs": [
        {
          "output_type": "execute_result",
          "data": {
            "text/plain": [
              "(1, 3, 5)"
            ]
          },
          "metadata": {
            "tags": []
          },
          "execution_count": 39
        }
      ]
    },
    {
      "cell_type": "code",
      "metadata": {
        "id": "H-R5eMGQsX38"
      },
      "source": [
        ""
      ],
      "execution_count": null,
      "outputs": []
    }
  ]
}