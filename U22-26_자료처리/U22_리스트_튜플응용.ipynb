{
  "nbformat": 4,
  "nbformat_minor": 0,
  "metadata": {
    "colab": {
      "name": "U22_리스트_튜플응용.ipynb",
      "provenance": [],
      "collapsed_sections": []
    },
    "kernelspec": {
      "name": "python3",
      "display_name": "Python 3"
    },
    "language_info": {
      "name": "python"
    }
  },
  "cells": [
    {
      "cell_type": "markdown",
      "metadata": {
        "id": "S9kywRPLqUiU"
      },
      "source": [
        "# Unit 22. 리스트, 튜플 응용"
      ]
    },
    {
      "cell_type": "markdown",
      "metadata": {
        "id": "ftreqGDkqZvP"
      },
      "source": [
        "## 22.1 리스트 조작"
      ]
    },
    {
      "cell_type": "code",
      "metadata": {
        "id": "UVn-tucdqHTW"
      },
      "source": [
        "a = [10, 20, 30]"
      ],
      "execution_count": 1,
      "outputs": []
    },
    {
      "cell_type": "code",
      "metadata": {
        "colab": {
          "base_uri": "https://localhost:8080/"
        },
        "id": "Wq_RGo8grMV4",
        "outputId": "700a91ae-0457-4c21-d7ee-f750d01b0fbd"
      },
      "source": [
        "# 리스트 맨 뒤 요소 하나를 추가하는 method\n",
        "a.append(500)\n",
        "a"
      ],
      "execution_count": 3,
      "outputs": [
        {
          "output_type": "execute_result",
          "data": {
            "text/plain": [
              "[10, 20, 30, 500]"
            ]
          },
          "metadata": {
            "tags": []
          },
          "execution_count": 3
        }
      ]
    },
    {
      "cell_type": "code",
      "metadata": {
        "colab": {
          "base_uri": "https://localhost:8080/"
        },
        "id": "5jIlq8xTrWTV",
        "outputId": "15bc3046-58a1-4bf1-abb1-bfb979bc112c"
      },
      "source": [
        "a.append(['x','y'])\n",
        "a"
      ],
      "execution_count": 4,
      "outputs": [
        {
          "output_type": "execute_result",
          "data": {
            "text/plain": [
              "[10, 20, 30, 500, ['x', 'y']]"
            ]
          },
          "metadata": {
            "tags": []
          },
          "execution_count": 4
        }
      ]
    },
    {
      "cell_type": "code",
      "metadata": {
        "colab": {
          "base_uri": "https://localhost:8080/"
        },
        "id": "ILZ3CHCXrsC4",
        "outputId": "3ac5fea2-51f4-4187-a047-d30c23d3395e"
      },
      "source": [
        "b =[10, 20, 30]\n",
        "b.extend(['x','y'])\n",
        "b"
      ],
      "execution_count": 5,
      "outputs": [
        {
          "output_type": "execute_result",
          "data": {
            "text/plain": [
              "[10, 20, 30, 'x', 'y']"
            ]
          },
          "metadata": {
            "tags": []
          },
          "execution_count": 5
        }
      ]
    },
    {
      "cell_type": "code",
      "metadata": {
        "colab": {
          "base_uri": "https://localhost:8080/"
        },
        "id": "uz0N41Mhr2_X",
        "outputId": "df2a9316-50a2-4820-f979-7ec0b5710466"
      },
      "source": [
        "empty_list = []\n",
        "for i in range(5):\n",
        "    empty_list.append(i)\n",
        "empty_list"
      ],
      "execution_count": 6,
      "outputs": [
        {
          "output_type": "execute_result",
          "data": {
            "text/plain": [
              "[0, 1, 2, 3, 4]"
            ]
          },
          "metadata": {
            "tags": []
          },
          "execution_count": 6
        }
      ]
    },
    {
      "cell_type": "code",
      "metadata": {
        "colab": {
          "base_uri": "https://localhost:8080/"
        },
        "id": "o8A7hF2csUV6",
        "outputId": "dad7435e-af36-429e-a382-dc6d88c7b7fe"
      },
      "source": [
        "del a[4]\n",
        "a"
      ],
      "execution_count": 7,
      "outputs": [
        {
          "output_type": "execute_result",
          "data": {
            "text/plain": [
              "[10, 20, 30, 500]"
            ]
          },
          "metadata": {
            "tags": []
          },
          "execution_count": 7
        }
      ]
    },
    {
      "cell_type": "markdown",
      "metadata": {
        "id": "Icmj-I8gt5SU"
      },
      "source": [
        "### Stack and Queue"
      ]
    },
    {
      "cell_type": "code",
      "metadata": {
        "colab": {
          "base_uri": "https://localhost:8080/"
        },
        "id": "WTb4IraYtCU4",
        "outputId": "3cbd5d52-9475-48f5-a8e5-2a412a45f248"
      },
      "source": [
        "stack = []\n",
        "# stack에 push\n",
        "stack.append(1); stack.append(2); stack.append(3);\n",
        "stack"
      ],
      "execution_count": 14,
      "outputs": [
        {
          "output_type": "execute_result",
          "data": {
            "text/plain": [
              "[1, 2, 3]"
            ]
          },
          "metadata": {
            "tags": []
          },
          "execution_count": 14
        }
      ]
    },
    {
      "cell_type": "code",
      "metadata": {
        "colab": {
          "base_uri": "https://localhost:8080/"
        },
        "id": "4XRS5cpwuLna",
        "outputId": "f6d6d29f-b630-45e6-c676-8c17ff08bc06"
      },
      "source": [
        "# stack으로부터 pop\n",
        "value = stack.pop()\n",
        "print(value, stack)"
      ],
      "execution_count": 15,
      "outputs": [
        {
          "output_type": "stream",
          "text": [
            "3 [1, 2]\n"
          ],
          "name": "stdout"
        }
      ]
    },
    {
      "cell_type": "code",
      "metadata": {
        "colab": {
          "base_uri": "https://localhost:8080/"
        },
        "id": "r4IKjNkxuNuQ",
        "outputId": "6c372bb9-f8c3-4066-b66b-80b0817d8ee7"
      },
      "source": [
        "queue = []\n",
        "# queue에 insert\n",
        "queue.insert(0, 1); queue.insert(0, 2); queue.insert(0, 3);\n",
        "queue"
      ],
      "execution_count": 18,
      "outputs": [
        {
          "output_type": "execute_result",
          "data": {
            "text/plain": [
              "[3, 2, 1]"
            ]
          },
          "metadata": {
            "tags": []
          },
          "execution_count": 18
        }
      ]
    },
    {
      "cell_type": "code",
      "metadata": {
        "colab": {
          "base_uri": "https://localhost:8080/"
        },
        "id": "Lq43QCO2uOt7",
        "outputId": "cf994f71-0da7-42f6-ef67-437fa0110cf6"
      },
      "source": [
        "# queue로부터 끄집어내기\n",
        "value = queue.pop()\n",
        "print(value, queue)"
      ],
      "execution_count": 19,
      "outputs": [
        {
          "output_type": "stream",
          "text": [
            "1 [3, 2]\n"
          ],
          "name": "stdout"
        }
      ]
    },
    {
      "cell_type": "markdown",
      "metadata": {
        "id": "Apk7ZFT4viD0"
      },
      "source": [
        "### 다양한 method"
      ]
    },
    {
      "cell_type": "code",
      "metadata": {
        "colab": {
          "base_uri": "https://localhost:8080/"
        },
        "id": "eWzuk584vSlW",
        "outputId": "6a103eea-a8d6-48d4-9e0a-c5a3e662d04a"
      },
      "source": [
        "a = [10, 20, 30, 40, 50, 10]\n",
        "a.index(30)"
      ],
      "execution_count": 24,
      "outputs": [
        {
          "output_type": "execute_result",
          "data": {
            "text/plain": [
              "2"
            ]
          },
          "metadata": {
            "tags": []
          },
          "execution_count": 24
        }
      ]
    },
    {
      "cell_type": "code",
      "metadata": {
        "id": "K4VbUq8qvzk8"
      },
      "source": [
        "num = 45\n",
        "if num in a:\n",
        "    idx = a. index(num)"
      ],
      "execution_count": 25,
      "outputs": []
    },
    {
      "cell_type": "code",
      "metadata": {
        "colab": {
          "base_uri": "https://localhost:8080/"
        },
        "id": "yG2X7-Tyv00B",
        "outputId": "699094a3-c984-462e-e4e5-5a87d9bfd878"
      },
      "source": [
        "a.count(10)"
      ],
      "execution_count": 26,
      "outputs": [
        {
          "output_type": "execute_result",
          "data": {
            "text/plain": [
              "2"
            ]
          },
          "metadata": {
            "tags": []
          },
          "execution_count": 26
        }
      ]
    },
    {
      "cell_type": "code",
      "metadata": {
        "colab": {
          "base_uri": "https://localhost:8080/"
        },
        "id": "sUfpsmXjwOST",
        "outputId": "70b68f39-cd1b-49ee-c3c9-00585adc581f"
      },
      "source": [
        "a.count(45)"
      ],
      "execution_count": 27,
      "outputs": [
        {
          "output_type": "execute_result",
          "data": {
            "text/plain": [
              "0"
            ]
          },
          "metadata": {
            "tags": []
          },
          "execution_count": 27
        }
      ]
    },
    {
      "cell_type": "code",
      "metadata": {
        "colab": {
          "base_uri": "https://localhost:8080/"
        },
        "id": "MisWU58wwRJd",
        "outputId": "e59e671f-8ecb-4acf-849b-9897a6dd912b"
      },
      "source": [
        "a = [10, 20, 30, 40, 50, 10]\n",
        "a.index(30)\n",
        "a.index(40)"
      ],
      "execution_count": 29,
      "outputs": [
        {
          "output_type": "execute_result",
          "data": {
            "text/plain": [
              "3"
            ]
          },
          "metadata": {
            "tags": []
          },
          "execution_count": 29
        }
      ]
    },
    {
      "cell_type": "code",
      "metadata": {
        "colab": {
          "base_uri": "https://localhost:8080/"
        },
        "id": "MbHV1SzNwuSr",
        "outputId": "0da704ba-89bc-4444-fe82-b7e5b7034e39"
      },
      "source": [
        "a = [10, 20, 30, 40, 50, 10]\n",
        "a.index(30), a.index(40)"
      ],
      "execution_count": 30,
      "outputs": [
        {
          "output_type": "execute_result",
          "data": {
            "text/plain": [
              "(2, 3)"
            ]
          },
          "metadata": {
            "tags": []
          },
          "execution_count": 30
        }
      ]
    },
    {
      "cell_type": "markdown",
      "metadata": {
        "id": "kEoCBTeOxLRQ"
      },
      "source": [
        "### 정렬(Sort)"
      ]
    },
    {
      "cell_type": "code",
      "metadata": {
        "colab": {
          "base_uri": "https://localhost:8080/"
        },
        "id": "m3qVDdt3wyxL",
        "outputId": "7a282489-a9a0-4f11-9c8a-28e15da6ab11"
      },
      "source": [
        "# 오른차순(ascending order)이 디폴트\n",
        "a = [20, 10, 15, 30, 40]\n",
        "a.sort()\n",
        "a"
      ],
      "execution_count": 38,
      "outputs": [
        {
          "output_type": "execute_result",
          "data": {
            "text/plain": [
              "[10, 15, 20, 30, 40]"
            ]
          },
          "metadata": {
            "tags": []
          },
          "execution_count": 38
        }
      ]
    },
    {
      "cell_type": "code",
      "metadata": {
        "colab": {
          "base_uri": "https://localhost:8080/"
        },
        "id": "85eYGxG3xVKi",
        "outputId": "0f16cdbe-00f1-4149-ceb1-a22b4ba4bb39"
      },
      "source": [
        "b = [20, 10, 15, 30, 40]\n",
        "sorted(b)"
      ],
      "execution_count": 34,
      "outputs": [
        {
          "output_type": "execute_result",
          "data": {
            "text/plain": [
              "[10, 15, 20, 30, 40]"
            ]
          },
          "metadata": {
            "tags": []
          },
          "execution_count": 34
        }
      ]
    },
    {
      "cell_type": "code",
      "metadata": {
        "colab": {
          "base_uri": "https://localhost:8080/"
        },
        "id": "_CeIbqlexmXr",
        "outputId": "0e4dc9d9-8eaf-4498-93d7-fb38444725de"
      },
      "source": [
        "b"
      ],
      "execution_count": 35,
      "outputs": [
        {
          "output_type": "execute_result",
          "data": {
            "text/plain": [
              "[20, 10, 15, 30, 40]"
            ]
          },
          "metadata": {
            "tags": []
          },
          "execution_count": 35
        }
      ]
    },
    {
      "cell_type": "code",
      "metadata": {
        "colab": {
          "base_uri": "https://localhost:8080/"
        },
        "id": "B6R-Ulm0xq8H",
        "outputId": "1234e47a-4d52-49c7-b969-3266b78a1765"
      },
      "source": [
        "b = [20, 10, 15, 30, 40]\n",
        "b = sorted(b)\n",
        "b"
      ],
      "execution_count": 37,
      "outputs": [
        {
          "output_type": "execute_result",
          "data": {
            "text/plain": [
              "[10, 15, 20, 30, 40]"
            ]
          },
          "metadata": {
            "tags": []
          },
          "execution_count": 37
        }
      ]
    },
    {
      "cell_type": "code",
      "metadata": {
        "colab": {
          "base_uri": "https://localhost:8080/"
        },
        "id": "PMpaKUmkx193",
        "outputId": "662d6f6a-f685-43de-c86e-0f7afa033f35"
      },
      "source": [
        "# 내림차순(descending order)\n",
        "a = [20, 10, 15, 30, 40]\n",
        "a.sort(reverse=True)\n",
        "a"
      ],
      "execution_count": 41,
      "outputs": [
        {
          "output_type": "execute_result",
          "data": {
            "text/plain": [
              "[40, 30, 20, 15, 10]"
            ]
          },
          "metadata": {
            "tags": []
          },
          "execution_count": 41
        }
      ]
    },
    {
      "cell_type": "code",
      "metadata": {
        "colab": {
          "base_uri": "https://localhost:8080/"
        },
        "id": "CsGX9HXByoK8",
        "outputId": "0a34d976-bbec-4e0d-8f0a-1d98e4c4806e"
      },
      "source": [
        "a = [20, 10, 15, 30, 40]\n",
        "a.sort(reverse=False)\n",
        "a"
      ],
      "execution_count": 42,
      "outputs": [
        {
          "output_type": "execute_result",
          "data": {
            "text/plain": [
              "[10, 15, 20, 30, 40]"
            ]
          },
          "metadata": {
            "tags": []
          },
          "execution_count": 42
        }
      ]
    },
    {
      "cell_type": "markdown",
      "metadata": {
        "id": "txgtphMHzKKL"
      },
      "source": [
        "## 22.2 리스트 할당과 복사"
      ]
    },
    {
      "cell_type": "code",
      "metadata": {
        "colab": {
          "base_uri": "https://localhost:8080/"
        },
        "id": "RoVA4m5Hyq8m",
        "outputId": "508b492f-3bd3-4028-ead2-80a5183410e8"
      },
      "source": [
        "# Shallow copy, pointer만 복사\n",
        "a = [0,0,0,0,0]\n",
        "b = a\n",
        "b"
      ],
      "execution_count": 46,
      "outputs": [
        {
          "output_type": "execute_result",
          "data": {
            "text/plain": [
              "[0, 0, 0, 0, 0]"
            ]
          },
          "metadata": {
            "tags": []
          },
          "execution_count": 46
        }
      ]
    },
    {
      "cell_type": "code",
      "metadata": {
        "colab": {
          "base_uri": "https://localhost:8080/"
        },
        "id": "TBWlnQg4zb2m",
        "outputId": "5ec945c3-8a97-421c-bef6-edbbc406f5b3"
      },
      "source": [
        "b[2] = 99\n",
        "b"
      ],
      "execution_count": 47,
      "outputs": [
        {
          "output_type": "execute_result",
          "data": {
            "text/plain": [
              "[0, 0, 99, 0, 0]"
            ]
          },
          "metadata": {
            "tags": []
          },
          "execution_count": 47
        }
      ]
    },
    {
      "cell_type": "code",
      "metadata": {
        "colab": {
          "base_uri": "https://localhost:8080/"
        },
        "id": "PJVaNVwwzdnD",
        "outputId": "e6cc8e73-16b5-4365-ad6a-375ed9988f95"
      },
      "source": [
        "a"
      ],
      "execution_count": 48,
      "outputs": [
        {
          "output_type": "execute_result",
          "data": {
            "text/plain": [
              "[0, 0, 99, 0, 0]"
            ]
          },
          "metadata": {
            "tags": []
          },
          "execution_count": 48
        }
      ]
    },
    {
      "cell_type": "code",
      "metadata": {
        "colab": {
          "base_uri": "https://localhost:8080/"
        },
        "id": "hdFWraq7zeno",
        "outputId": "92151afa-f75a-4dd6-9978-7b49a06d0284"
      },
      "source": [
        "# 데이터를 몽땅 별도의 기억장소에 복사\n",
        "a = [0,0,0,0,0]\n",
        "b = a.copy()\n",
        "b"
      ],
      "execution_count": 54,
      "outputs": [
        {
          "output_type": "execute_result",
          "data": {
            "text/plain": [
              "[0, 0, 0, 0, 0]"
            ]
          },
          "metadata": {
            "tags": []
          },
          "execution_count": 54
        }
      ]
    },
    {
      "cell_type": "code",
      "metadata": {
        "colab": {
          "base_uri": "https://localhost:8080/"
        },
        "id": "4tCQuzw8z3yx",
        "outputId": "210e334e-b9ff-4fff-b684-c1d7f06cc12c"
      },
      "source": [
        "b[2] = 99\n",
        "a"
      ],
      "execution_count": 55,
      "outputs": [
        {
          "output_type": "execute_result",
          "data": {
            "text/plain": [
              "[0, 0, 0, 0, 0]"
            ]
          },
          "metadata": {
            "tags": []
          },
          "execution_count": 55
        }
      ]
    },
    {
      "cell_type": "markdown",
      "metadata": {
        "id": "V3A_44tJ2jAX"
      },
      "source": [
        "## 22.3 리스트와 반복문"
      ]
    },
    {
      "cell_type": "code",
      "metadata": {
        "colab": {
          "base_uri": "https://localhost:8080/"
        },
        "id": "YkC-xnIuz6Ez",
        "outputId": "751baa8a-9456-4f8d-d3fb-90e414ba2bed"
      },
      "source": [
        "for fruit in ['apple', 'banana', 'cherry']:\n",
        "    print(fruit)"
      ],
      "execution_count": 56,
      "outputs": [
        {
          "output_type": "stream",
          "text": [
            "apple\n",
            "banana\n",
            "cherry\n"
          ],
          "name": "stdout"
        }
      ]
    },
    {
      "cell_type": "code",
      "metadata": {
        "colab": {
          "base_uri": "https://localhost:8080/"
        },
        "id": "I0yMfG5f2x7P",
        "outputId": "d42cdb29-5fd7-454a-97d5-383c5dcf949f"
      },
      "source": [
        "fruits = ['apple', 'banana', 'cherry']\n",
        "for index, fruit in enumerate(fruits):\n",
        "    print(index, fruit)"
      ],
      "execution_count": 57,
      "outputs": [
        {
          "output_type": "stream",
          "text": [
            "0 apple\n",
            "1 banana\n",
            "2 cherry\n"
          ],
          "name": "stdout"
        }
      ]
    },
    {
      "cell_type": "code",
      "metadata": {
        "colab": {
          "base_uri": "https://localhost:8080/"
        },
        "id": "TmKJASzs3JIY",
        "outputId": "a0ae3cd8-6ef1-4512-aac8-3d353bd0c261"
      },
      "source": [
        "for i in range(len(fruits)):\n",
        "    print(fruits[i])"
      ],
      "execution_count": 58,
      "outputs": [
        {
          "output_type": "stream",
          "text": [
            "apple\n",
            "banana\n",
            "cherry\n"
          ],
          "name": "stdout"
        }
      ]
    },
    {
      "cell_type": "markdown",
      "metadata": {
        "id": "hSa1y--U4Iur"
      },
      "source": [
        "## 22.4 리스트에서 min, max, sum 함수 활용"
      ]
    },
    {
      "cell_type": "code",
      "metadata": {
        "colab": {
          "base_uri": "https://localhost:8080/"
        },
        "id": "ysa8c-_031vN",
        "outputId": "29cc7442-3c4c-46c9-ee0e-4976e2f66ea5"
      },
      "source": [
        "a = [38, 21, 53, 62, 19]\n",
        "a.sort()\n",
        "a[0]    # min(a)"
      ],
      "execution_count": 62,
      "outputs": [
        {
          "output_type": "execute_result",
          "data": {
            "text/plain": [
              "19"
            ]
          },
          "metadata": {
            "tags": []
          },
          "execution_count": 62
        }
      ]
    },
    {
      "cell_type": "code",
      "metadata": {
        "colab": {
          "base_uri": "https://localhost:8080/"
        },
        "id": "f-SHv4z94wHj",
        "outputId": "b76a5e9d-eddf-4a27-87e8-fbcda4c33d92"
      },
      "source": [
        "a[-1]   # max(a)"
      ],
      "execution_count": 61,
      "outputs": [
        {
          "output_type": "execute_result",
          "data": {
            "text/plain": [
              "62"
            ]
          },
          "metadata": {
            "tags": []
          },
          "execution_count": 61
        }
      ]
    },
    {
      "cell_type": "code",
      "metadata": {
        "colab": {
          "base_uri": "https://localhost:8080/"
        },
        "id": "5kwaq-LZ40xW",
        "outputId": "187bd80f-ad01-43e3-8bbc-06aead84f76e"
      },
      "source": [
        "# a 원소의 합\n",
        "sum_of_list = 0\n",
        "for elem in a:\n",
        "    sum_of_list += elem\n",
        "sum_of_list, sum(a)"
      ],
      "execution_count": 63,
      "outputs": [
        {
          "output_type": "execute_result",
          "data": {
            "text/plain": [
              "(193, 193)"
            ]
          },
          "metadata": {
            "tags": []
          },
          "execution_count": 63
        }
      ]
    },
    {
      "cell_type": "code",
      "metadata": {
        "colab": {
          "base_uri": "https://localhost:8080/",
          "height": 208
        },
        "id": "3cGEXLue5wdV",
        "outputId": "366e1f3f-d097-4658-c3bc-6ace32f0d9f9"
      },
      "source": [
        "# 주의할 것\n",
        "sum = 0\n",
        "for elem in a:\n",
        "    sum += elem\n",
        "sum, sum(a)"
      ],
      "execution_count": 64,
      "outputs": [
        {
          "output_type": "error",
          "ename": "TypeError",
          "evalue": "ignored",
          "traceback": [
            "\u001b[0;31m---------------------------------------------------------------------------\u001b[0m",
            "\u001b[0;31mTypeError\u001b[0m                                 Traceback (most recent call last)",
            "\u001b[0;32m<ipython-input-64-48e554cf7574>\u001b[0m in \u001b[0;36m<module>\u001b[0;34m()\u001b[0m\n\u001b[1;32m      3\u001b[0m \u001b[0;32mfor\u001b[0m \u001b[0melem\u001b[0m \u001b[0;32min\u001b[0m \u001b[0ma\u001b[0m\u001b[0;34m:\u001b[0m\u001b[0;34m\u001b[0m\u001b[0;34m\u001b[0m\u001b[0m\n\u001b[1;32m      4\u001b[0m     \u001b[0msum\u001b[0m \u001b[0;34m+=\u001b[0m \u001b[0melem\u001b[0m\u001b[0;34m\u001b[0m\u001b[0;34m\u001b[0m\u001b[0m\n\u001b[0;32m----> 5\u001b[0;31m \u001b[0msum\u001b[0m\u001b[0;34m,\u001b[0m \u001b[0msum\u001b[0m\u001b[0;34m(\u001b[0m\u001b[0ma\u001b[0m\u001b[0;34m)\u001b[0m\u001b[0;34m\u001b[0m\u001b[0;34m\u001b[0m\u001b[0m\n\u001b[0m",
            "\u001b[0;31mTypeError\u001b[0m: 'int' object is not callable"
          ]
        }
      ]
    },
    {
      "cell_type": "markdown",
      "metadata": {
        "id": "V9Lt16Ei5r1_"
      },
      "source": [
        "## 22.5 리스트 표현식(Comprehension)"
      ]
    },
    {
      "cell_type": "code",
      "metadata": {
        "colab": {
          "base_uri": "https://localhost:8080/"
        },
        "id": "8vE_UdAV5Tha",
        "outputId": "2f6125fd-b6b0-4266-9fac-fde4cb3eb98e"
      },
      "source": [
        "[fruit for fruit in fruits]"
      ],
      "execution_count": 65,
      "outputs": [
        {
          "output_type": "execute_result",
          "data": {
            "text/plain": [
              "['apple', 'banana', 'cherry']"
            ]
          },
          "metadata": {
            "tags": []
          },
          "execution_count": 65
        }
      ]
    },
    {
      "cell_type": "code",
      "metadata": {
        "colab": {
          "base_uri": "https://localhost:8080/"
        },
        "id": "nx7LL4_66OoE",
        "outputId": "dce887e4-97ae-4b99-868e-0f0054bb9429"
      },
      "source": [
        "[fruit*index for index, fruit in enumerate(fruits)]"
      ],
      "execution_count": 66,
      "outputs": [
        {
          "output_type": "execute_result",
          "data": {
            "text/plain": [
              "['', 'banana', 'cherrycherry']"
            ]
          },
          "metadata": {
            "tags": []
          },
          "execution_count": 66
        }
      ]
    },
    {
      "cell_type": "code",
      "metadata": {
        "colab": {
          "base_uri": "https://localhost:8080/"
        },
        "id": "1hTi_Awe6nWX",
        "outputId": "1324129f-451f-496c-9594-7616283745ce"
      },
      "source": [
        "[i*i for i in range(1,11)]"
      ],
      "execution_count": 67,
      "outputs": [
        {
          "output_type": "execute_result",
          "data": {
            "text/plain": [
              "[1, 4, 9, 16, 25, 36, 49, 64, 81, 100]"
            ]
          },
          "metadata": {
            "tags": []
          },
          "execution_count": 67
        }
      ]
    },
    {
      "cell_type": "code",
      "metadata": {
        "colab": {
          "base_uri": "https://localhost:8080/"
        },
        "id": "f4tYKISf68fr",
        "outputId": "55180043-7d91-4326-d76d-b62010fef52f"
      },
      "source": [
        "list(i*i for i in range(1,11))"
      ],
      "execution_count": 68,
      "outputs": [
        {
          "output_type": "execute_result",
          "data": {
            "text/plain": [
              "[1, 4, 9, 16, 25, 36, 49, 64, 81, 100]"
            ]
          },
          "metadata": {
            "tags": []
          },
          "execution_count": 68
        }
      ]
    },
    {
      "cell_type": "code",
      "metadata": {
        "colab": {
          "base_uri": "https://localhost:8080/"
        },
        "id": "byMJ0mi_7QU5",
        "outputId": "d6c07e6c-415b-471d-a8c4-95103d3fadff"
      },
      "source": [
        "sq_list = []\n",
        "for i in range(1,11):\n",
        "    sq_list.append(i*i)\n",
        "\n",
        "sq_list"
      ],
      "execution_count": 70,
      "outputs": [
        {
          "output_type": "execute_result",
          "data": {
            "text/plain": [
              "[1, 4, 9, 16, 25, 36, 49, 64, 81, 100]"
            ]
          },
          "metadata": {
            "tags": []
          },
          "execution_count": 70
        }
      ]
    },
    {
      "cell_type": "markdown",
      "metadata": {
        "id": "8rFyOzNp8AGu"
      },
      "source": [
        "### 표현식에서 if 조건문 사용하기"
      ]
    },
    {
      "cell_type": "code",
      "metadata": {
        "colab": {
          "base_uri": "https://localhost:8080/"
        },
        "id": "pX2aLG1O7hQp",
        "outputId": "763c6f43-4433-4c34-8007-4bad83aa0c2c"
      },
      "source": [
        "[i*i for i in range(1,11,2)]"
      ],
      "execution_count": 71,
      "outputs": [
        {
          "output_type": "execute_result",
          "data": {
            "text/plain": [
              "[1, 9, 25, 49, 81]"
            ]
          },
          "metadata": {
            "tags": []
          },
          "execution_count": 71
        }
      ]
    },
    {
      "cell_type": "code",
      "metadata": {
        "colab": {
          "base_uri": "https://localhost:8080/"
        },
        "id": "QWmsT54w8Qp5",
        "outputId": "d705ff0b-961c-4c8d-aa9c-3e58001e3598"
      },
      "source": [
        "[i*i for i in range(1,11) if i % 2 ==1]"
      ],
      "execution_count": 72,
      "outputs": [
        {
          "output_type": "execute_result",
          "data": {
            "text/plain": [
              "[1, 9, 25, 49, 81]"
            ]
          },
          "metadata": {
            "tags": []
          },
          "execution_count": 72
        }
      ]
    },
    {
      "cell_type": "markdown",
      "metadata": {
        "id": "LfYHOvy58-6c"
      },
      "source": [
        "### for가 여러번 나오게 할 수 있음"
      ]
    },
    {
      "cell_type": "code",
      "metadata": {
        "colab": {
          "base_uri": "https://localhost:8080/"
        },
        "id": "eIM3YXyn8WGS",
        "outputId": "85a00aa4-963d-4468-e131-c9075f658e61"
      },
      "source": [
        "# 구구단\n",
        "a = [i*k for i in range(2, 10) for k in range(1, 10)]\n",
        "print(a)"
      ],
      "execution_count": 76,
      "outputs": [
        {
          "output_type": "stream",
          "text": [
            "[2, 4, 6, 8, 10, 12, 14, 16, 18, 3, 6, 9, 12, 15, 18, 21, 24, 27, 4, 8, 12, 16, 20, 24, 28, 32, 36, 5, 10, 15, 20, 25, 30, 35, 40, 45, 6, 12, 18, 24, 30, 36, 42, 48, 54, 7, 14, 21, 28, 35, 42, 49, 56, 63, 8, 16, 24, 32, 40, 48, 56, 64, 72, 9, 18, 27, 36, 45, 54, 63, 72, 81]\n"
          ],
          "name": "stdout"
        }
      ]
    },
    {
      "cell_type": "code",
      "metadata": {
        "colab": {
          "base_uri": "https://localhost:8080/"
        },
        "id": "Udavfh_T9TGB",
        "outputId": "b87faf40-2ace-40fa-a905-af00d9d8f0b0"
      },
      "source": [
        "a = [i*k for i in range(2,10)\n",
        "            for k in range(1,10)]\n",
        "print(a)"
      ],
      "execution_count": 79,
      "outputs": [
        {
          "output_type": "stream",
          "text": [
            "[2, 4, 6, 8, 10, 12, 14, 16, 18, 3, 6, 9, 12, 15, 18, 21, 24, 27, 4, 8, 12, 16, 20, 24, 28, 32, 36, 5, 10, 15, 20, 25, 30, 35, 40, 45, 6, 12, 18, 24, 30, 36, 42, 48, 54, 7, 14, 21, 28, 35, 42, 49, 56, 63, 8, 16, 24, 32, 40, 48, 56, 64, 72, 9, 18, 27, 36, 45, 54, 63, 72, 81]\n"
          ],
          "name": "stdout"
        }
      ]
    },
    {
      "cell_type": "markdown",
      "metadata": {
        "id": "vMqMJ-Ds-BlQ"
      },
      "source": [
        "## 22.6 map"
      ]
    },
    {
      "cell_type": "code",
      "metadata": {
        "colab": {
          "base_uri": "https://localhost:8080/"
        },
        "id": "qLec6Xct9v75",
        "outputId": "516cec5d-9ad1-451e-bcac-cc5885c71af0"
      },
      "source": [
        "a = [1.2, 2.5, 3.7, 4.6]\n",
        "for i in range(len(a)):\n",
        "    a[i] = int(a[i])\n",
        "a"
      ],
      "execution_count": 81,
      "outputs": [
        {
          "output_type": "execute_result",
          "data": {
            "text/plain": [
              "[1, 2, 3, 4]"
            ]
          },
          "metadata": {
            "tags": []
          },
          "execution_count": 81
        }
      ]
    },
    {
      "cell_type": "code",
      "metadata": {
        "colab": {
          "base_uri": "https://localhost:8080/"
        },
        "id": "Z1QRVIrv-cHa",
        "outputId": "40adaea8-34c1-4a36-f082-f5a8918a928c"
      },
      "source": [
        "a = [1.2, 2.5, 3.7, 4.6]\n",
        "for i in a:\n",
        "    i = int(i)\n",
        "a"
      ],
      "execution_count": 82,
      "outputs": [
        {
          "output_type": "execute_result",
          "data": {
            "text/plain": [
              "[1.2, 2.5, 3.7, 4.6]"
            ]
          },
          "metadata": {
            "tags": []
          },
          "execution_count": 82
        }
      ]
    },
    {
      "cell_type": "code",
      "metadata": {
        "colab": {
          "base_uri": "https://localhost:8080/"
        },
        "id": "OOXRmc8F-q2w",
        "outputId": "474fac69-be44-4ba3-eebe-d86b519e62f3"
      },
      "source": [
        "a = [1.2, 2.5, 3.7, 4.6]\n",
        "for i, val in enumerate(a):\n",
        "    a[i] = int(val)\n",
        "a"
      ],
      "execution_count": 84,
      "outputs": [
        {
          "output_type": "execute_result",
          "data": {
            "text/plain": [
              "[1, 2, 3, 4]"
            ]
          },
          "metadata": {
            "tags": []
          },
          "execution_count": 84
        }
      ]
    },
    {
      "cell_type": "code",
      "metadata": {
        "colab": {
          "base_uri": "https://localhost:8080/"
        },
        "id": "Yu-QaROZ-50G",
        "outputId": "ecfd92f0-fcd1-42d0-eadf-9fc452c4bdd8"
      },
      "source": [
        "a = [1.2, 2.3, 3.5 ,4.9]\n",
        "a = list(map(int, a))\n",
        "a"
      ],
      "execution_count": 86,
      "outputs": [
        {
          "output_type": "execute_result",
          "data": {
            "text/plain": [
              "[1, 2, 3, 4]"
            ]
          },
          "metadata": {
            "tags": []
          },
          "execution_count": 86
        }
      ]
    },
    {
      "cell_type": "code",
      "metadata": {
        "id": "TvNBeBoy_E1k"
      },
      "source": [
        "a = [1.2, 2.3, 3.5 ,4.9]\n",
        "a = list(map())\n",
        "a"
      ],
      "execution_count": null,
      "outputs": []
    },
    {
      "cell_type": "markdown",
      "metadata": {
        "id": "sXvXHuAh_5YF"
      },
      "source": [
        "## 22.7 tuple"
      ]
    },
    {
      "cell_type": "code",
      "metadata": {
        "colab": {
          "base_uri": "https://localhost:8080/"
        },
        "id": "CMpxnDpc_7ng",
        "outputId": "19007b9b-6f5e-406c-cbaa-80b442b8d42c"
      },
      "source": [
        "tuple(i*i for i in range(1,11) if i % 2 ==0)"
      ],
      "execution_count": 87,
      "outputs": [
        {
          "output_type": "execute_result",
          "data": {
            "text/plain": [
              "(4, 16, 36, 64, 100)"
            ]
          },
          "metadata": {
            "tags": []
          },
          "execution_count": 87
        }
      ]
    },
    {
      "cell_type": "code",
      "metadata": {
        "id": "zNLEK6jTAGrv"
      },
      "source": [
        ""
      ],
      "execution_count": null,
      "outputs": []
    }
  ]
}