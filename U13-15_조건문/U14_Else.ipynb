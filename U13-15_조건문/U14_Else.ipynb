{
  "nbformat": 4,
  "nbformat_minor": 0,
  "metadata": {
    "colab": {
      "name": "U14_Else.ipynb",
      "provenance": [],
      "collapsed_sections": []
    },
    "kernelspec": {
      "name": "python3",
      "display_name": "Python 3"
    },
    "language_info": {
      "name": "python"
    }
  },
  "cells": [
    {
      "cell_type": "markdown",
      "metadata": {
        "id": "WJyBpUBrl2TZ"
      },
      "source": [
        "# Unit 14. Else\n",
        "- else는 단독으로 사용 불가"
      ]
    },
    {
      "cell_type": "code",
      "metadata": {
        "colab": {
          "base_uri": "https://localhost:8080/"
        },
        "id": "YWP4DSGdlbiX",
        "outputId": "b4fc61b3-a5ac-4768-f02f-c4f3b378f44a"
      },
      "source": [
        "x = 5\n",
        "if x == 10:\n",
        "    print('It is 10.')\n",
        "else:\n",
        "    print('It is not 10.')"
      ],
      "execution_count": 1,
      "outputs": [
        {
          "output_type": "stream",
          "text": [
            "It is not 10.\n"
          ],
          "name": "stdout"
        }
      ]
    },
    {
      "cell_type": "markdown",
      "metadata": {
        "id": "U0qF9XW0murm"
      },
      "source": [
        "### 3항 연산자\n",
        "- Java, JS: a = (조건) ? 참일때의 값 : 거짓일때의 값\n",
        "- 파이썬: a = 참일떄의 값 if 조건 else 거짓일때의 값"
      ]
    },
    {
      "cell_type": "code",
      "metadata": {
        "colab": {
          "base_uri": "https://localhost:8080/",
          "height": 35
        },
        "id": "L0nZs374mZr7",
        "outputId": "6f02438b-bf93-4791-e36f-e08c6d25b59f"
      },
      "source": [
        "x = 1\n",
        "if x % 2 == 0:\n",
        "    y = 'even'\n",
        "else:\n",
        "    y = 'odd'\n",
        "y"
      ],
      "execution_count": 4,
      "outputs": [
        {
          "output_type": "execute_result",
          "data": {
            "application/vnd.google.colaboratory.intrinsic+json": {
              "type": "string"
            },
            "text/plain": [
              "'odd'"
            ]
          },
          "metadata": {
            "tags": []
          },
          "execution_count": 4
        }
      ]
    },
    {
      "cell_type": "code",
      "metadata": {
        "colab": {
          "base_uri": "https://localhost:8080/",
          "height": 35
        },
        "id": "aSAOHmcdnAoS",
        "outputId": "1b5e6bbe-19ec-406e-8c03-09982352619a"
      },
      "source": [
        "y = 'even' if x%2 == 0 else 'odd'\n",
        "y"
      ],
      "execution_count": 6,
      "outputs": [
        {
          "output_type": "execute_result",
          "data": {
            "application/vnd.google.colaboratory.intrinsic+json": {
              "type": "string"
            },
            "text/plain": [
              "'odd'"
            ]
          },
          "metadata": {
            "tags": []
          },
          "execution_count": 6
        }
      ]
    },
    {
      "cell_type": "markdown",
      "metadata": {
        "id": "A96wvddetklB"
      },
      "source": [
        "### 중첩 If문"
      ]
    },
    {
      "cell_type": "code",
      "metadata": {
        "colab": {
          "base_uri": "https://localhost:8080/"
        },
        "id": "Ui5QGxnMoNLf",
        "outputId": "21c65a84-05ab-45ca-aacf-6e2a32037e6d"
      },
      "source": [
        "# 90점 이상이면 'A', 80 ~ 89: B, 70 ~ 79: C, 60 ~ 69: D, ~59: F\n",
        "# if문 사용시 큰 숫자부터\n",
        "score = int(input('점수 입력> '))\n",
        "if score >= 90:\n",
        "    grade = 'A'\n",
        "else:\n",
        "    if score >= 80:\n",
        "        grade = 'B'\n",
        "    else:\n",
        "        if score >= 70:\n",
        "            grade = 'C'\n",
        "        else :\n",
        "            if score >= 60:\n",
        "                grade = 'D'\n",
        "            else:\n",
        "                grade = 'F'\n",
        "print(grade)"
      ],
      "execution_count": 20,
      "outputs": [
        {
          "output_type": "stream",
          "text": [
            "점수 입력> 10\n",
            "F\n"
          ],
          "name": "stdout"
        }
      ]
    },
    {
      "cell_type": "code",
      "metadata": {
        "colab": {
          "base_uri": "https://localhost:8080/",
          "height": 53
        },
        "id": "spdq4qyDo_Ks",
        "outputId": "4c075136-8859-4b0a-f94a-a846ee4a3d1f"
      },
      "source": [
        "# 백슬래쉬의 이유는 육안으로 식별이 어려움\n",
        "score = int(input('점수 입력> '))\n",
        "grade = 'A' if score >= 90 else \\\n",
        "            'B' if score >= 80 else \\\n",
        "                'C' if score >= 70 else \\\n",
        "                    'D' if score >= 60 else 'F'\n",
        "grade"
      ],
      "execution_count": 21,
      "outputs": [
        {
          "output_type": "stream",
          "text": [
            "점수 입력> 10\n"
          ],
          "name": "stdout"
        },
        {
          "output_type": "execute_result",
          "data": {
            "application/vnd.google.colaboratory.intrinsic+json": {
              "type": "string"
            },
            "text/plain": [
              "'F'"
            ]
          },
          "metadata": {
            "tags": []
          },
          "execution_count": 21
        }
      ]
    },
    {
      "cell_type": "markdown",
      "metadata": {
        "id": "c5yb4bmWtoBQ"
      },
      "source": [
        "### 조건식에서의 논리연산자"
      ]
    },
    {
      "cell_type": "code",
      "metadata": {
        "colab": {
          "base_uri": "https://localhost:8080/"
        },
        "id": "W0cGmE5zq7fV",
        "outputId": "fbb6698b-57d8-4890-d3e5-3535323668cb"
      },
      "source": [
        "x = 5\n",
        "if x > 0 and x < 10:\n",
        "    print('10보다 작은 양의 정수 입니다.> ')"
      ],
      "execution_count": 22,
      "outputs": [
        {
          "output_type": "stream",
          "text": [
            "10보다 작은 양의 정수 입니다.> \n"
          ],
          "name": "stdout"
        }
      ]
    },
    {
      "cell_type": "code",
      "metadata": {
        "colab": {
          "base_uri": "https://localhost:8080/"
        },
        "id": "zDHI3PvquraJ",
        "outputId": "ebc06a44-6570-4a89-8b68-3321a5ed8fab"
      },
      "source": [
        "# 파이썬에서만 가능!\n",
        "if 0 < x < 10:\n",
        "    print('10보다 작은 양의 정수 입니다.> ')"
      ],
      "execution_count": 24,
      "outputs": [
        {
          "output_type": "stream",
          "text": [
            "10보다 작은 양의 정수 입니다.> \n"
          ],
          "name": "stdout"
        }
      ]
    },
    {
      "cell_type": "code",
      "metadata": {
        "id": "JEWJF9j3u2Eo"
      },
      "source": [
        ""
      ],
      "execution_count": 24,
      "outputs": []
    }
  ]
}