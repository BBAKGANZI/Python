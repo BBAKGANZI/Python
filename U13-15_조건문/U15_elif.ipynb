{
  "nbformat": 4,
  "nbformat_minor": 0,
  "metadata": {
    "colab": {
      "name": "U15_elif.ipynb",
      "provenance": [],
      "collapsed_sections": []
    },
    "kernelspec": {
      "name": "python3",
      "display_name": "Python 3"
    },
    "language_info": {
      "name": "python"
    }
  },
  "cells": [
    {
      "cell_type": "markdown",
      "metadata": {
        "id": "xPoY5xTOoB3Y"
      },
      "source": [
        "# Unit 15. elif"
      ]
    },
    {
      "cell_type": "code",
      "metadata": {
        "colab": {
          "base_uri": "https://localhost:8080/"
        },
        "id": "R9vazSrdl1Es",
        "outputId": "e92d98ac-9f7d-4e60-df36-b188de120cc2"
      },
      "source": [
        "x = 215\n",
        "if x == 10:\n",
        "    print('It is 10.')\n",
        "elif x == 20:\n",
        "    print('It is 20.')\n",
        "else:\n",
        "    print('10, 20이 아닙니다. ')"
      ],
      "execution_count": 2,
      "outputs": [
        {
          "output_type": "stream",
          "text": [
            "10, 20이 아닙니다. \n"
          ],
          "name": "stdout"
        }
      ]
    },
    {
      "cell_type": "code",
      "metadata": {
        "colab": {
          "base_uri": "https://localhost:8080/"
        },
        "id": "iplYF6uhocZB",
        "outputId": "35925294-bfe0-468b-c7b4-4e1a2ee1a643"
      },
      "source": [
        "# 숫자 - 입력, 3의 배수면 Fizz, 5의 배수면 Buzz, 15의 배수면 FizzBuzz\n",
        "# 조건의 크기가 제일 작은거부터 조건 설정\n",
        "number = int(input())\n",
        "\n",
        "if number % 15 == 0:\n",
        "    print('FizzBuzz')\n",
        "elif number % 5 == 0:\n",
        "    print('Buzz')\n",
        "elif number % 3 == 0:\n",
        "    print('Fizz')\n",
        "else:\n",
        "    print(number)"
      ],
      "execution_count": 18,
      "outputs": [
        {
          "output_type": "stream",
          "text": [
            "15\n",
            "FizzBuzz\n"
          ],
          "name": "stdout"
        }
      ]
    },
    {
      "cell_type": "code",
      "metadata": {
        "colab": {
          "base_uri": "https://localhost:8080/"
        },
        "id": "PMDv7sSIq3ao",
        "outputId": "dd392b18-0515-4165-cd02-edfc228303ed"
      },
      "source": [
        "'Fizz' * False, 'Buzz' * True"
      ],
      "execution_count": 15,
      "outputs": [
        {
          "output_type": "execute_result",
          "data": {
            "text/plain": [
              "('', 'Buzz')"
            ]
          },
          "metadata": {
            "tags": []
          },
          "execution_count": 15
        }
      ]
    },
    {
      "cell_type": "code",
      "metadata": {
        "colab": {
          "base_uri": "https://localhost:8080/"
        },
        "id": "vX7xy0U9pSZe",
        "outputId": "7d21d4fc-d381-4e83-fa9d-a5ebfb53525b"
      },
      "source": [
        "print('Fizz'*(number%3==0) + 'Buzz'*(number%5==0) or number)"
      ],
      "execution_count": 19,
      "outputs": [
        {
          "output_type": "stream",
          "text": [
            "FizzBuzz\n"
          ],
          "name": "stdout"
        }
      ]
    },
    {
      "cell_type": "code",
      "metadata": {
        "id": "6IYFxX4WrYxF"
      },
      "source": [
        ""
      ],
      "execution_count": null,
      "outputs": []
    }
  ]
}