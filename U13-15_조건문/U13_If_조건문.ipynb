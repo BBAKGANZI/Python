{
  "nbformat": 4,
  "nbformat_minor": 0,
  "metadata": {
    "colab": {
      "name": "U13_If 조건문.ipynb",
      "provenance": [],
      "collapsed_sections": []
    },
    "kernelspec": {
      "name": "python3",
      "display_name": "Python 3"
    },
    "language_info": {
      "name": "python"
    }
  },
  "cells": [
    {
      "cell_type": "markdown",
      "metadata": {
        "id": "3VPRL55Fe_Ch"
      },
      "source": [
        "# Unit 13. If 조건문"
      ]
    },
    {
      "cell_type": "markdown",
      "metadata": {
        "id": "i9W0TNFzhch2"
      },
      "source": [
        "## 13.1 If 조건문"
      ]
    },
    {
      "cell_type": "code",
      "metadata": {
        "colab": {
          "base_uri": "https://localhost:8080/"
        },
        "id": "2Z9McokicpaC",
        "outputId": "6e1e433b-8b94-406a-9c49-d76387c581d9"
      },
      "source": [
        "x = 10\n",
        "if x == 10:\n",
        "    print('It is 10.')"
      ],
      "execution_count": 1,
      "outputs": [
        {
          "output_type": "stream",
          "text": [
            "It is 10.\n"
          ],
          "name": "stdout"
        }
      ]
    },
    {
      "cell_type": "code",
      "metadata": {
        "id": "Oc6OvDlRht7F"
      },
      "source": [
        "# 아무 실행이 되지 않는다.\n",
        "x = 9\n",
        "if x == 10:\n",
        "    print('It is 10.')"
      ],
      "execution_count": 3,
      "outputs": []
    },
    {
      "cell_type": "code",
      "metadata": {
        "colab": {
          "base_uri": "https://localhost:8080/",
          "height": 136
        },
        "id": "WSwAf8ILhw52",
        "outputId": "2859a730-d73c-49da-92ff-56c6d754ba7a"
      },
      "source": [
        "# 변수가 저장되지 않았음\n",
        "if x = 10:\n",
        "    print('It is 10.')"
      ],
      "execution_count": 10,
      "outputs": [
        {
          "output_type": "error",
          "ename": "SyntaxError",
          "evalue": "ignored",
          "traceback": [
            "\u001b[0;36m  File \u001b[0;32m\"<ipython-input-10-c46f9c3823c6>\"\u001b[0;36m, line \u001b[0;32m2\u001b[0m\n\u001b[0;31m    if x = 10:\u001b[0m\n\u001b[0m         ^\u001b[0m\n\u001b[0;31mSyntaxError\u001b[0m\u001b[0;31m:\u001b[0m invalid syntax\n"
          ]
        }
      ]
    },
    {
      "cell_type": "code",
      "metadata": {
        "colab": {
          "base_uri": "https://localhost:8080/"
        },
        "id": "FjedT0iyiHgx",
        "outputId": "08279396-717c-44a1-9aa3-a624767bc7d1"
      },
      "source": [
        "# x가 0일때만 거짓(false)!!!! 잘못된 함수!!\n",
        "x = 9\n",
        "if x:\n",
        "    print('It is 10.')"
      ],
      "execution_count": 11,
      "outputs": [
        {
          "output_type": "stream",
          "text": [
            "It is 10.\n"
          ],
          "name": "stdout"
        }
      ]
    },
    {
      "cell_type": "markdown",
      "metadata": {
        "id": "qT1Nx0wmi0AO"
      },
      "source": [
        "## 13.2 들여쓰기"
      ]
    },
    {
      "cell_type": "code",
      "metadata": {
        "colab": {
          "base_uri": "https://localhost:8080/"
        },
        "id": "Xb3-YszWiPjv",
        "outputId": "fe5eb637-370c-408e-84b8-60d35ec02799"
      },
      "source": [
        "x = 10\n",
        "\n",
        "if x --10:\n",
        "    print('x값은')\n",
        "    print('10입니다.')"
      ],
      "execution_count": 12,
      "outputs": [
        {
          "output_type": "stream",
          "text": [
            "x값은\n",
            "10입니다.\n"
          ],
          "name": "stdout"
        }
      ]
    },
    {
      "cell_type": "code",
      "metadata": {
        "colab": {
          "base_uri": "https://localhost:8080/",
          "height": 136
        },
        "id": "O7XLYCH-jKAe",
        "outputId": "281032ee-6cfb-4ae8-ff2f-a59445cb4071"
      },
      "source": [
        "# print('10입니다.') 들여쓰기가 한번 더 들어갔으므로 error\n",
        "x = 10\n",
        "\n",
        "if x --10:\n",
        "    print('x값은')\n",
        "        print('10입니다.')"
      ],
      "execution_count": 23,
      "outputs": [
        {
          "output_type": "error",
          "ename": "IndentationError",
          "evalue": "ignored",
          "traceback": [
            "\u001b[0;36m  File \u001b[0;32m\"<ipython-input-23-c48f772b3142>\"\u001b[0;36m, line \u001b[0;32m6\u001b[0m\n\u001b[0;31m    print('10입니다.')\u001b[0m\n\u001b[0m    ^\u001b[0m\n\u001b[0;31mIndentationError\u001b[0m\u001b[0;31m:\u001b[0m unexpected indent\n"
          ]
        }
      ]
    },
    {
      "cell_type": "code",
      "metadata": {
        "colab": {
          "base_uri": "https://localhost:8080/"
        },
        "id": "E4ShYI1IkgWG",
        "outputId": "9e362fb2-1ab1-49c1-a640-3b73d9425fe6"
      },
      "source": [
        "x = 10\n",
        "\n",
        "if x --10:\n",
        "    print('x값은')\n",
        "    if x >= 5:\n",
        "        print('10입니다.')"
      ],
      "execution_count": 26,
      "outputs": [
        {
          "output_type": "stream",
          "text": [
            "x값은\n",
            "10입니다.\n"
          ],
          "name": "stdout"
        }
      ]
    },
    {
      "cell_type": "code",
      "metadata": {
        "colab": {
          "base_uri": "https://localhost:8080/"
        },
        "id": "r46e8yjijMAV",
        "outputId": "b51a1658-b4b0-47d5-d910-25669e14f301"
      },
      "source": [
        "x = 10\n",
        "\n",
        "if x ==10:\n",
        "    print('x값은')\n",
        "    print('10입니다.')\n",
        "print('언제나 출력됩니다.')"
      ],
      "execution_count": 24,
      "outputs": [
        {
          "output_type": "stream",
          "text": [
            "x값은\n",
            "10입니다.\n",
            "언제나 출력됩니다.\n"
          ],
          "name": "stdout"
        }
      ]
    },
    {
      "cell_type": "code",
      "metadata": {
        "colab": {
          "base_uri": "https://localhost:8080/"
        },
        "id": "frrRch26jWQb",
        "outputId": "c2d6a3ec-83f0-4489-8b40-5f0349ee8290"
      },
      "source": [
        "x = 9\n",
        "\n",
        "if x ==10:\n",
        "    print('x값은')\n",
        "    print('10입니다.')\n",
        "print('언제나 출력됩니다.')"
      ],
      "execution_count": 22,
      "outputs": [
        {
          "output_type": "stream",
          "text": [
            "언제나 출력됩니다.\n"
          ],
          "name": "stdout"
        }
      ]
    },
    {
      "cell_type": "markdown",
      "metadata": {
        "id": "CdxEnE97j6as"
      },
      "source": [
        "## 13.3 중첩 If 조건문"
      ]
    },
    {
      "cell_type": "code",
      "metadata": {
        "colab": {
          "base_uri": "https://localhost:8080/"
        },
        "id": "kubzCn5jjkBc",
        "outputId": "ca09540e-722b-4d54-ff60-6c0dd7fb9e3c"
      },
      "source": [
        "x = 15\n",
        "if x > 10:\n",
        "    print('10보다 큰 숫자입니다.')\n",
        "    if x == 15:\n",
        "        print('15 입니다.')\n",
        "    if x == 20:\n",
        "        print('20 입니다.')"
      ],
      "execution_count": 25,
      "outputs": [
        {
          "output_type": "stream",
          "text": [
            "10보다 큰 숫자입니다.\n",
            "15 입니다.\n"
          ],
          "name": "stdout"
        }
      ]
    },
    {
      "cell_type": "code",
      "metadata": {
        "colab": {
          "base_uri": "https://localhost:8080/"
        },
        "id": "HE-wDNiAkdC9",
        "outputId": "153f4020-2e71-4d8b-b1fe-50702735f5a1"
      },
      "source": [
        "x = int(input('정수를 입력하세요> '))\n",
        "if x > 10:\n",
        "    print('10보다 큰 숫자입니다.')\n",
        "    if x == 15:\n",
        "        print('15 입니다.')\n",
        "    if x == 20:\n",
        "        print('20 입니다.')"
      ],
      "execution_count": 27,
      "outputs": [
        {
          "output_type": "stream",
          "text": [
            "정수를 입력하세요> 20\n",
            "10보다 큰 숫자입니다.\n",
            "20 입니다.\n"
          ],
          "name": "stdout"
        }
      ]
    },
    {
      "cell_type": "code",
      "metadata": {
        "colab": {
          "base_uri": "https://localhost:8080/"
        },
        "id": "k2F4OBZFk9Zu",
        "outputId": "fb4a0364-925b-4df3-acf4-bc006370735f"
      },
      "source": [
        "x = int(input('정수를 입력하세요> '))\n",
        "if x > 10:\n",
        "    print('10보다 큰 숫자입니다.')\n",
        "    if x == 15:\n",
        "        print('15 입니다.')\n",
        "    if x == 20:\n",
        "        print('20 입니다.')"
      ],
      "execution_count": 28,
      "outputs": [
        {
          "output_type": "stream",
          "text": [
            "정수를 입력하세요> 16\n",
            "10보다 큰 숫자입니다.\n"
          ],
          "name": "stdout"
        }
      ]
    },
    {
      "cell_type": "code",
      "metadata": {
        "id": "8k1HndiXlN5f"
      },
      "source": [
        ""
      ],
      "execution_count": null,
      "outputs": []
    }
  ]
}