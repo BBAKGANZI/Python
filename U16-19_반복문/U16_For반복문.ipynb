{
  "nbformat": 4,
  "nbformat_minor": 0,
  "metadata": {
    "colab": {
      "name": "U16_For반복문.ipynb",
      "provenance": [],
      "collapsed_sections": []
    },
    "kernelspec": {
      "name": "python3",
      "display_name": "Python 3"
    },
    "language_info": {
      "name": "python"
    }
  },
  "cells": [
    {
      "cell_type": "markdown",
      "metadata": {
        "id": "Ik8ohUYCs6zy"
      },
      "source": [
        "# Unit 16. For 반복문"
      ]
    },
    {
      "cell_type": "markdown",
      "metadata": {
        "id": "UhxyruQqtBpI"
      },
      "source": [
        "## 16.1 For와 Range"
      ]
    },
    {
      "cell_type": "code",
      "metadata": {
        "colab": {
          "base_uri": "https://localhost:8080/"
        },
        "id": "874J054tswf7",
        "outputId": "bf98ca6a-cb18-4a98-d2b6-9ba8c51bb8f2"
      },
      "source": [
        "for i in range(10):\n",
        "    print('Hello, wordl!')"
      ],
      "execution_count": 1,
      "outputs": [
        {
          "output_type": "stream",
          "text": [
            "Hello, wordl!\n",
            "Hello, wordl!\n",
            "Hello, wordl!\n",
            "Hello, wordl!\n",
            "Hello, wordl!\n",
            "Hello, wordl!\n",
            "Hello, wordl!\n",
            "Hello, wordl!\n",
            "Hello, wordl!\n",
            "Hello, wordl!\n"
          ],
          "name": "stdout"
        }
      ]
    },
    {
      "cell_type": "code",
      "metadata": {
        "colab": {
          "base_uri": "https://localhost:8080/"
        },
        "id": "nOkJf6OVvbUv",
        "outputId": "8ab3cfac-0b24-46d6-9ae7-90d2135d7e33"
      },
      "source": [
        "# _ 의 의미는 변수를 사용하긴하지만 저장하지 않을때\n",
        "for _ in range(5):\n",
        "    print('Hello, wordl!')"
      ],
      "execution_count": 5,
      "outputs": [
        {
          "output_type": "stream",
          "text": [
            "Hello, wordl!\n",
            "Hello, wordl!\n",
            "Hello, wordl!\n",
            "Hello, wordl!\n",
            "Hello, wordl!\n"
          ],
          "name": "stdout"
        }
      ]
    },
    {
      "cell_type": "code",
      "metadata": {
        "colab": {
          "base_uri": "https://localhost:8080/"
        },
        "id": "fPrRbbaLtcKe",
        "outputId": "a4833198-bbe1-4bd2-f6ad-f79aa0344415"
      },
      "source": [
        "for i in range(10):\n",
        "    print('Hello, wordl!', i)"
      ],
      "execution_count": 2,
      "outputs": [
        {
          "output_type": "stream",
          "text": [
            "Hello, wordl! 0\n",
            "Hello, wordl! 1\n",
            "Hello, wordl! 2\n",
            "Hello, wordl! 3\n",
            "Hello, wordl! 4\n",
            "Hello, wordl! 5\n",
            "Hello, wordl! 6\n",
            "Hello, wordl! 7\n",
            "Hello, wordl! 8\n",
            "Hello, wordl! 9\n"
          ],
          "name": "stdout"
        }
      ]
    },
    {
      "cell_type": "markdown",
      "metadata": {
        "id": "bp1Xwsdmx43T"
      },
      "source": [
        "## 16.2 For와 Range응용"
      ]
    },
    {
      "cell_type": "code",
      "metadata": {
        "colab": {
          "base_uri": "https://localhost:8080/"
        },
        "id": "5wLN2k6zvOFA",
        "outputId": "3cdb619e-c86c-4dfc-c991-fd1c27b606aa"
      },
      "source": [
        "for i in range(6, 10):\n",
        "    print('Hello, wordl!', i)"
      ],
      "execution_count": 6,
      "outputs": [
        {
          "output_type": "stream",
          "text": [
            "Hello, wordl! 6\n",
            "Hello, wordl! 7\n",
            "Hello, wordl! 8\n",
            "Hello, wordl! 9\n"
          ],
          "name": "stdout"
        }
      ]
    },
    {
      "cell_type": "code",
      "metadata": {
        "colab": {
          "base_uri": "https://localhost:8080/"
        },
        "id": "oZnsgYMHyHr6",
        "outputId": "14e3adff-e348-4c32-e74d-9f2012492374"
      },
      "source": [
        "for i in range(0, 10, 2):\n",
        "    print('Hello, wordl!', i)"
      ],
      "execution_count": 7,
      "outputs": [
        {
          "output_type": "stream",
          "text": [
            "Hello, wordl! 0\n",
            "Hello, wordl! 2\n",
            "Hello, wordl! 4\n",
            "Hello, wordl! 6\n",
            "Hello, wordl! 8\n"
          ],
          "name": "stdout"
        }
      ]
    },
    {
      "cell_type": "code",
      "metadata": {
        "colab": {
          "base_uri": "https://localhost:8080/"
        },
        "id": "vPD_vR97yM6Y",
        "outputId": "000c9c85-f083-4048-f2d3-72010dbd962f"
      },
      "source": [
        "for i in range(10, 0, -2):\n",
        "    print('Hello, world!', i)"
      ],
      "execution_count": 8,
      "outputs": [
        {
          "output_type": "stream",
          "text": [
            "Hello, world! 10\n",
            "Hello, world! 8\n",
            "Hello, world! 6\n",
            "Hello, world! 4\n",
            "Hello, world! 2\n"
          ],
          "name": "stdout"
        }
      ]
    },
    {
      "cell_type": "code",
      "metadata": {
        "colab": {
          "base_uri": "https://localhost:8080/"
        },
        "id": "7VOR2zaHybIL",
        "outputId": "3fb50209-0eb4-4de4-80d9-6e5ec7e478da"
      },
      "source": [
        "for i in range(1, 101):\n",
        "    print('Fizz'*(i%3==0) + 'Buzz'*(i%5==0) or i, end=' ')"
      ],
      "execution_count": 9,
      "outputs": [
        {
          "output_type": "stream",
          "text": [
            "1 2 Fizz 4 Buzz Fizz 7 8 Fizz Buzz 11 Fizz 13 14 FizzBuzz 16 17 Fizz 19 Buzz Fizz 22 23 Fizz Buzz 26 Fizz 28 29 FizzBuzz 31 32 Fizz 34 Buzz Fizz 37 38 Fizz Buzz 41 Fizz 43 44 FizzBuzz 46 47 Fizz 49 Buzz Fizz 52 53 Fizz Buzz 56 Fizz 58 59 FizzBuzz 61 62 Fizz 64 Buzz Fizz 67 68 Fizz Buzz 71 Fizz 73 74 FizzBuzz 76 77 Fizz 79 Buzz Fizz 82 83 Fizz Buzz 86 Fizz 88 89 FizzBuzz 91 92 Fizz 94 Buzz Fizz 97 98 Fizz Buzz "
          ],
          "name": "stdout"
        }
      ]
    },
    {
      "cell_type": "code",
      "metadata": {
        "colab": {
          "base_uri": "https://localhost:8080/"
        },
        "id": "PLPTEJKBzPU5",
        "outputId": "4d93382b-7721-4020-e92b-01fac35e743e"
      },
      "source": [
        "# 한줄에 데이터가 10개씩 출력\n",
        "for i in range(1, 101):\n",
        "    print('Fizz'*(i%3==0) + 'Buzz'*(i%5==0) or i, end=' ')\n",
        "    if (i % 10 ==0):\n",
        "        print()"
      ],
      "execution_count": 11,
      "outputs": [
        {
          "output_type": "stream",
          "text": [
            "1 2 Fizz 4 Buzz Fizz 7 8 Fizz Buzz \n",
            "11 Fizz 13 14 FizzBuzz 16 17 Fizz 19 Buzz \n",
            "Fizz 22 23 Fizz Buzz 26 Fizz 28 29 FizzBuzz \n",
            "31 32 Fizz 34 Buzz Fizz 37 38 Fizz Buzz \n",
            "41 Fizz 43 44 FizzBuzz 46 47 Fizz 49 Buzz \n",
            "Fizz 52 53 Fizz Buzz 56 Fizz 58 59 FizzBuzz \n",
            "61 62 Fizz 64 Buzz Fizz 67 68 Fizz Buzz \n",
            "71 Fizz 73 74 FizzBuzz 76 77 Fizz 79 Buzz \n",
            "Fizz 82 83 Fizz Buzz 86 Fizz 88 89 FizzBuzz \n",
            "91 92 Fizz 94 Buzz Fizz 97 98 Fizz Buzz \n"
          ],
          "name": "stdout"
        }
      ]
    },
    {
      "cell_type": "markdown",
      "metadata": {
        "id": "fWfGQlDhz55D"
      },
      "source": [
        "## 16.3 시퀀스 객체 반복"
      ]
    },
    {
      "cell_type": "code",
      "metadata": {
        "colab": {
          "base_uri": "https://localhost:8080/"
        },
        "id": "aHmOPK8HzawA",
        "outputId": "1e858b6f-9807-4f81-bec2-00d76af95735"
      },
      "source": [
        "# 반복문에서 print 없을시 출력이 되지 않음 print 사용 필!\n",
        "fruits = ['apple', 'banana', 'cherry']\n",
        "for element in fruits:\n",
        "    print(element)"
      ],
      "execution_count": 13,
      "outputs": [
        {
          "output_type": "stream",
          "text": [
            "apple\n",
            "banana\n",
            "cherry\n"
          ],
          "name": "stdout"
        }
      ]
    },
    {
      "cell_type": "code",
      "metadata": {
        "colab": {
          "base_uri": "https://localhost:8080/"
        },
        "id": "dhTeTfxf0Q0h",
        "outputId": "3766aeb3-5690-4c25-b611-e2edb47099f7"
      },
      "source": [
        "for fruit in fruits:\n",
        "    print(fruit)"
      ],
      "execution_count": 14,
      "outputs": [
        {
          "output_type": "stream",
          "text": [
            "apple\n",
            "banana\n",
            "cherry\n"
          ],
          "name": "stdout"
        }
      ]
    },
    {
      "cell_type": "code",
      "metadata": {
        "colab": {
          "base_uri": "https://localhost:8080/"
        },
        "id": "d2yXqXKO0kUK",
        "outputId": "a2e1f9f3-34d3-4a0d-d0a5-d6b0eb07fb79"
      },
      "source": [
        "fruit_list = ['apple', 'banana', 'cherry']\n",
        "for fruit in fruit_list:\n",
        "    print(fruit)"
      ],
      "execution_count": 15,
      "outputs": [
        {
          "output_type": "stream",
          "text": [
            "apple\n",
            "banana\n",
            "cherry\n"
          ],
          "name": "stdout"
        }
      ]
    },
    {
      "cell_type": "code",
      "metadata": {
        "colab": {
          "base_uri": "https://localhost:8080/"
        },
        "id": "PYzc4BKX0vak",
        "outputId": "347ab1ff-be8e-480a-b09b-e867376802ed"
      },
      "source": [
        "for letter in 'Python':\n",
        "    print(letter, end=' ')"
      ],
      "execution_count": 20,
      "outputs": [
        {
          "output_type": "stream",
          "text": [
            "P y t h o n "
          ],
          "name": "stdout"
        }
      ]
    },
    {
      "cell_type": "code",
      "metadata": {
        "colab": {
          "base_uri": "https://localhost:8080/"
        },
        "id": "MM3pAveC2Y8z",
        "outputId": "ca298183-854c-406c-cbd2-a56eb82b3f82"
      },
      "source": [
        "for letter in 'Python':\n",
        "    print(letter)"
      ],
      "execution_count": 18,
      "outputs": [
        {
          "output_type": "stream",
          "text": [
            "P\n",
            "y\n",
            "t\n",
            "h\n",
            "o\n",
            "n\n"
          ],
          "name": "stdout"
        }
      ]
    },
    {
      "cell_type": "code",
      "metadata": {
        "colab": {
          "base_uri": "https://localhost:8080/"
        },
        "id": "--WjX40Y2lZT",
        "outputId": "4db629d7-379d-4c58-81f4-c74d1db3f404"
      },
      "source": [
        "for letter in reversed('Python'):\n",
        "    print(letter, end=' ')"
      ],
      "execution_count": 19,
      "outputs": [
        {
          "output_type": "stream",
          "text": [
            "n o h t y P "
          ],
          "name": "stdout"
        }
      ]
    },
    {
      "cell_type": "code",
      "metadata": {
        "colab": {
          "base_uri": "https://localhost:8080/"
        },
        "id": "h38OVZuS2tp2",
        "outputId": "65876273-3bd7-4dac-b5a4-42bc852bfd36"
      },
      "source": [
        "for number in (10, 20, 30):\n",
        "    print(number)"
      ],
      "execution_count": 21,
      "outputs": [
        {
          "output_type": "stream",
          "text": [
            "10\n",
            "20\n",
            "30\n"
          ],
          "name": "stdout"
        }
      ]
    },
    {
      "cell_type": "markdown",
      "metadata": {
        "id": "h6Zax70s3i_Q"
      },
      "source": [
        "### Perfect Number\n",
        "- 자기자신을 제외한 약수 의 합이 자기자신과 같은 수\n",
        "- ex) 6의 약수 : 1, 2, 3, 6\n",
        "- 6 = 1 + 2 + 3\n",
        "- 10,000이하의 자연수 중에서는 4개 존재"
      ]
    },
    {
      "cell_type": "code",
      "metadata": {
        "colab": {
          "base_uri": "https://localhost:8080/"
        },
        "id": "mdbhOKj12_nP",
        "outputId": "4db24948-a66b-4852-deac-56ee197327c8"
      },
      "source": [
        "# 자기자신을 제외한 약수 의 합이 자기자신과 같은 수\n",
        "for i in range(2, 11):\n",
        "    for k in range(1, i):\n",
        "        if i % k == 0:\n",
        "            print(f'{k}은/는 {i}의 약수')"
      ],
      "execution_count": 33,
      "outputs": [
        {
          "output_type": "stream",
          "text": [
            "1은/는 2의 약수\n",
            "1은/는 3의 약수\n",
            "1은/는 4의 약수\n",
            "2은/는 4의 약수\n",
            "1은/는 5의 약수\n",
            "1은/는 6의 약수\n",
            "2은/는 6의 약수\n",
            "3은/는 6의 약수\n",
            "1은/는 7의 약수\n",
            "1은/는 8의 약수\n",
            "2은/는 8의 약수\n",
            "4은/는 8의 약수\n",
            "1은/는 9의 약수\n",
            "3은/는 9의 약수\n",
            "1은/는 10의 약수\n",
            "2은/는 10의 약수\n",
            "5은/는 10의 약수\n"
          ],
          "name": "stdout"
        }
      ]
    },
    {
      "cell_type": "code",
      "metadata": {
        "colab": {
          "base_uri": "https://localhost:8080/"
        },
        "id": "8FVxQKQ16AJD",
        "outputId": "3d6558b4-e96f-465d-f86b-4f5d9d68d788"
      },
      "source": [
        "for i in range(2, 10001):\n",
        "    sum_of_divisor = 0\n",
        "    for k in range(1, i):\n",
        "        if i % k == 0:\n",
        "            sum_of_divisor += k\n",
        "\n",
        "    if i == sum_of_divisor:\n",
        "            print(i)"
      ],
      "execution_count": 38,
      "outputs": [
        {
          "output_type": "stream",
          "text": [
            "6\n",
            "28\n",
            "496\n",
            "8128\n"
          ],
          "name": "stdout"
        }
      ]
    },
    {
      "cell_type": "code",
      "metadata": {
        "colab": {
          "base_uri": "https://localhost:8080/"
        },
        "id": "dQscZEgy8UIB",
        "outputId": "a802c9e1-8c37-43ba-ad80-41e1b57a9446"
      },
      "source": [
        "perfect_numbers = []\n",
        "for i in range(2, 10001):\n",
        "    divisor_list = []\n",
        "    for k in range(1, i):\n",
        "        if i % k == 0:\n",
        "            divisor_list.append(k)\n",
        "\n",
        "    if i == sum(divisor_list):\n",
        "        perfect_numbers.append(i)\n",
        "\n",
        "print(perfect_numbers)"
      ],
      "execution_count": 40,
      "outputs": [
        {
          "output_type": "stream",
          "text": [
            "[6, 28, 496, 8128]\n"
          ],
          "name": "stdout"
        }
      ]
    },
    {
      "cell_type": "code",
      "metadata": {
        "id": "7NZX_x7Y9W66"
      },
      "source": [
        ""
      ],
      "execution_count": null,
      "outputs": []
    }
  ]
}