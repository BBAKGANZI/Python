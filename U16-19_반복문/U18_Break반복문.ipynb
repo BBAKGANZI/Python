{
  "nbformat": 4,
  "nbformat_minor": 0,
  "metadata": {
    "colab": {
      "name": "U18_Break반복문.ipynb",
      "provenance": [],
      "collapsed_sections": []
    },
    "kernelspec": {
      "name": "python3",
      "display_name": "Python 3"
    },
    "language_info": {
      "name": "python"
    }
  },
  "cells": [
    {
      "cell_type": "markdown",
      "metadata": {
        "id": "adURMOEEEpon"
      },
      "source": [
        "# Unit 18. Break, Continue"
      ]
    },
    {
      "cell_type": "markdown",
      "metadata": {
        "id": "_cbYOJL3FB7_"
      },
      "source": [
        "## 18.1 Break"
      ]
    },
    {
      "cell_type": "code",
      "metadata": {
        "id": "I7yXesD0ElBl"
      },
      "source": [
        "import random"
      ],
      "execution_count": 1,
      "outputs": []
    },
    {
      "cell_type": "code",
      "metadata": {
        "colab": {
          "base_uri": "https://localhost:8080/"
        },
        "id": "un2xiPwBFFW5",
        "outputId": "084df91a-dcec-4bf0-b6fc-d3cb411fd4f8"
      },
      "source": [
        "while True:\n",
        "    i = random.randint(1,6)\n",
        "    print(i)\n",
        "    if i == 3:\n",
        "        break"
      ],
      "execution_count": 3,
      "outputs": [
        {
          "output_type": "stream",
          "text": [
            "1\n",
            "5\n",
            "4\n",
            "1\n",
            "1\n",
            "3\n"
          ],
          "name": "stdout"
        }
      ]
    },
    {
      "cell_type": "code",
      "metadata": {
        "colab": {
          "base_uri": "https://localhost:8080/"
        },
        "id": "3pej2XVIFNOa",
        "outputId": "918e5282-de43-4bf6-b16d-9837411ef7b1"
      },
      "source": [
        "for i in  range(5):\n",
        "    print(i, end=' ')\n",
        "    for k in range(5):\n",
        "        print('*', end='')\n",
        "        if i==k:\n",
        "            break"
      ],
      "execution_count": 7,
      "outputs": [
        {
          "output_type": "stream",
          "text": [
            "0 *1 **2 ***3 ****4 *****"
          ],
          "name": "stdout"
        }
      ]
    },
    {
      "cell_type": "code",
      "metadata": {
        "colab": {
          "base_uri": "https://localhost:8080/"
        },
        "id": "B2lGxKfxF_Ui",
        "outputId": "d507af2e-a5ab-48aa-c339-77869cfadf19"
      },
      "source": [
        "for i in  range(5):\n",
        "    print(i, end=' ')\n",
        "    for k in range(5):\n",
        "        print('*', end='')\n",
        "        if i==k:\n",
        "            break\n",
        "    print()"
      ],
      "execution_count": 8,
      "outputs": [
        {
          "output_type": "stream",
          "text": [
            "0 *\n",
            "1 **\n",
            "2 ***\n",
            "3 ****\n",
            "4 *****\n"
          ],
          "name": "stdout"
        }
      ]
    },
    {
      "cell_type": "markdown",
      "metadata": {
        "id": "-bQpHDK1Gn5i"
      },
      "source": [
        "## 18.2 Continue"
      ]
    },
    {
      "cell_type": "code",
      "metadata": {
        "colab": {
          "base_uri": "https://localhost:8080/"
        },
        "id": "HI-BoGikGksc",
        "outputId": "8fa8e72e-7fa0-4df8-daad-862e49492915"
      },
      "source": [
        "# 1~9까지 숫자중 i를 2로 나누었을때 나머지가 0이면 다시 윗단계로\n",
        "for i in range(10):\n",
        "    if i % 2 == 0:\n",
        "        continue\n",
        "    print(i)"
      ],
      "execution_count": 10,
      "outputs": [
        {
          "output_type": "stream",
          "text": [
            "1\n",
            "3\n",
            "5\n",
            "7\n",
            "9\n"
          ],
          "name": "stdout"
        }
      ]
    },
    {
      "cell_type": "code",
      "metadata": {
        "id": "iqzE-b1AG2GD"
      },
      "source": [
        ""
      ],
      "execution_count": null,
      "outputs": []
    }
  ]
}