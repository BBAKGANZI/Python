{
  "nbformat": 4,
  "nbformat_minor": 0,
  "metadata": {
    "colab": {
      "name": "U38_예외처리.ipynb",
      "provenance": [],
      "collapsed_sections": []
    },
    "kernelspec": {
      "name": "python3",
      "display_name": "Python 3"
    },
    "language_info": {
      "name": "python"
    }
  },
  "cells": [
    {
      "cell_type": "markdown",
      "metadata": {
        "id": "A6qY7n-ZsFDX"
      },
      "source": [
        "# Unit 38. 예외 처리"
      ]
    },
    {
      "cell_type": "markdown",
      "metadata": {
        "id": "IIrPglwatNrd"
      },
      "source": [
        "## 38.1 try except"
      ]
    },
    {
      "cell_type": "code",
      "metadata": {
        "colab": {
          "base_uri": "https://localhost:8080/"
        },
        "id": "y0Mcqz2HnllQ",
        "outputId": "39337b57-7d97-4cc2-fd88-94b525e04a32"
      },
      "source": [
        "a = [1, 2, 3]\n",
        "try:\n",
        "    a[4]\n",
        "except:\n",
        "    print('예외 발생')"
      ],
      "execution_count": 1,
      "outputs": [
        {
          "output_type": "stream",
          "text": [
            "예외 발생\n"
          ],
          "name": "stdout"
        }
      ]
    },
    {
      "cell_type": "code",
      "metadata": {
        "colab": {
          "base_uri": "https://localhost:8080/",
          "height": 136
        },
        "id": "IIWWJgkStcGU",
        "outputId": "120d5cd1-a581-4025-b2bd-3ae9baf6f1d8"
      },
      "source": [
        "int(10d)"
      ],
      "execution_count": 2,
      "outputs": [
        {
          "output_type": "error",
          "ename": "SyntaxError",
          "evalue": "ignored",
          "traceback": [
            "\u001b[0;36m  File \u001b[0;32m\"<ipython-input-2-7d094ada6da0>\"\u001b[0;36m, line \u001b[0;32m1\u001b[0m\n\u001b[0;31m    int(10d)\u001b[0m\n\u001b[0m          ^\u001b[0m\n\u001b[0;31mSyntaxError\u001b[0m\u001b[0;31m:\u001b[0m invalid syntax\n"
          ]
        }
      ]
    },
    {
      "cell_type": "code",
      "metadata": {
        "colab": {
          "base_uri": "https://localhost:8080/",
          "height": 172
        },
        "id": "cy6nYCW_umAd",
        "outputId": "52dbcf61-09a7-4b0c-be85-8b39fb402358"
      },
      "source": [
        "int('10d')"
      ],
      "execution_count": 3,
      "outputs": [
        {
          "output_type": "error",
          "ename": "ValueError",
          "evalue": "ignored",
          "traceback": [
            "\u001b[0;31m---------------------------------------------------------------------------\u001b[0m",
            "\u001b[0;31mValueError\u001b[0m                                Traceback (most recent call last)",
            "\u001b[0;32m<ipython-input-3-331fb23f7ae1>\u001b[0m in \u001b[0;36m<module>\u001b[0;34m()\u001b[0m\n\u001b[0;32m----> 1\u001b[0;31m \u001b[0mint\u001b[0m\u001b[0;34m(\u001b[0m\u001b[0;34m'10d'\u001b[0m\u001b[0;34m)\u001b[0m\u001b[0;34m\u001b[0m\u001b[0;34m\u001b[0m\u001b[0m\n\u001b[0m",
            "\u001b[0;31mValueError\u001b[0m: invalid literal for int() with base 10: '10d'"
          ]
        }
      ]
    },
    {
      "cell_type": "markdown",
      "metadata": {
        "id": "qpBKaoBIwmMb"
      },
      "source": [
        "### 특정 예외만 처리하기"
      ]
    },
    {
      "cell_type": "code",
      "metadata": {
        "colab": {
          "base_uri": "https://localhost:8080/",
          "height": 244
        },
        "id": "Woj18YD6urY3",
        "outputId": "178d3929-1dd4-4cf4-8314-819f31aff6cf"
      },
      "source": [
        "try:\n",
        "    int('10d')\n",
        "except ZeroDivisionError:\n",
        "    print('0으로 나눌 수 없습니다.')\n",
        "except IndexError:\n",
        "    print('Index Error 발생')\n",
        "    "
      ],
      "execution_count": 4,
      "outputs": [
        {
          "output_type": "error",
          "ename": "ValueError",
          "evalue": "ignored",
          "traceback": [
            "\u001b[0;31m---------------------------------------------------------------------------\u001b[0m",
            "\u001b[0;31mValueError\u001b[0m                                Traceback (most recent call last)",
            "\u001b[0;32m<ipython-input-4-58d4d4d408ee>\u001b[0m in \u001b[0;36m<module>\u001b[0;34m()\u001b[0m\n\u001b[1;32m      1\u001b[0m \u001b[0;32mtry\u001b[0m\u001b[0;34m:\u001b[0m\u001b[0;34m\u001b[0m\u001b[0;34m\u001b[0m\u001b[0m\n\u001b[0;32m----> 2\u001b[0;31m     \u001b[0mint\u001b[0m\u001b[0;34m(\u001b[0m\u001b[0;34m'10d'\u001b[0m\u001b[0;34m)\u001b[0m\u001b[0;34m\u001b[0m\u001b[0;34m\u001b[0m\u001b[0m\n\u001b[0m\u001b[1;32m      3\u001b[0m \u001b[0;32mexcept\u001b[0m \u001b[0mZeroDivisionError\u001b[0m\u001b[0;34m:\u001b[0m\u001b[0;34m\u001b[0m\u001b[0;34m\u001b[0m\u001b[0m\n\u001b[1;32m      4\u001b[0m     \u001b[0mprint\u001b[0m\u001b[0;34m(\u001b[0m\u001b[0;34m'0으로 나눌 수 없습니다.'\u001b[0m\u001b[0;34m)\u001b[0m\u001b[0;34m\u001b[0m\u001b[0;34m\u001b[0m\u001b[0m\n\u001b[1;32m      5\u001b[0m \u001b[0;32mexcept\u001b[0m \u001b[0mIndexError\u001b[0m\u001b[0;34m:\u001b[0m\u001b[0;34m\u001b[0m\u001b[0;34m\u001b[0m\u001b[0m\n",
            "\u001b[0;31mValueError\u001b[0m: invalid literal for int() with base 10: '10d'"
          ]
        }
      ]
    },
    {
      "cell_type": "code",
      "metadata": {
        "colab": {
          "base_uri": "https://localhost:8080/"
        },
        "id": "V0XQytN2wA_f",
        "outputId": "a350b470-795f-4fe9-9b4b-b9ef82171aa0"
      },
      "source": [
        "try:\n",
        "    int('10d')\n",
        "except ZeroDivisionError:\n",
        "    print('0으로 나눌 수 없습니다.')\n",
        "except IndexError:\n",
        "    print('Index Error 발생')\n",
        "except ValueError:\n",
        "    print('Value Error 발생')"
      ],
      "execution_count": 6,
      "outputs": [
        {
          "output_type": "stream",
          "text": [
            "Value Error 발생\n"
          ],
          "name": "stdout"
        }
      ]
    },
    {
      "cell_type": "markdown",
      "metadata": {
        "id": "r8remuFkw6XA"
      },
      "source": [
        "### 예외의 에러 메세지 받아오기"
      ]
    },
    {
      "cell_type": "code",
      "metadata": {
        "colab": {
          "base_uri": "https://localhost:8080/"
        },
        "id": "94VppIzvwIFo",
        "outputId": "35c76266-ace1-4fe2-c4f0-b7ef2bab2669"
      },
      "source": [
        "try:\n",
        "    int('10d')\n",
        "except Exception as e:      # alias: Exception을 e로 명명\n",
        "    print(e)                # Exception 객체의 __str__() method"
      ],
      "execution_count": 7,
      "outputs": [
        {
          "output_type": "stream",
          "text": [
            "invalid literal for int() with base 10: '10d'\n"
          ],
          "name": "stdout"
        }
      ]
    },
    {
      "cell_type": "markdown",
      "metadata": {
        "id": "BeYn3OaTxhJS"
      },
      "source": [
        "## 38.2 else-finally"
      ]
    },
    {
      "cell_type": "code",
      "metadata": {
        "colab": {
          "base_uri": "https://localhost:8080/"
        },
        "id": "9HXGWH_yxMz-",
        "outputId": "2b74d813-9b87-4ff9-88c3-740cb54816bb"
      },
      "source": [
        "try:\n",
        "    x = int(input('나눌 숫자 입력> '))\n",
        "    y = 10 / x\n",
        "except Exception as e:\n",
        "    print(e)\n",
        "else:\n",
        "    print(y)"
      ],
      "execution_count": 8,
      "outputs": [
        {
          "output_type": "stream",
          "text": [
            "나눌 숫자 입력> 2\n",
            "5.0\n"
          ],
          "name": "stdout"
        }
      ]
    },
    {
      "cell_type": "code",
      "metadata": {
        "colab": {
          "base_uri": "https://localhost:8080/"
        },
        "id": "yXJEBC2212Dk",
        "outputId": "2b28c43c-4bd4-421c-ae54-892a940d9ad1"
      },
      "source": [
        "# 예외와 상관없이 항상 실행\n",
        "try:\n",
        "    x = int(input('나눌 숫자 입력> '))\n",
        "    y = 10 / x\n",
        "except Exception as e:\n",
        "    print(e)\n",
        "else:\n",
        "    print(y)\n",
        "finally:\n",
        "    print('코드 실행 종료')"
      ],
      "execution_count": 9,
      "outputs": [
        {
          "output_type": "stream",
          "text": [
            "나눌 숫자 입력> 0\n",
            "division by zero\n",
            "코드 실행 종료\n"
          ],
          "name": "stdout"
        }
      ]
    },
    {
      "cell_type": "markdown",
      "metadata": {
        "id": "oqgNvReA3hJM"
      },
      "source": [
        "## 38.3 예외 발생시키기"
      ]
    },
    {
      "cell_type": "code",
      "metadata": {
        "colab": {
          "base_uri": "https://localhost:8080/"
        },
        "id": "ky4gpuqd2Y01",
        "outputId": "b765c7b1-4054-49da-8e96-7f3c373d8496"
      },
      "source": [
        "import random\n",
        "try:\n",
        "    x = random.randint(1, 10)\n",
        "    if x % 3 != 0:\n",
        "        raise Exception('3의 배수가 아닙니다.')\n",
        "    print(x)\n",
        "except Exception as e:\n",
        "    print('예외 발생', e)"
      ],
      "execution_count": 11,
      "outputs": [
        {
          "output_type": "stream",
          "text": [
            "예외 발생 3의 배수가 아닙니다.\n"
          ],
          "name": "stdout"
        }
      ]
    },
    {
      "cell_type": "code",
      "metadata": {
        "id": "d9ukBOB-5Wkl"
      },
      "source": [
        "def multiple11(x):\n",
        "    if x % 11 != 0:\n",
        "        raise Exception('11의 배수가 아닙니다.')\n",
        "    print(x)"
      ],
      "execution_count": 12,
      "outputs": []
    },
    {
      "cell_type": "code",
      "metadata": {
        "colab": {
          "base_uri": "https://localhost:8080/"
        },
        "id": "Bb8ebU1P6Oia",
        "outputId": "d8e97744-3da7-4a60-8b5f-07cc813d9215"
      },
      "source": [
        "try:\n",
        "    multiple11(100)\n",
        "except Exception as e:\n",
        "    print('예외 발생 -', e)"
      ],
      "execution_count": 13,
      "outputs": [
        {
          "output_type": "stream",
          "text": [
            "예외 발생 - 11의 배수가 아닙니다.\n"
          ],
          "name": "stdout"
        }
      ]
    },
    {
      "cell_type": "code",
      "metadata": {
        "id": "U43I37dc6afD"
      },
      "source": [
        "try:\n",
        "    for():\n",
        "        for():\n",
        "            for():\n",
        "                if 조건:\n",
        "                   raise Exception() \n",
        "except:\n",
        "    "
      ],
      "execution_count": null,
      "outputs": []
    },
    {
      "cell_type": "markdown",
      "metadata": {
        "id": "51225ooV7n4X"
      },
      "source": [
        "## 38.4 예외 만들기"
      ]
    },
    {
      "cell_type": "code",
      "metadata": {
        "id": "I5DpS9GB7q53"
      },
      "source": [
        ""
      ],
      "execution_count": null,
      "outputs": []
    }
  ]
}