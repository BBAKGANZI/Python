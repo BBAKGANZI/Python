{
  "nbformat": 4,
  "nbformat_minor": 0,
  "metadata": {
    "colab": {
      "name": "U43_정규표현식.ipynb",
      "provenance": [],
      "collapsed_sections": []
    },
    "kernelspec": {
      "name": "python3",
      "display_name": "Python 3"
    },
    "language_info": {
      "name": "python"
    }
  },
  "cells": [
    {
      "cell_type": "markdown",
      "metadata": {
        "id": "dIGSzIjt-77d"
      },
      "source": [
        "# Unit 43. 정규 표현식"
      ]
    },
    {
      "cell_type": "markdown",
      "metadata": {
        "id": "hFLaOnOx_Ems"
      },
      "source": [
        "## 43.1 문자열 판단"
      ]
    },
    {
      "cell_type": "code",
      "metadata": {
        "colab": {
          "base_uri": "https://localhost:8080/"
        },
        "id": "xNkr29Sd8Kkt",
        "outputId": "bf4b6dc0-2eb2-477d-f5d4-9b59fd0601c0"
      },
      "source": [
        "import re\n",
        "re.match('Hello', 'Hello, world!')          # 패턴, 문자열"
      ],
      "execution_count": 1,
      "outputs": [
        {
          "output_type": "execute_result",
          "data": {
            "text/plain": [
              "<re.Match object; span=(0, 5), match='Hello'>"
            ]
          },
          "metadata": {
            "tags": []
          },
          "execution_count": 1
        }
      ]
    },
    {
      "cell_type": "code",
      "metadata": {
        "colab": {
          "base_uri": "https://localhost:8080/"
        },
        "id": "uZByNC7v_dPK",
        "outputId": "164e0941-de83-476c-c600-25efa3a91d2e"
      },
      "source": [
        "z = re.match('Hello', 'Hello, world!')\n",
        "if z:\n",
        "    print('Found!!')\n",
        "else:\n",
        "    print('Not found.')"
      ],
      "execution_count": 2,
      "outputs": [
        {
          "output_type": "stream",
          "text": [
            "Found!!\n"
          ],
          "name": "stdout"
        }
      ]
    },
    {
      "cell_type": "code",
      "metadata": {
        "colab": {
          "base_uri": "https://localhost:8080/"
        },
        "id": "L9LHzN2pC96T",
        "outputId": "17a1c775-ed23-4c37-f682-c9a44cfe7d67"
      },
      "source": [
        "# match()는 문장의 처음에서 찾음\n",
        "if re.match('world', 'Hello, world!'):\n",
        "    print('Found!!')\n",
        "else:\n",
        "    print('Not found.')"
      ],
      "execution_count": 3,
      "outputs": [
        {
          "output_type": "stream",
          "text": [
            "Not found.\n"
          ],
          "name": "stdout"
        }
      ]
    },
    {
      "cell_type": "code",
      "metadata": {
        "colab": {
          "base_uri": "https://localhost:8080/"
        },
        "id": "X4rg1bgKDHid",
        "outputId": "c13eba63-70ce-4b31-c26e-57362e4d8570"
      },
      "source": [
        "# search()는 모든 문장에서 찾음\n",
        "if re.search('world', 'Hello, world!'):\n",
        "    print('Found!!')\n",
        "else:\n",
        "    print('Not found.')"
      ],
      "execution_count": 4,
      "outputs": [
        {
          "output_type": "stream",
          "text": [
            "Found!!\n"
          ],
          "name": "stdout"
        }
      ]
    },
    {
      "cell_type": "markdown",
      "metadata": {
        "id": "3QqlMWSNDhhM"
      },
      "source": [
        "## 43.2 범위 판단"
      ]
    },
    {
      "cell_type": "code",
      "metadata": {
        "colab": {
          "base_uri": "https://localhost:8080/"
        },
        "id": "u9OqDR6hDbIk",
        "outputId": "e42a8c35-a205-431a-b243-e62e6b295cee"
      },
      "source": [
        "# 휴대전화 번호형식\n",
        "pattern = '01[0-9]-[0-9]{4}-[0-9]{4}'\n",
        "text = '010-1234-5678'\n",
        "if re.match(pattern, text):\n",
        "    print('올바른 휴대전화번호')\n",
        "else:\n",
        "    print('잘못된 휴대전화번호')"
      ],
      "execution_count": 5,
      "outputs": [
        {
          "output_type": "stream",
          "text": [
            "올바른 휴대전화번호\n"
          ],
          "name": "stdout"
        }
      ]
    },
    {
      "cell_type": "code",
      "metadata": {
        "colab": {
          "base_uri": "https://localhost:8080/"
        },
        "id": "haz6bHtJEs7V",
        "outputId": "6710d1d3-ea52-462b-8c18-6e5bfcfb9423"
      },
      "source": [
        "# 한글 패턴\n",
        "hangul = '[ㄱ-ㅎㅏ-ㅣ가-힣]+'\n",
        "text = '홍길동'\n",
        "if re.search(hangul, text):\n",
        "    print('한글이 있음')\n",
        "else:\n",
        "    print('한글이 없음')"
      ],
      "execution_count": 6,
      "outputs": [
        {
          "output_type": "stream",
          "text": [
            "한글이 있음\n"
          ],
          "name": "stdout"
        }
      ]
    },
    {
      "cell_type": "markdown",
      "metadata": {
        "id": "zXKQghhIGNdX"
      },
      "source": [
        "43.4 문자열 바꾸기"
      ]
    },
    {
      "cell_type": "code",
      "metadata": {
        "colab": {
          "base_uri": "https://localhost:8080/",
          "height": 35
        },
        "id": "mlAGZ8y3F3ae",
        "outputId": "a307aa47-2c9d-4955-b7b8-79c28bfbdda1"
      },
      "source": [
        "# re.sub('패턴', '바꿀 문자열'. '대상문자열')\n",
        "re.sub('apple|orange', 'fruit', 'apple box orange tree')"
      ],
      "execution_count": 7,
      "outputs": [
        {
          "output_type": "execute_result",
          "data": {
            "application/vnd.google.colaboratory.intrinsic+json": {
              "type": "string"
            },
            "text/plain": [
              "'fruit box fruit tree'"
            ]
          },
          "metadata": {
            "tags": []
          },
          "execution_count": 7
        }
      ]
    },
    {
      "cell_type": "code",
      "metadata": {
        "colab": {
          "base_uri": "https://localhost:8080/",
          "height": 35
        },
        "id": "yxaM810iGeCI",
        "outputId": "6974d484-96b1-4cd2-c42c-382156a98d79"
      },
      "source": [
        "re.sub('[0-9]', 'n', '1 2 Fizz 4 Buzz Fizz 7 8 Fizz Buzz 11 12')"
      ],
      "execution_count": 10,
      "outputs": [
        {
          "output_type": "execute_result",
          "data": {
            "application/vnd.google.colaboratory.intrinsic+json": {
              "type": "string"
            },
            "text/plain": [
              "'n n Fizz n Buzz Fizz n n Fizz Buzz nn nn'"
            ]
          },
          "metadata": {
            "tags": []
          },
          "execution_count": 10
        }
      ]
    },
    {
      "cell_type": "code",
      "metadata": {
        "colab": {
          "base_uri": "https://localhost:8080/",
          "height": 35
        },
        "id": "BC23IWeYHnB9",
        "outputId": "a72d9679-f16b-4ff6-e3ae-4da741c14aa5"
      },
      "source": [
        "re.sub('[0-9]+', 'n', '1 2 Fizz 4 Buzz Fizz 7 8 Fizz Buzz 11 12')"
      ],
      "execution_count": 11,
      "outputs": [
        {
          "output_type": "execute_result",
          "data": {
            "application/vnd.google.colaboratory.intrinsic+json": {
              "type": "string"
            },
            "text/plain": [
              "'n n Fizz n Buzz Fizz n n Fizz Buzz n n'"
            ]
          },
          "metadata": {
            "tags": []
          },
          "execution_count": 11
        }
      ]
    },
    {
      "cell_type": "code",
      "metadata": {
        "id": "XHUCe6MWHvzF"
      },
      "source": [
        "text = '''\n",
        "가장 단순한 형태의 원자는 리터럴(literal)이지만 원자를 일지시키기 위해 패턴을\n",
        "묶을 때에는 메타문자로서 ( )를 사용해야 한다. 메타문자는 원자 외에도 얼마나 많은\n",
        "원자가 있는지를 가리키는 수량자(quantifier), 선택적인 대안을 가리키는 논리적 OR 문자,\n",
        "그리고 원자의 존재를 부정하는 NOT 문자, 그리고 전에 일치된 원자를 참조할 수 있게 하는\n",
        "역참조(backreference)를 만드는 것을 도와준다.\n",
        "'''"
      ],
      "execution_count": 12,
      "outputs": []
    },
    {
      "cell_type": "code",
      "metadata": {
        "colab": {
          "base_uri": "https://localhost:8080/",
          "height": 53
        },
        "id": "cYqvXJ1gIK3F",
        "outputId": "a57fc4f2-7896-46ba-e74a-d971edeac6ab"
      },
      "source": [
        "not_hangul_blank = '[^ㄱ-ㅎㅏ-ㅣ가-힣 ]'\n",
        "text = re.sub(not_hangul_blank, '', text)\n",
        "text"
      ],
      "execution_count": 13,
      "outputs": [
        {
          "output_type": "execute_result",
          "data": {
            "application/vnd.google.colaboratory.intrinsic+json": {
              "type": "string"
            },
            "text/plain": [
              "'가장 단순한 형태의 원자는 리터럴이지만 원자를 일지시키기 위해 패턴을묶을 때에는 메타문자로서  를 사용해야 한다 메타문자는 원자 외에도 얼마나 많은원자가 있는지를 가리키는 수량자 선택적인 대안을 가리키는 논리적  문자그리고 원자의 존재를 부정하는  문자 그리고 전에 일치된 원자를 참조할 수 있게 하는역참조를 만드는 것을 도와준다'"
            ]
          },
          "metadata": {
            "tags": []
          },
          "execution_count": 13
        }
      ]
    },
    {
      "cell_type": "code",
      "metadata": {
        "colab": {
          "base_uri": "https://localhost:8080/",
          "height": 35
        },
        "id": "uVvNwRsPIXWD",
        "outputId": "ddaa4ccf-dcf0-4cc3-d7e9-1e9b35736e7d"
      },
      "source": [
        "text = '에밀리블런트 사랑해,, 사랑스러움의 끝ㅠㅠ 4DX로 보면 더 재밌을 듯'\n",
        "text = re.sub(not_hangul_blank, '', text)\n",
        "text"
      ],
      "execution_count": 14,
      "outputs": [
        {
          "output_type": "execute_result",
          "data": {
            "application/vnd.google.colaboratory.intrinsic+json": {
              "type": "string"
            },
            "text/plain": [
              "'에밀리블런트 사랑해 사랑스러움의 끝ㅠㅠ 로 보면 더 재밌을 듯'"
            ]
          },
          "metadata": {
            "tags": []
          },
          "execution_count": 14
        }
      ]
    },
    {
      "cell_type": "code",
      "metadata": {
        "id": "JZhGzsTyJONC"
      },
      "source": [
        ""
      ],
      "execution_count": null,
      "outputs": []
    }
  ]
}