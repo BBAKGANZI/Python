{
  "nbformat": 4,
  "nbformat_minor": 0,
  "metadata": {
    "colab": {
      "name": "U45_모듈만들기.ipynb",
      "provenance": [],
      "collapsed_sections": []
    },
    "kernelspec": {
      "name": "python3",
      "display_name": "Python 3"
    },
    "language_info": {
      "name": "python"
    }
  },
  "cells": [
    {
      "cell_type": "markdown",
      "metadata": {
        "id": "_Iz4eNX9s7zZ"
      },
      "source": [
        "# Unit 45. 모듈만들기"
      ]
    },
    {
      "cell_type": "markdown",
      "metadata": {
        "id": "GvSeiiagtBrN"
      },
      "source": [
        "## 45.1 모듈 만들기"
      ]
    },
    {
      "cell_type": "markdown",
      "metadata": {
        "id": "MXC8-xQ9vrzD"
      },
      "source": [
        "### 함수와 변수"
      ]
    },
    {
      "cell_type": "code",
      "metadata": {
        "colab": {
          "base_uri": "https://localhost:8080/"
        },
        "id": "kNkRTOmxsNoH",
        "outputId": "c48abe89-69a1-4da4-9881-28c9c4a044bd"
      },
      "source": [
        "import U45_square2 as sq\n",
        "\n",
        "print(sq.base)\n",
        "print(sq.square(10))"
      ],
      "execution_count": 1,
      "outputs": [
        {
          "output_type": "stream",
          "text": [
            "2\n",
            "1024\n"
          ],
          "name": "stdout"
        }
      ]
    },
    {
      "cell_type": "code",
      "metadata": {
        "colab": {
          "base_uri": "https://localhost:8080/"
        },
        "id": "_6GFZfKRtRzt",
        "outputId": "92008ec8-6616-4dc2-a1e2-ee688451141b"
      },
      "source": [
        "!ls -l"
      ],
      "execution_count": 2,
      "outputs": [
        {
          "output_type": "stream",
          "text": [
            "total 12\n",
            "drwxr-xr-x 2 root root 4096 Aug  5 05:06 __pycache__\n",
            "drwxr-xr-x 1 root root 4096 Jul 16 13:20 sample_data\n",
            "-rw-r--r-- 1 root root   48 Aug  5 05:05 U45_square2.py\n"
          ],
          "name": "stdout"
        }
      ]
    },
    {
      "cell_type": "code",
      "metadata": {
        "colab": {
          "base_uri": "https://localhost:8080/"
        },
        "id": "HNMWZyoguH9K",
        "outputId": "fe96f2de-686d-4d99-d14f-1044441a52dd"
      },
      "source": [
        "!ls -l __pycache__"
      ],
      "execution_count": 3,
      "outputs": [
        {
          "output_type": "stream",
          "text": [
            "total 4\n",
            "-rw-r--r-- 1 root root 225 Aug  5 05:06 U45_square2.cpython-37.pyc\n"
          ],
          "name": "stdout"
        }
      ]
    },
    {
      "cell_type": "markdown",
      "metadata": {
        "id": "M4d5nMvvvtbA"
      },
      "source": [
        "### 클래스"
      ]
    },
    {
      "cell_type": "code",
      "metadata": {
        "colab": {
          "base_uri": "https://localhost:8080/"
        },
        "id": "DA-9PqzguR9v",
        "outputId": "a82c2e0b-1ed6-4d3d-84a0-c5373eac25db"
      },
      "source": [
        "from U45_person import Person\n",
        "\n",
        "maria = Person('마리아', 25, '서울시 강남구 도곡동')\n",
        "maria.greeting()"
      ],
      "execution_count": 4,
      "outputs": [
        {
          "output_type": "stream",
          "text": [
            "안녕하세요? 저는 마리아입니다. \n"
          ],
          "name": "stdout"
        }
      ]
    },
    {
      "cell_type": "code",
      "metadata": {
        "colab": {
          "base_uri": "https://localhost:8080/"
        },
        "id": "nMBnxojPw7u7",
        "outputId": "190248f9-2383-4999-c189-74c5c80e3d66"
      },
      "source": [
        "# list\n",
        "# ! -> Shell escape를 통해서 ls -l __pycache__ 명령을 실행\n",
        "ls -l __pycache__"
      ],
      "execution_count": 5,
      "outputs": [
        {
          "output_type": "stream",
          "text": [
            "total 8\n",
            "-rw-r--r-- 1 root root 601 Aug  5 05:21 U45_person.cpython-37.pyc\n",
            "-rw-r--r-- 1 root root 225 Aug  5 05:06 U45_square2.cpython-37.pyc\n"
          ],
          "name": "stdout"
        }
      ]
    },
    {
      "cell_type": "code",
      "metadata": {
        "colab": {
          "base_uri": "https://localhost:8080/"
        },
        "id": "TFzOaEozxF3p",
        "outputId": "8f291cf8-49b5-425e-9461-ecb97901babb"
      },
      "source": [
        "# 모듈을 새로 수정했을 때 사용 할 것\n",
        "# remove\n",
        "!rm __pycache__/*"
      ],
      "execution_count": 8,
      "outputs": [
        {
          "output_type": "stream",
          "text": [
            "rm: cannot remove '__pycache__/*': No such file or directory\n"
          ],
          "name": "stdout"
        }
      ]
    },
    {
      "cell_type": "code",
      "metadata": {
        "colab": {
          "base_uri": "https://localhost:8080/"
        },
        "id": "ZeHPQBVL0yrX",
        "outputId": "e4422883-4df2-4361-9238-ac7e6836df69"
      },
      "source": [
        "!ls -l __pycache__"
      ],
      "execution_count": 7,
      "outputs": [
        {
          "output_type": "stream",
          "text": [
            "total 0\n"
          ],
          "name": "stdout"
        }
      ]
    },
    {
      "cell_type": "markdown",
      "metadata": {
        "id": "J87mEa4X2JrK"
      },
      "source": [
        "## 45.2 모듈과 시작점"
      ]
    },
    {
      "cell_type": "code",
      "metadata": {
        "colab": {
          "base_uri": "https://localhost:8080/"
        },
        "id": "bDEBTEqK000z",
        "outputId": "92860691-ab7d-4039-f319-49ba067048b2"
      },
      "source": [
        "!python U45_square2.py"
      ],
      "execution_count": 2,
      "outputs": [
        {
          "output_type": "stream",
          "text": [
            "2\n",
            "1024\n"
          ],
          "name": "stdout"
        }
      ]
    },
    {
      "cell_type": "code",
      "metadata": {
        "colab": {
          "base_uri": "https://localhost:8080/"
        },
        "id": "v8MPssw92WC_",
        "outputId": "e81299d1-10c9-41fb-bb20-e08240c62d6d"
      },
      "source": [
        "a = [1, 2, 3]\n",
        "dir(a)"
      ],
      "execution_count": 4,
      "outputs": [
        {
          "output_type": "execute_result",
          "data": {
            "text/plain": [
              "['__add__',\n",
              " '__class__',\n",
              " '__contains__',\n",
              " '__delattr__',\n",
              " '__delitem__',\n",
              " '__dir__',\n",
              " '__doc__',\n",
              " '__eq__',\n",
              " '__format__',\n",
              " '__ge__',\n",
              " '__getattribute__',\n",
              " '__getitem__',\n",
              " '__gt__',\n",
              " '__hash__',\n",
              " '__iadd__',\n",
              " '__imul__',\n",
              " '__init__',\n",
              " '__init_subclass__',\n",
              " '__iter__',\n",
              " '__le__',\n",
              " '__len__',\n",
              " '__lt__',\n",
              " '__mul__',\n",
              " '__ne__',\n",
              " '__new__',\n",
              " '__reduce__',\n",
              " '__reduce_ex__',\n",
              " '__repr__',\n",
              " '__reversed__',\n",
              " '__rmul__',\n",
              " '__setattr__',\n",
              " '__setitem__',\n",
              " '__sizeof__',\n",
              " '__str__',\n",
              " '__subclasshook__',\n",
              " 'append',\n",
              " 'clear',\n",
              " 'copy',\n",
              " 'count',\n",
              " 'extend',\n",
              " 'index',\n",
              " 'insert',\n",
              " 'pop',\n",
              " 'remove',\n",
              " 'reverse',\n",
              " 'sort']"
            ]
          },
          "metadata": {
            "tags": []
          },
          "execution_count": 4
        }
      ]
    },
    {
      "cell_type": "code",
      "metadata": {
        "colab": {
          "base_uri": "https://localhost:8080/"
        },
        "id": "lzh1Mk2X2-EB",
        "outputId": "b162ecc8-647b-4d6a-b564-0fa5aa56e00e"
      },
      "source": [
        "import U45_hello"
      ],
      "execution_count": 6,
      "outputs": [
        {
          "output_type": "stream",
          "text": [
            "hello 모듈 시작\n",
            "hello.py __name__ U45_hello\n",
            "hello 모듈 끝\n"
          ],
          "name": "stdout"
        }
      ]
    },
    {
      "cell_type": "code",
      "metadata": {
        "colab": {
          "base_uri": "https://localhost:8080/"
        },
        "id": "8ooj-NCX-3Q9",
        "outputId": "1ac363c2-c7d3-4361-c948-684520150e9d"
      },
      "source": [
        "!python U45_hello.py"
      ],
      "execution_count": 7,
      "outputs": [
        {
          "output_type": "stream",
          "text": [
            "hello 모듈 시작\n",
            "hello.py __name__ __main__\n",
            "hello 모듈 끝\n"
          ],
          "name": "stdout"
        }
      ]
    },
    {
      "cell_type": "markdown",
      "metadata": {
        "id": "DC10wxcXAWYo"
      },
      "source": [
        "### Account 클래스를 bank 디렉토리 밑에 util.py라는 이름으로 사용"
      ]
    },
    {
      "cell_type": "code",
      "metadata": {
        "id": "FunbR9kF_Bm8"
      },
      "source": [
        "!mkdir bank"
      ],
      "execution_count": 8,
      "outputs": []
    },
    {
      "cell_type": "code",
      "metadata": {
        "colab": {
          "base_uri": "https://localhost:8080/"
        },
        "id": "CftitLijAr5w",
        "outputId": "655f2f61-35e6-4eb0-d4fa-d0ad2f854fb7"
      },
      "source": [
        "!ls -l"
      ],
      "execution_count": 9,
      "outputs": [
        {
          "output_type": "stream",
          "text": [
            "total 24\n",
            "drwxr-xr-x 2 root root 4096 Aug  5 06:31 bank\n",
            "drwxr-xr-x 2 root root 4096 Aug  5 06:24 __pycache__\n",
            "drwxr-xr-x 1 root root 4096 Jul 16 13:20 sample_data\n",
            "-rw-r--r-- 1 root root   93 Aug  5 06:23 U45_hello.py\n",
            "-rw-r--r-- 1 root root  224 Aug  5 05:21 U45_person.py\n",
            "-rw-r--r-- 1 root root  117 Aug  5 05:44 U45_square2.py\n"
          ],
          "name": "stdout"
        }
      ]
    },
    {
      "cell_type": "code",
      "metadata": {
        "id": "8GmB3-zqAwC2"
      },
      "source": [
        "from bank.U45_Util import Account"
      ],
      "execution_count": 11,
      "outputs": []
    },
    {
      "cell_type": "code",
      "metadata": {
        "colab": {
          "base_uri": "https://localhost:8080/"
        },
        "id": "DVZXE9JHBmQZ",
        "outputId": "9de12174-3fe6-4882-89e5-283639c02e07"
      },
      "source": [
        "!ls -l bank"
      ],
      "execution_count": 12,
      "outputs": [
        {
          "output_type": "stream",
          "text": [
            "total 8\n",
            "drwxr-xr-x 2 root root 4096 Aug  5 06:36 __pycache__\n",
            "-rw-r--r-- 1 root root  670 Aug  5 06:35 U45_Util.py\n"
          ],
          "name": "stdout"
        }
      ]
    },
    {
      "cell_type": "code",
      "metadata": {
        "colab": {
          "base_uri": "https://localhost:8080/"
        },
        "id": "6ni8sIWBBtqK",
        "outputId": "ac6dd891-bb06-4f51-c4a1-92ddbb46b2be"
      },
      "source": [
        "acc = Account('123456', '제임스', 100000)\n",
        "print(acc)"
      ],
      "execution_count": 13,
      "outputs": [
        {
          "output_type": "stream",
          "text": [
            "계좌번호: 123456, 소유주: 제임스, 잔액:  100,000\n"
          ],
          "name": "stdout"
        }
      ]
    },
    {
      "cell_type": "code",
      "metadata": {
        "id": "3BUh-SNJB6c7"
      },
      "source": [
        ""
      ],
      "execution_count": null,
      "outputs": []
    }
  ]
}