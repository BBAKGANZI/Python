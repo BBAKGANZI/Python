{
  "nbformat": 4,
  "nbformat_minor": 0,
  "metadata": {
    "colab": {
      "name": "U27_파일.ipynb",
      "provenance": [],
      "collapsed_sections": []
    },
    "kernelspec": {
      "name": "python3",
      "display_name": "Python 3"
    },
    "language_info": {
      "name": "python"
    }
  },
  "cells": [
    {
      "cell_type": "markdown",
      "metadata": {
        "id": "JW58r8HDmqe_"
      },
      "source": [
        "# Unit 27. 파일"
      ]
    },
    {
      "cell_type": "markdown",
      "metadata": {
        "id": "46YBDoj2mtba"
      },
      "source": [
        "## 27.1 문자열 쓰기, 읽기"
      ]
    },
    {
      "cell_type": "code",
      "metadata": {
        "id": "6VjNHeZCmIQp"
      },
      "source": [
        "file = open('hello.txt', 'w')\n",
        "file.write('Hello, world!')\n",
        "file.close()"
      ],
      "execution_count": 4,
      "outputs": []
    },
    {
      "cell_type": "code",
      "metadata": {
        "colab": {
          "base_uri": "https://localhost:8080/"
        },
        "id": "agwtM2PXnEhQ",
        "outputId": "84bec0e3-bbf9-4353-db62-35926623d6ce"
      },
      "source": [
        "!cat hello.txt      # !cat 명령어는 unix 명령어(windows에서는 type)"
      ],
      "execution_count": 8,
      "outputs": [
        {
          "output_type": "stream",
          "text": [
            "Hello, world!"
          ],
          "name": "stdout"
        }
      ]
    },
    {
      "cell_type": "code",
      "metadata": {
        "colab": {
          "base_uri": "https://localhost:8080/"
        },
        "id": "qgbmIJvqnVl5",
        "outputId": "1b3ed056-b9ab-456b-e8d3-6a2016b4a0a7"
      },
      "source": [
        "file = open('hello.txt')    # 'r' mode가 default\n",
        "s = file.read()\n",
        "print(s)\n",
        "file.close()"
      ],
      "execution_count": 9,
      "outputs": [
        {
          "output_type": "stream",
          "text": [
            "Hello, world!\n"
          ],
          "name": "stdout"
        }
      ]
    },
    {
      "cell_type": "markdown",
      "metadata": {
        "id": "HltO8AVhphdj"
      },
      "source": [
        "### 파이썬 스타일"
      ]
    },
    {
      "cell_type": "code",
      "metadata": {
        "colab": {
          "base_uri": "https://localhost:8080/"
        },
        "id": "KPRqAzH1oXnK",
        "outputId": "16410f46-8be4-49c7-c6f9-81af86dfc9b3"
      },
      "source": [
        "with open('hello.txt') as file:\n",
        "    s = file.read()\n",
        "print(s)"
      ],
      "execution_count": 11,
      "outputs": [
        {
          "output_type": "stream",
          "text": [
            "Hello, world!\n"
          ],
          "name": "stdout"
        }
      ]
    },
    {
      "cell_type": "markdown",
      "metadata": {
        "id": "uI0VFdByp-zw"
      },
      "source": [
        "## 27.2 문자열 여러줄"
      ]
    },
    {
      "cell_type": "code",
      "metadata": {
        "id": "fynjXP9TprIV"
      },
      "source": [
        "with open('hello.txt', 'w') as file:\n",
        "    for i in range(3):\n",
        "        file.write(f'Hello, wolrd! {i+1}\\n')"
      ],
      "execution_count": 12,
      "outputs": []
    },
    {
      "cell_type": "code",
      "metadata": {
        "colab": {
          "base_uri": "https://localhost:8080/"
        },
        "id": "kaqGs_XXqzIO",
        "outputId": "7e11998f-0906-4390-9701-7587378f9c22"
      },
      "source": [
        "!cat hello.txt"
      ],
      "execution_count": 13,
      "outputs": [
        {
          "output_type": "stream",
          "text": [
            "Hello, wolrd! 1\n",
            "Hello, wolrd! 2\n",
            "Hello, wolrd! 3\n"
          ],
          "name": "stdout"
        }
      ]
    },
    {
      "cell_type": "code",
      "metadata": {
        "id": "XFMbHi9yq19m"
      },
      "source": [
        "lines = ['안녕하세요.\\n', '파이썬\\n', '코딩도장입니다.\\n']\n",
        "with open('hello.txt', 'w') as file:\n",
        "    file.writelines(lines)"
      ],
      "execution_count": 14,
      "outputs": []
    },
    {
      "cell_type": "code",
      "metadata": {
        "colab": {
          "base_uri": "https://localhost:8080/"
        },
        "id": "gUmYgL6urp4b",
        "outputId": "2650bbae-e203-485e-9d7c-5f9df00cfb3c"
      },
      "source": [
        "!cat hello.txt"
      ],
      "execution_count": 15,
      "outputs": [
        {
          "output_type": "stream",
          "text": [
            "안녕하세요.\n",
            "파이썬\n",
            "코딩도장입니다.\n"
          ],
          "name": "stdout"
        }
      ]
    },
    {
      "cell_type": "code",
      "metadata": {
        "id": "kC0Wm8SCrsRG"
      },
      "source": [
        "s = '''안녕하세요.\n",
        "파이썬\n",
        "코딩도장입니다.'''\n",
        "with open('hello.txt', 'w') as file:\n",
        "    file.write(s)"
      ],
      "execution_count": 17,
      "outputs": []
    },
    {
      "cell_type": "code",
      "metadata": {
        "colab": {
          "base_uri": "https://localhost:8080/"
        },
        "id": "sQqYDRwzsx-X",
        "outputId": "4ee8db01-326b-47f3-dee7-52ce4d76008a"
      },
      "source": [
        "with open('hello.txt') as file:\n",
        "    s = file.read()\n",
        "print(s)"
      ],
      "execution_count": 18,
      "outputs": [
        {
          "output_type": "stream",
          "text": [
            "안녕하세요.\n",
            "파이썬\n",
            "코딩도장입니다.\n"
          ],
          "name": "stdout"
        }
      ]
    },
    {
      "cell_type": "code",
      "metadata": {
        "colab": {
          "base_uri": "https://localhost:8080/"
        },
        "id": "vfesYQbQtDDx",
        "outputId": "1ca44594-7aa4-43e9-e410-cf4defbf3d8a"
      },
      "source": [
        "with open('hello.txt') as file:\n",
        "    s = file.readline()\n",
        "print(s)"
      ],
      "execution_count": 19,
      "outputs": [
        {
          "output_type": "stream",
          "text": [
            "안녕하세요.\n",
            "\n"
          ],
          "name": "stdout"
        }
      ]
    },
    {
      "cell_type": "code",
      "metadata": {
        "colab": {
          "base_uri": "https://localhost:8080/"
        },
        "id": "3MquVvwFta-S",
        "outputId": "422b4911-6795-49fb-8a27-a2ab9aa6afde"
      },
      "source": [
        "with open('hello.txt') as file:\n",
        "    line = None\n",
        "    while line != '':\n",
        "        line = file.readline()\n",
        "        print(line)"
      ],
      "execution_count": 22,
      "outputs": [
        {
          "output_type": "stream",
          "text": [
            "안녕하세요.\n",
            "\n",
            "파이썬\n",
            "\n",
            "코딩도장입니다.\n",
            "\n"
          ],
          "name": "stdout"
        }
      ]
    },
    {
      "cell_type": "code",
      "metadata": {
        "colab": {
          "base_uri": "https://localhost:8080/"
        },
        "id": "Ad0KpjeTt2ql",
        "outputId": "4fbbdd64-dce5-4866-ec5e-b01dc9ef9f18"
      },
      "source": [
        "with open('hello.txt') as file:\n",
        "    line = None\n",
        "    while line != '':\n",
        "        line = file.readline()\n",
        "        print(line.strip('\\n'))"
      ],
      "execution_count": 23,
      "outputs": [
        {
          "output_type": "stream",
          "text": [
            "안녕하세요.\n",
            "파이썬\n",
            "코딩도장입니다.\n",
            "\n"
          ],
          "name": "stdout"
        }
      ]
    },
    {
      "cell_type": "code",
      "metadata": {
        "colab": {
          "base_uri": "https://localhost:8080/"
        },
        "id": "Mne5PynvuA1j",
        "outputId": "bdf26360-66cb-4cfc-dc9d-c3ce7d2fd5d0"
      },
      "source": [
        "with open('hello.txt') as file:\n",
        "    for line in file:\n",
        "        print(line.strip('\\n'))"
      ],
      "execution_count": 24,
      "outputs": [
        {
          "output_type": "stream",
          "text": [
            "안녕하세요.\n",
            "파이썬\n",
            "코딩도장입니다.\n"
          ],
          "name": "stdout"
        }
      ]
    },
    {
      "cell_type": "code",
      "metadata": {
        "colab": {
          "base_uri": "https://localhost:8080/"
        },
        "id": "ThocEYNgydym",
        "outputId": "c7f744ff-78bf-4753-e2a8-3737e477caf8"
      },
      "source": [
        "with open('hello.txt') as file:\n",
        "    s = file.read(10)\n",
        "print(s)"
      ],
      "execution_count": 31,
      "outputs": [
        {
          "output_type": "stream",
          "text": [
            "안녕하세요.\n",
            "파이썬\n"
          ],
          "name": "stdout"
        }
      ]
    },
    {
      "cell_type": "code",
      "metadata": {
        "colab": {
          "base_uri": "https://localhost:8080/"
        },
        "id": "rYMNXKCaxa4v",
        "outputId": "510a3e68-1ad7-4100-b211-c3fc50141b6d"
      },
      "source": [
        "dir(file)       # __iter__ 가 정의되어 있으면 for문 사용가능"
      ],
      "execution_count": 25,
      "outputs": [
        {
          "output_type": "execute_result",
          "data": {
            "text/plain": [
              "['_CHUNK_SIZE',\n",
              " '__class__',\n",
              " '__del__',\n",
              " '__delattr__',\n",
              " '__dict__',\n",
              " '__dir__',\n",
              " '__doc__',\n",
              " '__enter__',\n",
              " '__eq__',\n",
              " '__exit__',\n",
              " '__format__',\n",
              " '__ge__',\n",
              " '__getattribute__',\n",
              " '__getstate__',\n",
              " '__gt__',\n",
              " '__hash__',\n",
              " '__init__',\n",
              " '__init_subclass__',\n",
              " '__iter__',\n",
              " '__le__',\n",
              " '__lt__',\n",
              " '__ne__',\n",
              " '__new__',\n",
              " '__next__',\n",
              " '__reduce__',\n",
              " '__reduce_ex__',\n",
              " '__repr__',\n",
              " '__setattr__',\n",
              " '__sizeof__',\n",
              " '__str__',\n",
              " '__subclasshook__',\n",
              " '_checkClosed',\n",
              " '_checkReadable',\n",
              " '_checkSeekable',\n",
              " '_checkWritable',\n",
              " '_finalizing',\n",
              " 'buffer',\n",
              " 'close',\n",
              " 'closed',\n",
              " 'detach',\n",
              " 'encoding',\n",
              " 'errors',\n",
              " 'fileno',\n",
              " 'flush',\n",
              " 'isatty',\n",
              " 'line_buffering',\n",
              " 'mode',\n",
              " 'name',\n",
              " 'newlines',\n",
              " 'read',\n",
              " 'readable',\n",
              " 'readline',\n",
              " 'readlines',\n",
              " 'reconfigure',\n",
              " 'seek',\n",
              " 'seekable',\n",
              " 'tell',\n",
              " 'truncate',\n",
              " 'writable',\n",
              " 'write',\n",
              " 'write_through',\n",
              " 'writelines']"
            ]
          },
          "metadata": {
            "tags": []
          },
          "execution_count": 25
        }
      ]
    },
    {
      "cell_type": "code",
      "metadata": {
        "colab": {
          "base_uri": "https://localhost:8080/"
        },
        "id": "kBDXisy4xjZ0",
        "outputId": "b3399a9d-4bc8-4e4b-d4e0-92d26c52bce8"
      },
      "source": [
        "x = {'a':10, 'b':20}\n",
        "dir(x)"
      ],
      "execution_count": 27,
      "outputs": [
        {
          "output_type": "execute_result",
          "data": {
            "text/plain": [
              "['__class__',\n",
              " '__contains__',\n",
              " '__delattr__',\n",
              " '__delitem__',\n",
              " '__dir__',\n",
              " '__doc__',\n",
              " '__eq__',\n",
              " '__format__',\n",
              " '__ge__',\n",
              " '__getattribute__',\n",
              " '__getitem__',\n",
              " '__gt__',\n",
              " '__hash__',\n",
              " '__init__',\n",
              " '__init_subclass__',\n",
              " '__iter__',\n",
              " '__le__',\n",
              " '__len__',\n",
              " '__lt__',\n",
              " '__ne__',\n",
              " '__new__',\n",
              " '__reduce__',\n",
              " '__reduce_ex__',\n",
              " '__repr__',\n",
              " '__setattr__',\n",
              " '__setitem__',\n",
              " '__sizeof__',\n",
              " '__str__',\n",
              " '__subclasshook__',\n",
              " 'clear',\n",
              " 'copy',\n",
              " 'fromkeys',\n",
              " 'get',\n",
              " 'items',\n",
              " 'keys',\n",
              " 'pop',\n",
              " 'popitem',\n",
              " 'setdefault',\n",
              " 'update',\n",
              " 'values']"
            ]
          },
          "metadata": {
            "tags": []
          },
          "execution_count": 27
        }
      ]
    },
    {
      "cell_type": "code",
      "metadata": {
        "colab": {
          "base_uri": "https://localhost:8080/"
        },
        "id": "I4Gp7CNdxun6",
        "outputId": "d740bdf8-4f04-4f33-cfb0-16c62abb0490"
      },
      "source": [
        "for a in x:\n",
        "    print(a)"
      ],
      "execution_count": 30,
      "outputs": [
        {
          "output_type": "stream",
          "text": [
            "a\n",
            "b\n"
          ],
          "name": "stdout"
        }
      ]
    },
    {
      "cell_type": "markdown",
      "metadata": {
        "id": "wOUDMyHHxD6f"
      },
      "source": [
        "### append"
      ]
    },
    {
      "cell_type": "code",
      "metadata": {
        "id": "IyqZxrGXw9uO"
      },
      "source": [
        "with open('hello.txt', 'a') as file:\n",
        "    file.write('Append\\n')"
      ],
      "execution_count": 32,
      "outputs": []
    },
    {
      "cell_type": "code",
      "metadata": {
        "colab": {
          "base_uri": "https://localhost:8080/"
        },
        "id": "GMimkIGezOtD",
        "outputId": "e6137fc9-06c5-4f33-daf5-2e67a2a95a84"
      },
      "source": [
        "!cat hello.txt"
      ],
      "execution_count": 33,
      "outputs": [
        {
          "output_type": "stream",
          "text": [
            "안녕하세요.\n",
            "파이썬\n",
            "코딩도장입니다.Append\n"
          ],
          "name": "stdout"
        }
      ]
    },
    {
      "cell_type": "markdown",
      "metadata": {
        "id": "eYGjY9FNzesh"
      },
      "source": [
        "### binary mode"
      ]
    },
    {
      "cell_type": "code",
      "metadata": {
        "id": "KOCpbNKTzQUE"
      },
      "source": [
        "with open(#사진이름.jpg, 'rb') as bin:\n",
        "          x = bin.read(10)\n",
        "print(x)"
      ],
      "execution_count": null,
      "outputs": []
    },
    {
      "cell_type": "markdown",
      "metadata": {
        "id": "g69A1Shy05U6"
      },
      "source": [
        "## 27.3 파이썬 객체 읽고 쓰기"
      ]
    },
    {
      "cell_type": "code",
      "metadata": {
        "id": "JPmL17fG09Ic"
      },
      "source": [
        "import pickle\n",
        "\n",
        "scores = {'kor':90, 'eng':90, 'mat':80}\n",
        "with open('binary.pkl', 'wb') as file:\n",
        "    pickle.dump(scores, file)"
      ],
      "execution_count": 36,
      "outputs": []
    },
    {
      "cell_type": "code",
      "metadata": {
        "colab": {
          "base_uri": "https://localhost:8080/"
        },
        "id": "p4yWXVcF1h3P",
        "outputId": "0190f955-93e7-4e9e-e048-9af7a80963a7"
      },
      "source": [
        "!cat binary.pkl"
      ],
      "execution_count": 37,
      "outputs": [
        {
          "output_type": "stream",
          "text": [
            "�\u0003}q\u0000(X\u0003\u0000\u0000\u0000korq\u0001KZX\u0003\u0000\u0000\u0000engq\u0002KZX\u0003\u0000\u0000\u0000matq\u0003KPu."
          ],
          "name": "stdout"
        }
      ]
    },
    {
      "cell_type": "code",
      "metadata": {
        "colab": {
          "base_uri": "https://localhost:8080/"
        },
        "id": "shSTjQLU1tFN",
        "outputId": "d3a49edd-d0b0-47a6-c2bd-e116f3407e74"
      },
      "source": [
        "with open('binary.pkl', 'rb') as file:\n",
        "    new_scores = pickle.load(file)\n",
        "\n",
        "new_scores"
      ],
      "execution_count": 38,
      "outputs": [
        {
          "output_type": "execute_result",
          "data": {
            "text/plain": [
              "{'eng': 90, 'kor': 90, 'mat': 80}"
            ]
          },
          "metadata": {
            "tags": []
          },
          "execution_count": 38
        }
      ]
    },
    {
      "cell_type": "code",
      "metadata": {
        "id": "dYJEMvTu2aq-"
      },
      "source": [
        ""
      ],
      "execution_count": null,
      "outputs": []
    }
  ]
}