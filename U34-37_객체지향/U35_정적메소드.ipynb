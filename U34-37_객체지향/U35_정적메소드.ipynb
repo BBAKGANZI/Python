{
  "nbformat": 4,
  "nbformat_minor": 0,
  "metadata": {
    "colab": {
      "name": "U35_정적메소드.ipynb",
      "provenance": [],
      "collapsed_sections": []
    },
    "kernelspec": {
      "name": "python3",
      "display_name": "Python 3"
    },
    "language_info": {
      "name": "python"
    }
  },
  "cells": [
    {
      "cell_type": "markdown",
      "metadata": {
        "id": "xENEqmvbBGHZ"
      },
      "source": [
        "# Unit 35. 정적 메소드"
      ]
    },
    {
      "cell_type": "code",
      "metadata": {
        "id": "U0nSKiDsA56_"
      },
      "source": [
        "class Calc:\n",
        "    @staticmethod\n",
        "    def add(a, b):\n",
        "        print(a + b)"
      ],
      "execution_count": 1,
      "outputs": []
    },
    {
      "cell_type": "code",
      "metadata": {
        "colab": {
          "base_uri": "https://localhost:8080/"
        },
        "id": "Xg3_12cMBVdm",
        "outputId": "98f773c7-4ea8-47d3-ea0a-c3ee90eea4ab"
      },
      "source": [
        "Calc.add(10, 20)        # 인스턴스를 만들지 않고 사용할 수 있는 메소드"
      ],
      "execution_count": 3,
      "outputs": [
        {
          "output_type": "stream",
          "text": [
            "30\n"
          ],
          "name": "stdout"
        }
      ]
    },
    {
      "cell_type": "code",
      "metadata": {
        "id": "1P_xhzK7Bdvs"
      },
      "source": [
        "Math().abs(x)       # 기본 표기법\n",
        "Math.abs(x)         # ()생략됨   <-정적메소드임"
      ],
      "execution_count": null,
      "outputs": []
    }
  ]
}