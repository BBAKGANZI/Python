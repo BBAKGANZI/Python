{
  "nbformat": 4,
  "nbformat_minor": 0,
  "metadata": {
    "colab": {
      "name": "U34_클래스.ipynb",
      "provenance": [],
      "collapsed_sections": []
    },
    "kernelspec": {
      "name": "python3",
      "display_name": "Python 3"
    },
    "language_info": {
      "name": "python"
    }
  },
  "cells": [
    {
      "cell_type": "markdown",
      "metadata": {
        "id": "WuODVSg465iW"
      },
      "source": [
        "# Unit 34. 클래스(Class)"
      ]
    },
    {
      "cell_type": "markdown",
      "metadata": {
        "id": "dv5SeZ_M7V4t"
      },
      "source": [
        "## 34.1 클래스와 메소드 만들기"
      ]
    },
    {
      "cell_type": "code",
      "metadata": {
        "id": "Lbxy_i3V60_B"
      },
      "source": [
        "class Person:           # 클래스 이름은 대문자로 시작\n",
        "    def greeting(self): # 클래스 첫번째 인자는 무조건 self\n",
        "        print('Hello')"
      ],
      "execution_count": 1,
      "outputs": []
    },
    {
      "cell_type": "code",
      "metadata": {
        "id": "GHzI74lz70oW"
      },
      "source": [
        "# 인스턴스를 만들어야 클래스를 사용할 수 있다.\n",
        "james = Person()\n",
        "maria = Person()"
      ],
      "execution_count": 4,
      "outputs": []
    },
    {
      "cell_type": "code",
      "metadata": {
        "colab": {
          "base_uri": "https://localhost:8080/"
        },
        "id": "RgKvcOjL8G2s",
        "outputId": "8958a39a-0b56-4269-9e35-0ede08938975"
      },
      "source": [
        "james.greeting()"
      ],
      "execution_count": 5,
      "outputs": [
        {
          "output_type": "stream",
          "text": [
            "Hello\n"
          ],
          "name": "stdout"
        }
      ]
    },
    {
      "cell_type": "code",
      "metadata": {
        "colab": {
          "base_uri": "https://localhost:8080/"
        },
        "id": "Ci7EVKPI8Txp",
        "outputId": "3df6d49f-0d55-44c9-bbd4-82f3cc03e1a2"
      },
      "source": [
        "maria.greeting()"
      ],
      "execution_count": 6,
      "outputs": [
        {
          "output_type": "stream",
          "text": [
            "Hello\n"
          ],
          "name": "stdout"
        }
      ]
    },
    {
      "cell_type": "code",
      "metadata": {
        "colab": {
          "base_uri": "https://localhost:8080/"
        },
        "id": "7R86oLuW8X9f",
        "outputId": "099fdbc2-dc4a-4b18-8bb3-7d3eb6821977"
      },
      "source": [
        "Person().greeting()"
      ],
      "execution_count": 7,
      "outputs": [
        {
          "output_type": "stream",
          "text": [
            "Hello\n"
          ],
          "name": "stdout"
        }
      ]
    },
    {
      "cell_type": "code",
      "metadata": {
        "id": "uVX1YqNK9loG"
      },
      "source": [
        "# 클래스 내에서 메소드 호출하기\n",
        "class Person:\n",
        "    def greeting(self):\n",
        "        print('Hello')\n",
        "\n",
        "    def hello(self):\n",
        "        self.greeting()"
      ],
      "execution_count": 11,
      "outputs": []
    },
    {
      "cell_type": "code",
      "metadata": {
        "colab": {
          "base_uri": "https://localhost:8080/"
        },
        "id": "-iyPhEx4-PO_",
        "outputId": "ebcd7df6-3dde-4963-bf2b-53d37d7cc62c"
      },
      "source": [
        "james = Person()\n",
        "james.hello()"
      ],
      "execution_count": 13,
      "outputs": [
        {
          "output_type": "stream",
          "text": [
            "Hello\n"
          ],
          "name": "stdout"
        }
      ]
    },
    {
      "cell_type": "code",
      "metadata": {
        "colab": {
          "base_uri": "https://localhost:8080/"
        },
        "id": "biZuGGIA-b1r",
        "outputId": "0cf96bb8-42ba-4432-d939-73d9ca4be17e"
      },
      "source": [
        "isinstance(james, Person)"
      ],
      "execution_count": 15,
      "outputs": [
        {
          "output_type": "execute_result",
          "data": {
            "text/plain": [
              "True"
            ]
          },
          "metadata": {
            "tags": []
          },
          "execution_count": 15
        }
      ]
    },
    {
      "cell_type": "code",
      "metadata": {
        "id": "OlbqXiHP-ln9"
      },
      "source": [
        "def factorial(n):\n",
        "    if not isinstance(n, int) or n < 0:\n",
        "        return None\n",
        "    if n == 0:\n",
        "        return 1\n",
        "    return n*factorial(n-1)"
      ],
      "execution_count": 27,
      "outputs": []
    },
    {
      "cell_type": "code",
      "metadata": {
        "id": "BCL-g8xM_LS4"
      },
      "source": [
        "factorial(3.14)"
      ],
      "execution_count": 28,
      "outputs": []
    },
    {
      "cell_type": "code",
      "metadata": {
        "colab": {
          "base_uri": "https://localhost:8080/"
        },
        "id": "PPahHkI3_ZwL",
        "outputId": "b53a5e95-6a5d-4e10-8577-9736e44fc1e3"
      },
      "source": [
        "factorial(6)"
      ],
      "execution_count": 29,
      "outputs": [
        {
          "output_type": "execute_result",
          "data": {
            "text/plain": [
              "720"
            ]
          },
          "metadata": {
            "tags": []
          },
          "execution_count": 29
        }
      ]
    },
    {
      "cell_type": "markdown",
      "metadata": {
        "id": "IvAjzaau_xGG"
      },
      "source": [
        "## 34.2 속성(Attribute)"
      ]
    },
    {
      "cell_type": "code",
      "metadata": {
        "id": "9ipt1SWc_m1H"
      },
      "source": [
        "class Person:\n",
        "    def __init__(self):\n",
        "        self.hello = '안녕하세요'       # hello 속성을 갖게 됨\n",
        "\n",
        "    def greeting(self):\n",
        "        print(self.hello)"
      ],
      "execution_count": 24,
      "outputs": []
    },
    {
      "cell_type": "code",
      "metadata": {
        "colab": {
          "base_uri": "https://localhost:8080/"
        },
        "id": "lKe32aTYACsf",
        "outputId": "cc37da2a-5df9-4b5a-ab87-5f7774461e08"
      },
      "source": [
        "maria = Person()\n",
        "maria.greeting()"
      ],
      "execution_count": 25,
      "outputs": [
        {
          "output_type": "stream",
          "text": [
            "안녕하세요\n"
          ],
          "name": "stdout"
        }
      ]
    },
    {
      "cell_type": "code",
      "metadata": {
        "colab": {
          "base_uri": "https://localhost:8080/"
        },
        "id": "qyjDNPoYAF57",
        "outputId": "14c53eb7-a001-41df-f5ad-1395be87f4d4"
      },
      "source": [
        "maria.hello = 'How are you?'\n",
        "maria.greeting()"
      ],
      "execution_count": 30,
      "outputs": [
        {
          "output_type": "stream",
          "text": [
            "How are you?\n"
          ],
          "name": "stdout"
        }
      ]
    },
    {
      "cell_type": "code",
      "metadata": {
        "id": "mhgQcNUPAo2C"
      },
      "source": [
        "class Person:\n",
        "    def __init__(self, hello):          # Constructor\n",
        "        self.hello = hello\n",
        "\n",
        "    def greeting(self):\n",
        "        print(self.hello)"
      ],
      "execution_count": 31,
      "outputs": []
    },
    {
      "cell_type": "code",
      "metadata": {
        "id": "xc-Cv5GZBqiP"
      },
      "source": [
        "james = Person('안녕하세요?')\n",
        "maria = Person('How are you?')"
      ],
      "execution_count": 32,
      "outputs": []
    },
    {
      "cell_type": "code",
      "metadata": {
        "colab": {
          "base_uri": "https://localhost:8080/"
        },
        "id": "7f__t6ANB2IK",
        "outputId": "152cbf85-5672-4f3f-8342-562af69ed7eb"
      },
      "source": [
        "james.greeting()\n",
        "maria.greeting()"
      ],
      "execution_count": 33,
      "outputs": [
        {
          "output_type": "stream",
          "text": [
            "안녕하세요?\n",
            "How are you?\n"
          ],
          "name": "stdout"
        }
      ]
    },
    {
      "cell_type": "code",
      "metadata": {
        "id": "fTzKxKA2B6og"
      },
      "source": [
        "class Person:\n",
        "    def __init__(self, name, age, addr):\n",
        "        self.hello = '안녕하세요?'\n",
        "        self.name = name\n",
        "        self.age = age\n",
        "        self.addr = addr\n",
        "\n",
        "    def greeting(self):\n",
        "        print(f'{self.hello} 저는 {self.name}입니다.')"
      ],
      "execution_count": 34,
      "outputs": []
    },
    {
      "cell_type": "code",
      "metadata": {
        "colab": {
          "base_uri": "https://localhost:8080/"
        },
        "id": "fWt3-p_AC_WL",
        "outputId": "773d532a-0225-4266-ec3c-5be27d97227b"
      },
      "source": [
        "maria = Person('마리아', 23, '서울시 강남구 도곡동')\n",
        "maria.greeting()"
      ],
      "execution_count": 36,
      "outputs": [
        {
          "output_type": "stream",
          "text": [
            "안녕하세요? 저는 마리아입니다.\n"
          ],
          "name": "stdout"
        }
      ]
    },
    {
      "cell_type": "code",
      "metadata": {
        "id": "ZuudHjcKDDAI"
      },
      "source": [
        ""
      ],
      "execution_count": null,
      "outputs": []
    }
  ]
}