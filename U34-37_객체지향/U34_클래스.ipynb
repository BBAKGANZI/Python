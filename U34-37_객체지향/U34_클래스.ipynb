{
  "nbformat": 4,
  "nbformat_minor": 0,
  "metadata": {
    "colab": {
      "name": "U34_클래스.ipynb",
      "provenance": [],
      "collapsed_sections": []
    },
    "kernelspec": {
      "name": "python3",
      "display_name": "Python 3"
    },
    "language_info": {
      "name": "python"
    }
  },
  "cells": [
    {
      "cell_type": "markdown",
      "metadata": {
        "id": "WuODVSg465iW"
      },
      "source": [
        "# Unit 34. 클래스(Class)"
      ]
    },
    {
      "cell_type": "markdown",
      "metadata": {
        "id": "dv5SeZ_M7V4t"
      },
      "source": [
        "## 34.1 클래스와 메소드 만들기"
      ]
    },
    {
      "cell_type": "code",
      "metadata": {
        "id": "Lbxy_i3V60_B"
      },
      "source": [
        "class Person:           # 클래스 이름은 대문자로 시작\n",
        "    def greeting(self): # 클래스 첫번째 인자는 무조건 self\n",
        "        print('Hello')"
      ],
      "execution_count": 1,
      "outputs": []
    },
    {
      "cell_type": "code",
      "metadata": {
        "id": "GHzI74lz70oW"
      },
      "source": [
        "# 인스턴스를 만들어야 클래스를 사용할 수 있다.\n",
        "james = Person()\n",
        "maria = Person()"
      ],
      "execution_count": 4,
      "outputs": []
    },
    {
      "cell_type": "code",
      "metadata": {
        "colab": {
          "base_uri": "https://localhost:8080/"
        },
        "id": "RgKvcOjL8G2s",
        "outputId": "8958a39a-0b56-4269-9e35-0ede08938975"
      },
      "source": [
        "james.greeting()"
      ],
      "execution_count": 5,
      "outputs": [
        {
          "output_type": "stream",
          "text": [
            "Hello\n"
          ],
          "name": "stdout"
        }
      ]
    },
    {
      "cell_type": "code",
      "metadata": {
        "colab": {
          "base_uri": "https://localhost:8080/"
        },
        "id": "Ci7EVKPI8Txp",
        "outputId": "3df6d49f-0d55-44c9-bbd4-82f3cc03e1a2"
      },
      "source": [
        "maria.greeting()"
      ],
      "execution_count": 6,
      "outputs": [
        {
          "output_type": "stream",
          "text": [
            "Hello\n"
          ],
          "name": "stdout"
        }
      ]
    },
    {
      "cell_type": "code",
      "metadata": {
        "colab": {
          "base_uri": "https://localhost:8080/"
        },
        "id": "7R86oLuW8X9f",
        "outputId": "099fdbc2-dc4a-4b18-8bb3-7d3eb6821977"
      },
      "source": [
        "Person().greeting()"
      ],
      "execution_count": 7,
      "outputs": [
        {
          "output_type": "stream",
          "text": [
            "Hello\n"
          ],
          "name": "stdout"
        }
      ]
    },
    {
      "cell_type": "code",
      "metadata": {
        "id": "uVX1YqNK9loG"
      },
      "source": [
        "# 클래스 내에서 메소드 호출하기\n",
        "class Person:\n",
        "    def greeting(self):\n",
        "        print('Hello')\n",
        "\n",
        "    def hello(self):\n",
        "        self.greeting()"
      ],
      "execution_count": 11,
      "outputs": []
    },
    {
      "cell_type": "code",
      "metadata": {
        "colab": {
          "base_uri": "https://localhost:8080/"
        },
        "id": "-iyPhEx4-PO_",
        "outputId": "ebcd7df6-3dde-4963-bf2b-53d37d7cc62c"
      },
      "source": [
        "james = Person()\n",
        "james.hello()"
      ],
      "execution_count": 13,
      "outputs": [
        {
          "output_type": "stream",
          "text": [
            "Hello\n"
          ],
          "name": "stdout"
        }
      ]
    },
    {
      "cell_type": "code",
      "metadata": {
        "colab": {
          "base_uri": "https://localhost:8080/"
        },
        "id": "biZuGGIA-b1r",
        "outputId": "0cf96bb8-42ba-4432-d939-73d9ca4be17e"
      },
      "source": [
        "isinstance(james, Person)"
      ],
      "execution_count": 15,
      "outputs": [
        {
          "output_type": "execute_result",
          "data": {
            "text/plain": [
              "True"
            ]
          },
          "metadata": {
            "tags": []
          },
          "execution_count": 15
        }
      ]
    },
    {
      "cell_type": "code",
      "metadata": {
        "id": "OlbqXiHP-ln9"
      },
      "source": [
        "def factorial(n):\n",
        "    if not isinstance(n, int) or n < 0:\n",
        "        return None\n",
        "    if n == 0:\n",
        "        return 1\n",
        "    return n*factorial(n-1)"
      ],
      "execution_count": 27,
      "outputs": []
    },
    {
      "cell_type": "code",
      "metadata": {
        "id": "BCL-g8xM_LS4"
      },
      "source": [
        "factorial(3.14)"
      ],
      "execution_count": 28,
      "outputs": []
    },
    {
      "cell_type": "code",
      "metadata": {
        "colab": {
          "base_uri": "https://localhost:8080/"
        },
        "id": "PPahHkI3_ZwL",
        "outputId": "b53a5e95-6a5d-4e10-8577-9736e44fc1e3"
      },
      "source": [
        "factorial(6)"
      ],
      "execution_count": 29,
      "outputs": [
        {
          "output_type": "execute_result",
          "data": {
            "text/plain": [
              "720"
            ]
          },
          "metadata": {
            "tags": []
          },
          "execution_count": 29
        }
      ]
    },
    {
      "cell_type": "markdown",
      "metadata": {
        "id": "IvAjzaau_xGG"
      },
      "source": [
        "## 34.2 속성(Attribute)"
      ]
    },
    {
      "cell_type": "code",
      "metadata": {
        "id": "9ipt1SWc_m1H"
      },
      "source": [
        "class Person:\n",
        "    def __init__(self):\n",
        "        self.hello = '안녕하세요'       # hello 속성을 갖게 됨\n",
        "\n",
        "    def greeting(self):\n",
        "        print(self.hello)"
      ],
      "execution_count": 24,
      "outputs": []
    },
    {
      "cell_type": "code",
      "metadata": {
        "colab": {
          "base_uri": "https://localhost:8080/"
        },
        "id": "lKe32aTYACsf",
        "outputId": "cc37da2a-5df9-4b5a-ab87-5f7774461e08"
      },
      "source": [
        "maria = Person()\n",
        "maria.greeting()"
      ],
      "execution_count": 25,
      "outputs": [
        {
          "output_type": "stream",
          "text": [
            "안녕하세요\n"
          ],
          "name": "stdout"
        }
      ]
    },
    {
      "cell_type": "code",
      "metadata": {
        "colab": {
          "base_uri": "https://localhost:8080/"
        },
        "id": "qyjDNPoYAF57",
        "outputId": "14c53eb7-a001-41df-f5ad-1395be87f4d4"
      },
      "source": [
        "maria.hello = 'How are you?'\n",
        "maria.greeting()"
      ],
      "execution_count": 30,
      "outputs": [
        {
          "output_type": "stream",
          "text": [
            "How are you?\n"
          ],
          "name": "stdout"
        }
      ]
    },
    {
      "cell_type": "code",
      "metadata": {
        "id": "mhgQcNUPAo2C"
      },
      "source": [
        "class Person:\n",
        "    def __init__(self, hello):          # Constructor\n",
        "        self.hello = hello\n",
        "\n",
        "    def greeting(self):\n",
        "        print(self.hello)"
      ],
      "execution_count": 31,
      "outputs": []
    },
    {
      "cell_type": "code",
      "metadata": {
        "id": "xc-Cv5GZBqiP"
      },
      "source": [
        "james = Person('안녕하세요?')\n",
        "maria = Person('How are you?')"
      ],
      "execution_count": 32,
      "outputs": []
    },
    {
      "cell_type": "code",
      "metadata": {
        "colab": {
          "base_uri": "https://localhost:8080/"
        },
        "id": "7f__t6ANB2IK",
        "outputId": "152cbf85-5672-4f3f-8342-562af69ed7eb"
      },
      "source": [
        "james.greeting()\n",
        "maria.greeting()"
      ],
      "execution_count": 33,
      "outputs": [
        {
          "output_type": "stream",
          "text": [
            "안녕하세요?\n",
            "How are you?\n"
          ],
          "name": "stdout"
        }
      ]
    },
    {
      "cell_type": "code",
      "metadata": {
        "id": "fTzKxKA2B6og"
      },
      "source": [
        "class Person:\n",
        "    def __init__(self, name, age, addr):\n",
        "        self.hello = '안녕하세요?'\n",
        "        self.name = name\n",
        "        self.age = age\n",
        "        self.addr = addr\n",
        "\n",
        "    def greeting(self):\n",
        "        print(f'{self.hello} 저는 {self.name}입니다.')\n",
        "\n",
        "    # JAAVA의 toString() method\n",
        "    def __str__(self):\n",
        "        return f'hello: {self.hello}, name: {self.name}, age\" {self.age}, addr: {self.addr}'"
      ],
      "execution_count": 43,
      "outputs": []
    },
    {
      "cell_type": "code",
      "metadata": {
        "colab": {
          "base_uri": "https://localhost:8080/"
        },
        "id": "fWt3-p_AC_WL",
        "outputId": "d244f2c7-aac1-41c8-b9b8-e9bd1d2cfdcd"
      },
      "source": [
        "maria = Person('마리아', 23, '서울시 강남구 도곡동')\n",
        "maria.greeting()"
      ],
      "execution_count": 44,
      "outputs": [
        {
          "output_type": "stream",
          "text": [
            "안녕하세요? 저는 마리아입니다.\n"
          ],
          "name": "stdout"
        }
      ]
    },
    {
      "cell_type": "code",
      "metadata": {
        "colab": {
          "base_uri": "https://localhost:8080/"
        },
        "id": "ZuudHjcKDDAI",
        "outputId": "59e9765f-4db4-4144-cfd8-1b12902c60be"
      },
      "source": [
        "print(maria)"
      ],
      "execution_count": 45,
      "outputs": [
        {
          "output_type": "stream",
          "text": [
            "hello: 안녕하세요?, name: 마리아, age\" 23, addr: 서울시 강남구 도곡동\n"
          ],
          "name": "stdout"
        }
      ]
    },
    {
      "cell_type": "markdown",
      "metadata": {
        "id": "5C-weK6OVvek"
      },
      "source": [
        "## 34.3 비공개속성"
      ]
    },
    {
      "cell_type": "code",
      "metadata": {
        "colab": {
          "base_uri": "https://localhost:8080/"
        },
        "id": "gpifWM3XVKAO",
        "outputId": "17b993e0-094c-49a1-9d7e-c6b5be01bc62"
      },
      "source": [
        "maria.age = 30\n",
        "print(maria)"
      ],
      "execution_count": 46,
      "outputs": [
        {
          "output_type": "stream",
          "text": [
            "hello: 안녕하세요?, name: 마리아, age\" 30, addr: 서울시 강남구 도곡동\n"
          ],
          "name": "stdout"
        }
      ]
    },
    {
      "cell_type": "code",
      "metadata": {
        "id": "GUr43l_AV_vv"
      },
      "source": [
        "class Person:\n",
        "    def __init__(self, name, age, addr, wallet):\n",
        "        self.name = name\n",
        "        self.age = age\n",
        "        self.addr = addr\n",
        "        self.__wallet = wallet      # __wallet 속성은 비공개\n",
        "\n",
        "    def greeting(self):\n",
        "        print(f'안녕하세요? 저는 {self.name}입니다.')\n",
        "\n",
        "    def pay(self, amount):\n",
        "        if self.__wallet - amount < 0:\n",
        "            print('지갑에 돈이 부족합니다.')\n",
        "            return\n",
        "        self.__wallet -= amount\n",
        "        print(f'지갑에 남은 돈은 {self.__wallet}입니다.')\n",
        "\n",
        "    # JAAVA의 toString() method\n",
        "    def __str__(self):\n",
        "        return f'name: {self.name}, age\" {self.age}, addr: {self.addr}, wallet: {self.__wallet}'"
      ],
      "execution_count": 55,
      "outputs": []
    },
    {
      "cell_type": "code",
      "metadata": {
        "colab": {
          "base_uri": "https://localhost:8080/"
        },
        "id": "jrNs8k-8Wqu1",
        "outputId": "e27ffe54-8430-4b34-c663-dcdfc0d932b6"
      },
      "source": [
        "james = Person('제임스', 27, '서울 강남구 역삼동', 10000)\n",
        "james.greeting()"
      ],
      "execution_count": 56,
      "outputs": [
        {
          "output_type": "stream",
          "text": [
            "안녕하세요? 저는 제임스입니다.\n"
          ],
          "name": "stdout"
        }
      ]
    },
    {
      "cell_type": "code",
      "metadata": {
        "colab": {
          "base_uri": "https://localhost:8080/"
        },
        "id": "SvUklue4W--D",
        "outputId": "c761cae3-c255-4da5-c976-cc6668b90834"
      },
      "source": [
        "print(james)"
      ],
      "execution_count": 57,
      "outputs": [
        {
          "output_type": "stream",
          "text": [
            "name: 제임스, age\" 27, addr: 서울 강남구 역삼동, wallet: 10000\n"
          ],
          "name": "stdout"
        }
      ]
    },
    {
      "cell_type": "code",
      "metadata": {
        "id": "8mBUf5QfXGpk"
      },
      "source": [
        "# __wallet은 비공개 속성이므로 클래스 바깥에서는 변경할 수 없음\n",
        "james.__wallet = 1000000"
      ],
      "execution_count": 58,
      "outputs": []
    },
    {
      "cell_type": "code",
      "metadata": {
        "colab": {
          "base_uri": "https://localhost:8080/"
        },
        "id": "OqRBiBP2XLwL",
        "outputId": "48e8d961-9dfc-484e-e8e3-87e5b50242d9"
      },
      "source": [
        "print(james)"
      ],
      "execution_count": 59,
      "outputs": [
        {
          "output_type": "stream",
          "text": [
            "name: 제임스, age\" 27, addr: 서울 강남구 역삼동, wallet: 10000\n"
          ],
          "name": "stdout"
        }
      ]
    },
    {
      "cell_type": "code",
      "metadata": {
        "colab": {
          "base_uri": "https://localhost:8080/"
        },
        "id": "NkFlwHd_XNjG",
        "outputId": "93514fa3-8873-4005-933b-979012cdf03d"
      },
      "source": [
        "james.pay(5000)"
      ],
      "execution_count": 60,
      "outputs": [
        {
          "output_type": "stream",
          "text": [
            "지갑에 남은 돈은 5000입니다.\n"
          ],
          "name": "stdout"
        }
      ]
    },
    {
      "cell_type": "code",
      "metadata": {
        "colab": {
          "base_uri": "https://localhost:8080/"
        },
        "id": "db987hHSYPox",
        "outputId": "f23b3557-b787-4f26-aa19-9747b560fe20"
      },
      "source": [
        "print(james)"
      ],
      "execution_count": 61,
      "outputs": [
        {
          "output_type": "stream",
          "text": [
            "name: 제임스, age\" 27, addr: 서울 강남구 역삼동, wallet: 5000\n"
          ],
          "name": "stdout"
        }
      ]
    },
    {
      "cell_type": "code",
      "metadata": {
        "colab": {
          "base_uri": "https://localhost:8080/"
        },
        "id": "wp2j6fuJYTbF",
        "outputId": "2b5cdb4f-c641-4a78-ca0a-ea8a39bc6878"
      },
      "source": [
        "james.pay(10000)"
      ],
      "execution_count": 62,
      "outputs": [
        {
          "output_type": "stream",
          "text": [
            "지갑에 돈이 부족합니다.\n"
          ],
          "name": "stdout"
        }
      ]
    },
    {
      "cell_type": "code",
      "metadata": {
        "colab": {
          "base_uri": "https://localhost:8080/"
        },
        "id": "jvthQh0eYXjN",
        "outputId": "c67d7198-4167-422b-c0d2-30cd693268dc"
      },
      "source": [
        "print(james)"
      ],
      "execution_count": 63,
      "outputs": [
        {
          "output_type": "stream",
          "text": [
            "name: 제임스, age\" 27, addr: 서울 강남구 역삼동, wallet: 5000\n"
          ],
          "name": "stdout"
        }
      ]
    },
    {
      "cell_type": "markdown",
      "metadata": {
        "id": "uBacmYbXdQmS"
      },
      "source": [
        "## Account 클래스 만들기\n",
        "###속성\n",
        "- ano: 문자열 6글자, '123456'\n",
        "- owner: 문자열\n",
        "- balance: 잔액, 비공개 속성\n",
        "\n",
        "###Method\n",
        "- 생성자\n",
        "- deposit(amount) 잔액이 1000만원 이상이면 입금할 수 없음\n",
        "- withdraw(amount) 잔액이 0원 미만이면 출금할 수 없음\n",
        "- 출력 가능하게\n"
      ]
    },
    {
      "cell_type": "code",
      "metadata": {
        "id": "XqKElcO8YbEg"
      },
      "source": [
        "class Account:\n",
        "    def __init__(self, ano, owner, balance):\n",
        "        self.ano = ano\n",
        "        self.owner = owner\n",
        "        self.__balance = balance\n",
        "\n",
        "    def deposit(self, amount):\n",
        "        if amount + self.__balance >= 10000000:\n",
        "            print('1000만원 이상은 잔액으로 가져갈 수 없습니다.')\n",
        "            return\n",
        "        self.__balance += amount\n",
        "\n",
        "    def withdraw(self, amount):\n",
        "        if self.__balance - amount < 0:\n",
        "            print('잔액이 부족합니다.')\n",
        "            return\n",
        "        self.__balance -= amount\n",
        "\n",
        "    def __str__(self):\n",
        "        return f'계좌번호: {self.ano}, 소유주: {self.owner}, 잔액:{self.__balance:9,d}'"
      ],
      "execution_count": 93,
      "outputs": []
    },
    {
      "cell_type": "code",
      "metadata": {
        "colab": {
          "base_uri": "https://localhost:8080/"
        },
        "id": "xPqc0_pweCWU",
        "outputId": "e86aedcc-e718-4ecd-a518-380aaa65bbdf"
      },
      "source": [
        "acc = Account('123456', '제임스', 100000)\n",
        "print(acc)"
      ],
      "execution_count": 94,
      "outputs": [
        {
          "output_type": "stream",
          "text": [
            "계좌번호: 123456, 소유주: 제임스, 잔액:  100,000\n"
          ],
          "name": "stdout"
        }
      ]
    },
    {
      "cell_type": "code",
      "metadata": {
        "colab": {
          "base_uri": "https://localhost:8080/"
        },
        "id": "wosd6sdSeSmo",
        "outputId": "0a79eefa-8a72-469e-faff-480d1ece5b69"
      },
      "source": [
        "acc.deposit(3000000)\n",
        "print(acc)"
      ],
      "execution_count": 95,
      "outputs": [
        {
          "output_type": "stream",
          "text": [
            "계좌번호: 123456, 소유주: 제임스, 잔액:3,100,000\n"
          ],
          "name": "stdout"
        }
      ]
    },
    {
      "cell_type": "code",
      "metadata": {
        "colab": {
          "base_uri": "https://localhost:8080/"
        },
        "id": "3-h0ySuIeYB6",
        "outputId": "1c91f372-749f-4a97-fc46-07cd093685dc"
      },
      "source": [
        "acc.deposit(7000000)\n",
        "print(acc)"
      ],
      "execution_count": 96,
      "outputs": [
        {
          "output_type": "stream",
          "text": [
            "1000만원 이상은 잔액으로 가져갈 수 없습니다.\n",
            "계좌번호: 123456, 소유주: 제임스, 잔액:3,100,000\n"
          ],
          "name": "stdout"
        }
      ]
    },
    {
      "cell_type": "code",
      "metadata": {
        "colab": {
          "base_uri": "https://localhost:8080/"
        },
        "id": "wxAsE3-vfNP-",
        "outputId": "1e24a413-3e53-490a-f114-b35d7a97f9f3"
      },
      "source": [
        "acc.withdraw(2000000)\n",
        "print(acc)"
      ],
      "execution_count": 97,
      "outputs": [
        {
          "output_type": "stream",
          "text": [
            "계좌번호: 123456, 소유주: 제임스, 잔액:1,100,000\n"
          ],
          "name": "stdout"
        }
      ]
    },
    {
      "cell_type": "code",
      "metadata": {
        "colab": {
          "base_uri": "https://localhost:8080/"
        },
        "id": "JBYCvjSffRtk",
        "outputId": "064c3a02-d9e9-49c6-8fde-d1ccbb4a5422"
      },
      "source": [
        "acc2 = Account('987432', '마리아', 3000000)\n",
        "print(acc2)"
      ],
      "execution_count": 98,
      "outputs": [
        {
          "output_type": "stream",
          "text": [
            "계좌번호: 987432, 소유주: 마리아, 잔액:3,000,000\n"
          ],
          "name": "stdout"
        }
      ]
    },
    {
      "cell_type": "code",
      "metadata": {
        "id": "uiYILDW9fdE6"
      },
      "source": [
        "acc_list = [acc, acc2]"
      ],
      "execution_count": 99,
      "outputs": []
    },
    {
      "cell_type": "code",
      "metadata": {
        "colab": {
          "base_uri": "https://localhost:8080/"
        },
        "id": "i_RBMBHyffUE",
        "outputId": "bdebb922-02c2-4e7d-cee7-dd250eac364a"
      },
      "source": [
        "for account in acc_list:\n",
        "    print(account)"
      ],
      "execution_count": 100,
      "outputs": [
        {
          "output_type": "stream",
          "text": [
            "계좌번호: 123456, 소유주: 제임스, 잔액:1,100,000\n",
            "계좌번호: 987432, 소유주: 마리아, 잔액:3,000,000\n"
          ],
          "name": "stdout"
        }
      ]
    },
    {
      "cell_type": "markdown",
      "metadata": {
        "id": "HRMXXNFnf2AY"
      },
      "source": [
        "### 1:계좌생성, 2:계좌목록, 3:입금, 4:출금, 5:종료"
      ]
    },
    {
      "cell_type": "code",
      "metadata": {
        "id": "VAkMIgjgj6U9"
      },
      "source": [
        "# 사용자로부터 필요한 정보를 입력 받아서 계좌를 생성함\n",
        "def create_account():\n",
        "    s = input('계좌번호 성명 금액> ').split()       # s가 하나의 리스트가 됨\n",
        "    ano, owner = s[0], s[1]\n",
        "    amount = int(s[2])\n",
        "    acc = Account(ano, owner, amount)\n",
        "    acc_list.append(acc)"
      ],
      "execution_count": 101,
      "outputs": []
    },
    {
      "cell_type": "code",
      "metadata": {
        "id": "MrG0QW5bkByX"
      },
      "source": [
        "# 사용자로부터 필요한 정보를 입력 받아서 계좌에 돈을 입금함\n",
        "def deposit_account():\n",
        "    s = input('계좌번호 금액> ').split()\n",
        "    ano, amount = s[0], int(s[1])\n",
        "    for acc in acc_list:\n",
        "        if acc.ano == ano:\n",
        "            acc.deposit(amount)\n",
        "            return"
      ],
      "execution_count": 107,
      "outputs": []
    },
    {
      "cell_type": "code",
      "metadata": {
        "id": "yVg6_CiekHRz"
      },
      "source": [
        "# 사용자로부터 필요한 정보를 입력 받아서 계좌에서 돈을 출금함\n",
        "def withdraw_account():\n",
        "    s = input('계좌번호 금액> ').split()\n",
        "    ano, amount = s[0], int(s[1])\n",
        "    for acc in acc_list:\n",
        "        if acc.ano == ano:\n",
        "            acc.withdraw(amount)\n",
        "            return"
      ],
      "execution_count": 108,
      "outputs": []
    },
    {
      "cell_type": "code",
      "metadata": {
        "colab": {
          "base_uri": "https://localhost:8080/"
        },
        "id": "09mCIpXmfjgN",
        "outputId": "fd7d2ce9-13b6-43b0-a2e8-2839cff58659"
      },
      "source": [
        "while True:\n",
        "    menu = int(input('1:계좌생성, 2:계좌목록, 3:입금, 4:출금, 5:종료> '))\n",
        "    if menu == 5:\n",
        "        break\n",
        "    if menu == 1:\n",
        "        create_account()\n",
        "    elif menu == 2:\n",
        "        for account in acc_list:\n",
        "            print(account)\n",
        "    elif menu == 3:\n",
        "        deposit_account()\n",
        "    elif menu == 4:\n",
        "        withdraw_account()\n",
        "    else:\n",
        "        print('잘못된 명령어입니다.')\n",
        "\n",
        "    print()"
      ],
      "execution_count": 109,
      "outputs": [
        {
          "output_type": "stream",
          "text": [
            "1:계좌생성, 2:계좌목록, 3:입금, 4:출금, 5:종료> 2\n",
            "계좌번호: 123456, 소유주: 제임스, 잔액:1,100,000\n",
            "계좌번호: 987432, 소유주: 마리아, 잔액:3,000,000\n",
            "\n",
            "1:계좌생성, 2:계좌목록, 3:입금, 4:출금, 5:종료> 3\n",
            "계좌번호 금액> 123456 100000\n",
            "\n",
            "1:계좌생성, 2:계좌목록, 3:입금, 4:출금, 5:종료> 2\n",
            "계좌번호: 123456, 소유주: 제임스, 잔액:1,200,000\n",
            "계좌번호: 987432, 소유주: 마리아, 잔액:3,000,000\n",
            "\n",
            "1:계좌생성, 2:계좌목록, 3:입금, 4:출금, 5:종료> 4\n",
            "계좌번호 금액> 123456 200000\n",
            "\n",
            "1:계좌생성, 2:계좌목록, 3:입금, 4:출금, 5:종료> 5\n"
          ],
          "name": "stdout"
        }
      ]
    },
    {
      "cell_type": "code",
      "metadata": {
        "id": "-P421G98kL_O"
      },
      "source": [
        ""
      ],
      "execution_count": null,
      "outputs": []
    }
  ]
}