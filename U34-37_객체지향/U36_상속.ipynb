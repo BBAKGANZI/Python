{
  "nbformat": 4,
  "nbformat_minor": 0,
  "metadata": {
    "colab": {
      "name": "U36_상속.ipynb",
      "provenance": [],
      "collapsed_sections": []
    },
    "kernelspec": {
      "name": "python3",
      "display_name": "Python 3"
    },
    "language_info": {
      "name": "python"
    }
  },
  "cells": [
    {
      "cell_type": "markdown",
      "metadata": {
        "id": "4n7qsi-mwbK4"
      },
      "source": [
        "# Unit 36. 상속(Inheritance)"
      ]
    },
    {
      "cell_type": "markdown",
      "metadata": {
        "id": "wYgn6JkpxuAd"
      },
      "source": [
        "## 36.1 기본 상속"
      ]
    },
    {
      "cell_type": "code",
      "metadata": {
        "id": "azSq92glwGbu"
      },
      "source": [
        "class Person:\n",
        "    def greeting(self):\n",
        "        print('안녕하세요?')\n",
        "\n",
        "class Student(Person):\n",
        "    def study(self):\n",
        "        print('공부하기')"
      ],
      "execution_count": 1,
      "outputs": []
    },
    {
      "cell_type": "code",
      "metadata": {
        "colab": {
          "base_uri": "https://localhost:8080/"
        },
        "id": "gPwPoujnyTBU",
        "outputId": "6ff838a6-0849-4f73-fcef-8b60d931b91e"
      },
      "source": [
        "james = Student()\n",
        "james.greeting()"
      ],
      "execution_count": 2,
      "outputs": [
        {
          "output_type": "stream",
          "text": [
            "안녕하세요?\n"
          ],
          "name": "stdout"
        }
      ]
    },
    {
      "cell_type": "code",
      "metadata": {
        "colab": {
          "base_uri": "https://localhost:8080/"
        },
        "id": "yWn-lPnAygkv",
        "outputId": "cf39ebbf-efd4-4e6d-8f3e-a9bcc8b0a640"
      },
      "source": [
        "james.study()"
      ],
      "execution_count": 3,
      "outputs": [
        {
          "output_type": "stream",
          "text": [
            "공부하기\n"
          ],
          "name": "stdout"
        }
      ]
    },
    {
      "cell_type": "markdown",
      "metadata": {
        "id": "60wt2mnmzfb9"
      },
      "source": [
        "## 36.3 기반 클래스의 속성 사용하기"
      ]
    },
    {
      "cell_type": "code",
      "metadata": {
        "id": "LHY4Q3iyymjg"
      },
      "source": [
        "class Person:\n",
        "    def __init__(self):\n",
        "        self.hello = '안녕하세요?'\n",
        "        print('Person .__init__')\n",
        "\n",
        "class Student(Person):\n",
        "    def __init__(self):\n",
        "        self.school = '파이썬'\n",
        "        print('Student.__init__')"
      ],
      "execution_count": 14,
      "outputs": []
    },
    {
      "cell_type": "code",
      "metadata": {
        "colab": {
          "base_uri": "https://localhost:8080/",
          "height": 53
        },
        "id": "EgYogy2Tz5_Y",
        "outputId": "4bfe512b-3907-4039-e584-7514fa8a14f6"
      },
      "source": [
        "james = Student()\n",
        "james.school"
      ],
      "execution_count": 15,
      "outputs": [
        {
          "output_type": "stream",
          "text": [
            "Student.__init__\n"
          ],
          "name": "stdout"
        },
        {
          "output_type": "execute_result",
          "data": {
            "application/vnd.google.colaboratory.intrinsic+json": {
              "type": "string"
            },
            "text/plain": [
              "'파이썬'"
            ]
          },
          "metadata": {
            "tags": []
          },
          "execution_count": 15
        }
      ]
    },
    {
      "cell_type": "code",
      "metadata": {
        "colab": {
          "base_uri": "https://localhost:8080/",
          "height": 172
        },
        "id": "Ebs-_EE-0WVj",
        "outputId": "3d7216c7-2e37-41b8-b098-ee51c9994761"
      },
      "source": [
        "james.hello"
      ],
      "execution_count": 16,
      "outputs": [
        {
          "output_type": "error",
          "ename": "AttributeError",
          "evalue": "ignored",
          "traceback": [
            "\u001b[0;31m---------------------------------------------------------------------------\u001b[0m",
            "\u001b[0;31mAttributeError\u001b[0m                            Traceback (most recent call last)",
            "\u001b[0;32m<ipython-input-16-da95e56173fd>\u001b[0m in \u001b[0;36m<module>\u001b[0;34m()\u001b[0m\n\u001b[0;32m----> 1\u001b[0;31m \u001b[0mjames\u001b[0m\u001b[0;34m.\u001b[0m\u001b[0mhello\u001b[0m\u001b[0;34m\u001b[0m\u001b[0;34m\u001b[0m\u001b[0m\n\u001b[0m",
            "\u001b[0;31mAttributeError\u001b[0m: 'Student' object has no attribute 'hello'"
          ]
        }
      ]
    },
    {
      "cell_type": "markdown",
      "metadata": {
        "id": "Ri5E_-5Q014W"
      },
      "source": [
        "### super()로 기반 클래스 초기화"
      ]
    },
    {
      "cell_type": "code",
      "metadata": {
        "id": "PRj_2PAr0beU"
      },
      "source": [
        "class Person:\n",
        "    def __init__(self):\n",
        "        self.hello = '안녕하세요?'\n",
        "        print('Person .__init__')\n",
        "\n",
        "class Student(Person):\n",
        "    def __init__(self):\n",
        "        super().__init__()\n",
        "        self.school = '파이썬'\n",
        "        print('Student.__init__')"
      ],
      "execution_count": 12,
      "outputs": []
    },
    {
      "cell_type": "code",
      "metadata": {
        "colab": {
          "base_uri": "https://localhost:8080/",
          "height": 71
        },
        "id": "kDPUZy0d063-",
        "outputId": "8b61f224-c6da-4263-cb3f-d201788f4134"
      },
      "source": [
        "james = Student()\n",
        "james.hello"
      ],
      "execution_count": 13,
      "outputs": [
        {
          "output_type": "stream",
          "text": [
            "Person .__init__\n",
            "Student.__init__\n"
          ],
          "name": "stdout"
        },
        {
          "output_type": "execute_result",
          "data": {
            "application/vnd.google.colaboratory.intrinsic+json": {
              "type": "string"
            },
            "text/plain": [
              "'안녕하세요?'"
            ]
          },
          "metadata": {
            "tags": []
          },
          "execution_count": 13
        }
      ]
    },
    {
      "cell_type": "code",
      "metadata": {
        "id": "enhFRN_V1ADe"
      },
      "source": [
        "class Person:\n",
        "    def __init__(self):\n",
        "        self.hello = '안녕하세요?'\n",
        "        print('Person .__init__')\n",
        "\n",
        "class Student(Person):\n",
        "    pass"
      ],
      "execution_count": 17,
      "outputs": []
    },
    {
      "cell_type": "code",
      "metadata": {
        "colab": {
          "base_uri": "https://localhost:8080/",
          "height": 53
        },
        "id": "NBVp9Uy21Wrv",
        "outputId": "4b768645-671a-4851-c1b4-a5d097a7b13e"
      },
      "source": [
        "maria = Student()\n",
        "maria.hello"
      ],
      "execution_count": 18,
      "outputs": [
        {
          "output_type": "stream",
          "text": [
            "Person .__init__\n"
          ],
          "name": "stdout"
        },
        {
          "output_type": "execute_result",
          "data": {
            "application/vnd.google.colaboratory.intrinsic+json": {
              "type": "string"
            },
            "text/plain": [
              "'안녕하세요?'"
            ]
          },
          "metadata": {
            "tags": []
          },
          "execution_count": 18
        }
      ]
    },
    {
      "cell_type": "markdown",
      "metadata": {
        "id": "ya2UDt6C103J"
      },
      "source": [
        "## 36.4 Method Overriding"
      ]
    },
    {
      "cell_type": "code",
      "metadata": {
        "id": "LjRtmzyr1aMu"
      },
      "source": [
        "class Person:\n",
        "    def greeting(self):\n",
        "        print('How are you?')\n",
        "\n",
        "class Student(Person):\n",
        "    def greeting(self):\n",
        "        print('안녕하세요? 저는 파이썬을 공부하는 학생입니다.')"
      ],
      "execution_count": 22,
      "outputs": []
    },
    {
      "cell_type": "code",
      "metadata": {
        "colab": {
          "base_uri": "https://localhost:8080/"
        },
        "id": "5tIxWAcq2b0g",
        "outputId": "c2e870ef-8530-4863-e5ca-4937483ea08a"
      },
      "source": [
        "james = Student()\n",
        "james.greeting()"
      ],
      "execution_count": 23,
      "outputs": [
        {
          "output_type": "stream",
          "text": [
            "안녕하세요? 저는 파이썬을 공부하는 학생입니다.\n"
          ],
          "name": "stdout"
        }
      ]
    },
    {
      "cell_type": "code",
      "metadata": {
        "id": "rKWny60e2gr6"
      },
      "source": [
        "class Person:\n",
        "    def greeting(self):\n",
        "        print('How are you?')\n",
        "\n",
        "class Student(Person):\n",
        "    def greeting(self):\n",
        "        super().greeting()\n",
        "        print('안녕하세요? 저는 파이썬을 공부하는 학생입니다.')"
      ],
      "execution_count": 24,
      "outputs": []
    },
    {
      "cell_type": "code",
      "metadata": {
        "colab": {
          "base_uri": "https://localhost:8080/"
        },
        "id": "xEkO48WH3ePU",
        "outputId": "2c3c0c44-631d-4c68-8bfa-4ed028a88587"
      },
      "source": [
        "maria = Student()\n",
        "maria.greeting()"
      ],
      "execution_count": 25,
      "outputs": [
        {
          "output_type": "stream",
          "text": [
            "How are you?\n",
            "안녕하세요? 저는 파이썬을 공부하는 학생입니다.\n"
          ],
          "name": "stdout"
        }
      ]
    },
    {
      "cell_type": "markdown",
      "metadata": {
        "id": "OUAvSI4x6C3F"
      },
      "source": [
        "## 36.6 추상 클래스 - Interface"
      ]
    },
    {
      "cell_type": "code",
      "metadata": {
        "id": "7X3jmFbk5QQr"
      },
      "source": [
        "from abc import *\n",
        "\n",
        "class StudentBase(metaclass=ABCMeta):\n",
        "    @abstractmethod                 # decorator\n",
        "    def study(self):\n",
        "        pass\n",
        "\n",
        "    @abstractmethod\n",
        "    def go_to_school(self):\n",
        "        pass"
      ],
      "execution_count": 30,
      "outputs": []
    },
    {
      "cell_type": "code",
      "metadata": {
        "id": "VZvOIS_s-sco"
      },
      "source": [
        "class Student(StudentBase):\n",
        "    def study(self):\n",
        "        print('공부하기')"
      ],
      "execution_count": 31,
      "outputs": []
    },
    {
      "cell_type": "code",
      "metadata": {
        "colab": {
          "base_uri": "https://localhost:8080/",
          "height": 190
        },
        "id": "wlKxddXj_HX0",
        "outputId": "7d019030-6e77-4158-c71d-a6a41424a5eb"
      },
      "source": [
        "james = Student()\n",
        "james.study()"
      ],
      "execution_count": 32,
      "outputs": [
        {
          "output_type": "error",
          "ename": "TypeError",
          "evalue": "ignored",
          "traceback": [
            "\u001b[0;31m---------------------------------------------------------------------------\u001b[0m",
            "\u001b[0;31mTypeError\u001b[0m                                 Traceback (most recent call last)",
            "\u001b[0;32m<ipython-input-32-5f2e5861623e>\u001b[0m in \u001b[0;36m<module>\u001b[0;34m()\u001b[0m\n\u001b[0;32m----> 1\u001b[0;31m \u001b[0mjames\u001b[0m \u001b[0;34m=\u001b[0m \u001b[0mStudent\u001b[0m\u001b[0;34m(\u001b[0m\u001b[0;34m)\u001b[0m\u001b[0;34m\u001b[0m\u001b[0;34m\u001b[0m\u001b[0m\n\u001b[0m\u001b[1;32m      2\u001b[0m \u001b[0mjames\u001b[0m\u001b[0;34m.\u001b[0m\u001b[0mstudy\u001b[0m\u001b[0;34m(\u001b[0m\u001b[0;34m)\u001b[0m\u001b[0;34m\u001b[0m\u001b[0;34m\u001b[0m\u001b[0m\n",
            "\u001b[0;31mTypeError\u001b[0m: Can't instantiate abstract class Student with abstract methods go_to_school"
          ]
        }
      ]
    },
    {
      "cell_type": "code",
      "metadata": {
        "id": "nZxNZskp_Lnc"
      },
      "source": [
        "class Student(StudentBase):\n",
        "    def study(self):\n",
        "        print('공부하기')\n",
        "    def go_to_school(self):\n",
        "        print('학교가기')"
      ],
      "execution_count": 33,
      "outputs": []
    },
    {
      "cell_type": "code",
      "metadata": {
        "colab": {
          "base_uri": "https://localhost:8080/"
        },
        "id": "mu7gepOx_hQn",
        "outputId": "1f598d4a-24c2-43c0-c0dc-b6a976ae99dd"
      },
      "source": [
        "james = Student()\n",
        "james.study()"
      ],
      "execution_count": 34,
      "outputs": [
        {
          "output_type": "stream",
          "text": [
            "공부하기\n"
          ],
          "name": "stdout"
        }
      ]
    },
    {
      "cell_type": "code",
      "metadata": {
        "id": "O613uDWq_lFd"
      },
      "source": [
        ""
      ],
      "execution_count": null,
      "outputs": []
    }
  ]
}