{
  "nbformat": 4,
  "nbformat_minor": 0,
  "metadata": {
    "colab": {
      "name": "U07_출력.ipynb",
      "provenance": [],
      "collapsed_sections": []
    },
    "kernelspec": {
      "name": "python3",
      "display_name": "Python 3"
    },
    "language_info": {
      "name": "python"
    }
  },
  "cells": [
    {
      "cell_type": "markdown",
      "metadata": {
        "id": "4ZGrhoWRZxNW"
      },
      "source": [
        "# Unit 7. 출력"
      ]
    },
    {
      "cell_type": "markdown",
      "metadata": {
        "id": "9ntPX4sQabJn"
      },
      "source": [
        "## 7.1 여러개 값을 출력"
      ]
    },
    {
      "cell_type": "code",
      "metadata": {
        "colab": {
          "base_uri": "https://localhost:8080/"
        },
        "id": "rmGHb-EoZq0g",
        "outputId": "8f897f86-e23a-4cb8-a3d3-d215d43bc0ae"
      },
      "source": [
        "a, b = map(int, input('정수 두개 입력> ').split())\n",
        "a\n",
        "b"
      ],
      "execution_count": 2,
      "outputs": [
        {
          "output_type": "stream",
          "text": [
            "정수 두개 입력> 10 20\n"
          ],
          "name": "stdout"
        },
        {
          "output_type": "execute_result",
          "data": {
            "text/plain": [
              "20"
            ]
          },
          "metadata": {
            "tags": []
          },
          "execution_count": 2
        }
      ]
    },
    {
      "cell_type": "code",
      "metadata": {
        "colab": {
          "base_uri": "https://localhost:8080/"
        },
        "id": "zvOYhFSBZwds",
        "outputId": "c831180f-9106-489b-9c73-fb5ce96e3c33"
      },
      "source": [
        "a, b = map(int, input('정수 두개 입력> ').split())\n",
        "print(a)\n",
        "print(b)"
      ],
      "execution_count": 3,
      "outputs": [
        {
          "output_type": "stream",
          "text": [
            "정수 두개 입력> 10 20\n",
            "10\n",
            "20\n"
          ],
          "name": "stdout"
        }
      ]
    },
    {
      "cell_type": "code",
      "metadata": {
        "colab": {
          "base_uri": "https://localhost:8080/"
        },
        "id": "-GvGXiTiaTJi",
        "outputId": "6aa09a0e-cac1-4f55-fed9-c9bf410d0cbc"
      },
      "source": [
        "print(a, b)"
      ],
      "execution_count": 15,
      "outputs": [
        {
          "output_type": "stream",
          "text": [
            "10 20\n"
          ],
          "name": "stdout"
        }
      ]
    },
    {
      "cell_type": "code",
      "metadata": {
        "colab": {
          "base_uri": "https://localhost:8080/"
        },
        "id": "Ub7VdA1IaovN",
        "outputId": "6274e2e3-6b16-47cd-b6c0-d1692304a9ca"
      },
      "source": [
        "print(a, b, sep=', ')"
      ],
      "execution_count": 5,
      "outputs": [
        {
          "output_type": "stream",
          "text": [
            "10, 20\n"
          ],
          "name": "stdout"
        }
      ]
    },
    {
      "cell_type": "markdown",
      "metadata": {
        "id": "GiOKCpwabCxT"
      },
      "source": [
        "## 7.2 줄바꿈 활용"
      ]
    },
    {
      "cell_type": "code",
      "metadata": {
        "colab": {
          "base_uri": "https://localhost:8080/"
        },
        "id": "fwWfqDSEazED",
        "outputId": "3e88d546-b32c-48fa-b3a4-a355e307cfc1"
      },
      "source": [
        "print(a, b, sep='\\n')"
      ],
      "execution_count": 7,
      "outputs": [
        {
          "output_type": "stream",
          "text": [
            "10\n",
            "20\n"
          ],
          "name": "stdout"
        }
      ]
    },
    {
      "cell_type": "code",
      "metadata": {
        "colab": {
          "base_uri": "https://localhost:8080/"
        },
        "id": "V7Kjt-L5bQM7",
        "outputId": "757f660d-af86-4160-aa22-88729d44beb3"
      },
      "source": [
        "print(a, b, sep='/\\\\')"
      ],
      "execution_count": 10,
      "outputs": [
        {
          "output_type": "stream",
          "text": [
            "10/\\20\n"
          ],
          "name": "stdout"
        }
      ]
    },
    {
      "cell_type": "code",
      "metadata": {
        "colab": {
          "base_uri": "https://localhost:8080/"
        },
        "id": "BAnMjCQ4blcI",
        "outputId": "8723bb2e-181b-45c0-c340-51bedff609c2"
      },
      "source": [
        "print(a)\n",
        "print(b)"
      ],
      "execution_count": 11,
      "outputs": [
        {
          "output_type": "stream",
          "text": [
            "10\n",
            "20\n"
          ],
          "name": "stdout"
        }
      ]
    },
    {
      "cell_type": "code",
      "metadata": {
        "colab": {
          "base_uri": "https://localhost:8080/"
        },
        "id": "JtXrafUBcZgS",
        "outputId": "7ebde5f5-550f-47cf-8ff1-9e10a34c067c"
      },
      "source": [
        "print(a, end=' ')\n",
        "print(b)"
      ],
      "execution_count": 13,
      "outputs": [
        {
          "output_type": "stream",
          "text": [
            "10 20\n"
          ],
          "name": "stdout"
        }
      ]
    },
    {
      "cell_type": "code",
      "metadata": {
        "colab": {
          "base_uri": "https://localhost:8080/"
        },
        "id": "DFMiJ5djcc4m",
        "outputId": "02dddab2-0418-4e9c-9eab-c3c8efb611c5"
      },
      "source": [
        "for i in range(5):\n",
        "  print(i, end=' ')"
      ],
      "execution_count": 16,
      "outputs": [
        {
          "output_type": "stream",
          "text": [
            "0 1 2 3 4 "
          ],
          "name": "stdout"
        }
      ]
    },
    {
      "cell_type": "code",
      "metadata": {
        "id": "CDJU9zDQcwhe"
      },
      "source": [
        ""
      ],
      "execution_count": null,
      "outputs": []
    }
  ]
}